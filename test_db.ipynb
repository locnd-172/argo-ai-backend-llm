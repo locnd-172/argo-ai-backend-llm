{
 "cells": [
  {
   "cell_type": "code",
   "execution_count": 15,
   "id": "initial_id",
   "metadata": {
    "collapsed": true,
    "ExecuteTime": {
     "end_time": "2024-06-27T16:06:26.935043600Z",
     "start_time": "2024-06-27T16:06:26.894044600Z"
    }
   },
   "outputs": [
    {
     "name": "stdout",
     "output_type": "stream",
     "text": [
      "Successfully connected to the database\n",
      "Total number of rows in result: 10\n",
      "Printing each row\n",
      "{'soil_moisture': 14.35, 'soil_temperature': 26.69, 'soil_pH': 6.93, 'soil_conductivity': 0.94}\n",
      "{'soil_moisture': 36.86, 'soil_temperature': 19.59, 'soil_pH': 6.63, 'soil_conductivity': 1.03}\n",
      "{'soil_moisture': 39.34, 'soil_temperature': 20.23, 'soil_pH': 7.15, 'soil_conductivity': 0.35}\n",
      "{'soil_moisture': 47.27, 'soil_temperature': 14.14, 'soil_pH': 5.96, 'soil_conductivity': 1.38}\n",
      "{'soil_moisture': 31.58, 'soil_temperature': 13.63, 'soil_pH': 6.23, 'soil_conductivity': 0.69}\n",
      "{'soil_moisture': 25.16, 'soil_temperature': 27.27, 'soil_pH': 6.25, 'soil_conductivity': 0.3}\n",
      "{'soil_moisture': 30.26, 'soil_temperature': 22.22, 'soil_pH': 7.43, 'soil_conductivity': 0.21}\n",
      "{'soil_moisture': 41.41, 'soil_temperature': 33.53, 'soil_pH': 5.88, 'soil_conductivity': 0.85}\n",
      "{'soil_moisture': 52.72, 'soil_temperature': 14.9, 'soil_pH': 6.93, 'soil_conductivity': 0.68}\n",
      "{'soil_moisture': 32.56, 'soil_temperature': 22.92, 'soil_pH': 6.53, 'soil_conductivity': 1.46}\n",
      "MySQL connection is closed\n"
     ]
    }
   ],
   "source": [
    "import mysql.connector\n",
    "from mysql.connector import Error\n",
    "\n",
    "\n",
    "def connect_and_query(host, database, user, password, query):\n",
    "    try:\n",
    "        # Establish a connection to the database\n",
    "        connection = mysql.connector.connect(\n",
    "            host=host,\n",
    "            database=database,\n",
    "            user=user,\n",
    "            password=password\n",
    "        )\n",
    "\n",
    "        if connection.is_connected():\n",
    "            print(\"Successfully connected to the database\")\n",
    "            cursor = connection.cursor(dictionary=True)\n",
    "            cursor.execute(query)\n",
    "            records = cursor.fetchall()\n",
    "            print(\"Total number of rows in result:\", cursor.rowcount)\n",
    "            print(\"Printing each row\")\n",
    "            for row in records:\n",
    "                print(row)\n",
    "                print(type(row))\n",
    "\n",
    "            cursor.close()\n",
    "            connection.close()\n",
    "            print(\"MySQL connection is closed\")\n",
    "\n",
    "    except Error as e:\n",
    "        print(\"Error while connecting to MySQL\", e)\n",
    "\n",
    "\n",
    "# Example usage:\n",
    "host = 'localhost'\n",
    "database = 'argo_ai'\n",
    "user = 'username'\n",
    "password = 'password'\n",
    "query = \"\"\"SELECT soil_moisture, soil_temperature, soil_pH, soil_conductivity FROM gathering WHERE datetime = \"6/9/2024\" LIMIT 10;\"\"\"\n",
    "\n",
    "connect_and_query(host, database, user, password, query)\n"
   ]
  },
  {
   "cell_type": "code",
   "outputs": [],
   "source": [],
   "metadata": {
    "collapsed": false
   },
   "id": "7f385258045086f3"
  }
 ],
 "metadata": {
  "kernelspec": {
   "display_name": "Python 3",
   "language": "python",
   "name": "python3"
  },
  "language_info": {
   "codemirror_mode": {
    "name": "ipython",
    "version": 2
   },
   "file_extension": ".py",
   "mimetype": "text/x-python",
   "name": "python",
   "nbconvert_exporter": "python",
   "pygments_lexer": "ipython2",
   "version": "2.7.6"
  }
 },
 "nbformat": 4,
 "nbformat_minor": 5
}
