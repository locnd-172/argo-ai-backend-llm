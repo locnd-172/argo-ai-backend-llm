{
 "cells": [
  {
   "cell_type": "code",
   "outputs": [],
   "source": [
    "from src.module.databases.zillizdb.zilliz_client import ZillizClient"
   ],
   "metadata": {
    "collapsed": false
   },
   "id": "f4bb2a49a20f9cc6",
   "execution_count": null
  },
  {
   "cell_type": "code",
   "outputs": [],
   "source": [
    "index = \"argo_documents\"\n",
    "zilliz = ZillizClient(collection_name=index)\n",
    "search_results = zilliz.get_all_documents()\n",
    "len(search_results)"
   ],
   "metadata": {
    "collapsed": false
   },
   "id": "2e45c6c8c98da226",
   "execution_count": null
  },
  {
   "cell_type": "code",
   "outputs": [],
   "source": [
    "import pandas as pd\n",
    "\n",
    "df = pd.DataFrame(search_results)\n",
    "df.shape"
   ],
   "metadata": {
    "collapsed": false
   },
   "id": "bb6af7d0c175a2e9",
   "execution_count": null
  },
  {
   "cell_type": "code",
   "outputs": [],
   "source": [
    "df.to_excel(\"kb_data.xlsx\", index=False)"
   ],
   "metadata": {
    "collapsed": false
   },
   "id": "7d5973545e0ff07",
   "execution_count": null
  }
 ],
 "metadata": {
  "kernelspec": {
   "display_name": "Python 3",
   "language": "python",
   "name": "python3"
  },
  "language_info": {
   "codemirror_mode": {
    "name": "ipython",
    "version": 2
   },
   "file_extension": ".py",
   "mimetype": "text/x-python",
   "name": "python",
   "nbconvert_exporter": "python",
   "pygments_lexer": "ipython2",
   "version": "2.7.6"
  }
 },
 "nbformat": 4,
 "nbformat_minor": 5
}
