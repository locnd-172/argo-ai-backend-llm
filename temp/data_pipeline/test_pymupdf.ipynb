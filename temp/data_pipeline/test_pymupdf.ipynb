{
 "cells": [
  {
   "cell_type": "code",
   "execution_count": 1,
   "metadata": {},
   "outputs": [],
   "source": [
    "import re\n",
    "\n",
    "import pymupdf4llm\n",
    "from IPython.display import Markdown, display\n",
    "\n",
    "from chunking import chunking_flow"
   ]
  },
  {
   "cell_type": "code",
   "execution_count": 2,
   "metadata": {},
   "outputs": [],
   "source": [
    "# md_text = pymupdf4llm.to_markdown(\"./Phu-luc-giong-LÚA.pdf\")\n",
    "\n",
    "\n",
    "# def remove_empty_lines(text):\n",
    "#     return re.sub(r\"\\n\\s*\\n\", \"\\n\", text)\n",
    "\n",
    "\n",
    "# md_text = remove_empty_lines(md_text)"
   ]
  },
  {
   "cell_type": "code",
   "execution_count": 3,
   "metadata": {},
   "outputs": [
    {
     "data": {
      "text/markdown": [
       "**Phụ lục**\n",
       "\n",
       "**BẢN CÔNG BỐ THÔNG TIN VỀ GIỐNG CÂY TRỒNG**\n",
       "\n",
       "_(Kèm theo Quyết định số:      /QĐ-TT-CLT ngày   tháng   năm 2024_\n",
       "\n",
       "_của Cục trưởng Cục Trồng trọt)_\n",
       "\n",
       "Tên tổ chức đứng tên đăng ký lưu hành: Công ty CP Giống cây trồng Lộc Trời\n",
       "\n",
       "Địa chỉ: 23 Hà Hoàng Hổ, P. Mỹ Xuyên, TP. Long Xuyên, tỉnh An Giang\n",
       "\n",
       "Công bố các thông tin về giống cây trồng cụ thể như sau:\n",
       "\n",
       "1. Tên giống cây trồng: Giống lúa thuần OM5451\n",
       "\n",
       "2. Thông tin về giống:\n",
       "\n",
       "2.1. Đặc tính giống cây trồng:\n",
       "\n",
       "-  Đặc tính của giống OM5451 qua kết quả khảo nghiệm diện hẹp, khảo nghiệm\n",
       "\n",
       "diện rộng tại một số tỉnh thuộc khu vực Tây Nguyên:\n",
       "\n",
       "\n",
       "|Chỉ tiêu|ĐVT/điểm|Mức độ biểu hiện|\n",
       "|---|---|---|\n",
       "|1. Sức sống của mạ|1-5|Khỏe đến Trung bình|\n",
       "|2. Độ dài giai đoạn trỗ|1-5|Tập trung đến Trung bình|\n",
       "|3. Độ thuần đồng ruộng|1|Độ thuần đồng ruộng cao: Cây khác dạng < 0,3%|\n",
       "|4. Độ thoát cổ bông|1|Thoát hoàn toàn|\n",
       "|5. Độ cứng cây|1|Cứng: cây không bị đổ|\n",
       "|6. Độ tàn lá|1-5|Muộn đến Trung bình|\n",
       "|7. Thời gian sinh trưởng|ngày|92 - 120|\n",
       "|8. Chiều cao cây|cm|75 - 93|\n",
       "|9. Độ rụng hạt|1-5|Khó rụng đến Trung bình|\n",
       "|10. Số bông hữu hiệu|bông/khóm|6,0 - 7,1|\n",
       "|11. Số hạt trên bông|hạt|123,0 - 159,0|\n",
       "|12. Tỷ lệ lép|%|4,3 - 11,1|\n",
       "|13. Khối lương 1000 hạt|gam|25 - 26|\n",
       "|14. Năng suất|tạ/ha|61,72 -94,85|\n",
       "|15. Chất lượng thóc gạo|||\n",
       "|Tỷ lệ gạo lật|%|77,8 - 78,6|\n",
       "|Tỷ lệ gạo xát|%|58,6 - 68,2|\n",
       "|Tỷ lệ gạo nguyên|%|41,8 - 57,8|\n",
       "|Dài hạt gạo|mm|6,72 - 6,93|\n",
       "|Tỷ lệ D/R||3,0 - 3,1|\n",
       "|Tỷ lệ trắng trong|%|85,6 - 93,5|\n",
       "|Độ bạc bụng||Hơi bạc|\n",
       "|Hàm lượng amylose|%|12,23 - 14,54|\n",
       "|Độ bền thể gel||Mềm|\n",
       "|Nhiệt độ hóa hồ||Cao|\n",
       "|16. Chất lượng cơm|điểm|15,4 (khá)|\n",
       "|Mùi thơm|điểm|2,4 - 2,6|\n",
       "|Độ mềm dẻo|điểm|4,0 - 4,2|\n",
       "|Độ trắng|điểm|5,0|\n",
       "|Vị ngon|điểm|3,8|\n",
       "\n",
       "\n",
       "-----\n",
       "\n",
       "-  Vật liệu nhân giống: Chất lượng hạt giống lúa phù hợp quy chuẩn kỹ thuật Quốc\n",
       "\n",
       "\n",
       "gia.\n",
       "\n",
       "\n",
       "\n",
       "-  Kết quả khảo nghiệm có kiểm soát sâu bệnh hại của Viện Bảo vệ thực vật (đánh\n",
       "\n",
       "giá trong điều kiện lây nhiễm nhân tạo) với nguồn sâu bệnh hại thu thập tại vùng Tây\n",
       "Nguyên: Giống phản ứng với rầy nâu: Cấp 5; phản ứng với bệnh đạo ôn: Cấp 5; phản\n",
       "ứng với bệnh bạc lá: Cấp 7.\n",
       "\n",
       "2.2. Hướng dẫn bảo quản:\n",
       "\n",
       "Hạt giống trước khi đưa vào bảo quản phải sạch tạp chất, phơi sấy khô ráo đạt thủy\n",
       "\n",
       "phần an toàn có ẩm độ từ 12 - 12,5%. Hạt giống được bảo quản trong kho lạnh khi trữ\n",
       "lâu; không để chung hạt giống với vật tư nông nghiệp khác…; Kiểm tra định kỳ hàng\n",
       "tháng về tỷ lệ nảy mầm, sâu mọt,…\n",
       "\n",
       "Thời hạn sử dụng: Theo khuyến cáo ngày sản xuất và hạn sử dụng in trên bao bì.\n",
       "\n",
       "2.3. Thời vụ gieo trồng và vùng sản xuất: Vụ đông xuân và hè thu tại vùng Tây\n",
       "\n",
       "Nguyên.\n",
       "\n",
       "2.4. Tóm tắt quy trình gieo trồng và chăm sóc:\n",
       "\n",
       "-  Chuẩn bị và xử lý hạt giống lúa:\n",
       "\n",
       "+ Giống phải được đãi sạch tạp chất, lép lửng trước khi ngâm.\n",
       "\n",
       "+ Lượng giống gieo sạ: Nếu sạ hàng, lượng giống cấp xác nhận từ 80 - 100 kg/ha;\n",
       "\n",
       "Nếu sạ lan, lượng giống cấp xác nhận khoảng 100 - 120 kg/ha. Nếu cấy, gieo mạ sân\n",
       "(lượng giống 50 - 60 kg/ha) và cấy khi mạ được 10 - 15 ngày tuổi.\n",
       "\n",
       "+ Xử lý hạt giống: Ngâm giống trong nước sạch 24 giờ (vụ hè thu) và 36 giờ (vụ\n",
       "\n",
       "đông xuân), thay nước, rửa chua lúa 6 giờ/lần. Tùy phương pháp sạ mà ủ cho hạt giống\n",
       "ra rễ mầm dài hay ngắn, chú ý giữ đủ ấm cho đóng ủ ở vụ đông xuân.\n",
       "\n",
       "-  Biện pháp gieo sạ: Thời gian gieo sạ áp dụng đúng theo khuyến cáo của ngành\n",
       "\n",
       "nông nghiệp địa phương.\n",
       "\n",
       "-  Phân bón: Công thức được khuyến cáo tại vùng Tây Nguyên: 95-105 N + 65-70\n",
       "\n",
       "P2O5 + 60 K2O (kg/ha) (vụ đông xuân); 85-95 N + 65-70 P2O5 + 60 K2O (kg/ha) (vụ hè\n",
       "thu)\n",
       "\n",
       "-  Bón phân dựa theo nhu cầu sinh trưởng và phát triển của cây lúa, tùy theo điều\n",
       "\n",
       "kiện cụ thể của địa phương, từng loại đất và mùa vụ mà có chế độ bón phân phù hợp.\n",
       "Áp dụng kỹ thuật quản lý việc bón phân đạm bằng bảng so màu lá lúa, không nên bón\n",
       "thừa đạm phát sinh nhiều sâu bệnh hại.\n",
       "\n",
       "-  Chăm sóc và phòng trừ sâu bệnh: Áp dụng kỹ thuật sử dụng nước ngập khô xen\n",
       "\n",
       "kẽ. Thường xuyên thăm đồng để đưa ra biện pháp chăm sóc hợp lý, theo dõi phòng trừ\n",
       "sâu bệnh kịp thời theo sự chỉ đạo của cơ quan bảo vệ thực vật của địa phương theo\n",
       "nguyên tắc 4 đúng bằng thuốc đặc trị./.\n",
       "\n",
       "\n",
       "-----\n",
       "\n"
      ],
      "text/plain": [
       "<IPython.core.display.Markdown object>"
      ]
     },
     "metadata": {},
     "output_type": "display_data"
    }
   ],
   "source": [
    "with open('Phu-luc-giong-LÚA.pdf', 'r') as file:\n",
    "    md_text = pymupdf4llm.to_markdown(file)\n",
    "    display(Markdown(md_text))"
   ]
  },
  {
   "cell_type": "code",
   "execution_count": 4,
   "metadata": {},
   "outputs": [
    {
     "name": "stdout",
     "output_type": "stream",
     "text": [
      "type md\n",
      "md splits\n",
      "[Document(page_content='**Phụ lục**  \\n**BẢN CÔNG BỐ THÔNG TIN VỀ GIỐNG CÂY TRỒNG**  \\n_(Kèm theo Quyết định số:      /QĐ-TT-CLT ngày   tháng   năm 2024_  \\n_của Cục trưởng Cục Trồng trọt)_  \\nTên tổ chức đứng tên đăng ký lưu hành: Công ty CP Giống cây trồng Lộc Trời  \\nĐịa chỉ: 23 Hà Hoàng Hổ, P. Mỹ Xuyên, TP. Long Xuyên, tỉnh An Giang  \\nCông bố các thông tin về giống cây trồng cụ thể như sau:  \\n1. Tên giống cây trồng: Giống lúa thuần OM5451  \\n2. Thông tin về giống:  \\n2.1. Đặc tính giống cây trồng:  \\n-  Đặc tính của giống OM5451 qua kết quả khảo nghiệm diện hẹp, khảo nghiệm  \\ndiện rộng tại một số tỉnh thuộc khu vực Tây Nguyên:  \\n|Chỉ tiêu|ĐVT/điểm|Mức độ biểu hiện|\\n|---|---|---|\\n|1. Sức sống của mạ|1-5|Khỏe đến Trung bình|\\n|2. Độ dài giai đoạn trỗ|1-5|Tập trung đến Trung bình|\\n|3. Độ thuần đồng ruộng|1|Độ thuần đồng ruộng cao: Cây khác dạng < 0,3%|\\n|4. Độ thoát cổ bông|1|Thoát hoàn toàn|\\n|5. Độ cứng cây|1|Cứng: cây không bị đổ|\\n|6. Độ tàn lá|1-5|Muộn đến Trung bình|\\n|7. Thời gian sinh trưởng|ngày|92 - 120|\\n|8. Chiều cao cây|cm|75 - 93|\\n|9. Độ rụng hạt|1-5|Khó rụng đến Trung bình|\\n|10. Số bông hữu hiệu|bông/khóm|6,0 - 7,1|\\n|11. Số hạt trên bông|hạt|123,0 - 159,0|\\n|12. Tỷ lệ lép|%|4,3 - 11,1|\\n|13. Khối lương 1000 hạt|gam|25 - 26|\\n|14. Năng suất|tạ/ha|61,72 -94,85|\\n|15. Chất lượng thóc gạo|||\\n|Tỷ lệ gạo lật|%|77,8 - 78,6|\\n|Tỷ lệ gạo xát|%|58,6 - 68,2|\\n|Tỷ lệ gạo nguyên|%|41,8 - 57,8|\\n|Dài hạt gạo|mm|6,72 - 6,93|\\n|Tỷ lệ D/R||3,0 - 3,1|\\n|Tỷ lệ trắng trong|%|85,6 - 93,5|\\n|Độ bạc bụng||Hơi bạc|\\n|Hàm lượng amylose|%|12,23 - 14,54|\\n|Độ bền thể gel||Mềm|\\n|Nhiệt độ hóa hồ||Cao|\\n|16. Chất lượng cơm|điểm|15,4 (khá)|\\n|Mùi thơm|điểm|2,4 - 2,6|\\n|Độ mềm dẻo|điểm|4,0 - 4,2|\\n|Độ trắng|điểm|5,0|\\n|Vị ngon|điểm|3,8|  \\n-----  \\n-  Vật liệu nhân giống: Chất lượng hạt giống lúa phù hợp quy chuẩn kỹ thuật Quốc  \\ngia.  \\n-  Kết quả khảo nghiệm có kiểm soát sâu bệnh hại của Viện Bảo vệ thực vật (đánh  \\ngiá trong điều kiện lây nhiễm nhân tạo) với nguồn sâu bệnh hại thu thập tại vùng Tây\\nNguyên: Giống phản ứng với rầy nâu: Cấp 5; phản ứng với bệnh đạo ôn: Cấp 5; phản\\nứng với bệnh bạc lá: Cấp 7.  \\n2.2. Hướng dẫn bảo quản:  \\nHạt giống trước khi đưa vào bảo quản phải sạch tạp chất, phơi sấy khô ráo đạt thủy  \\nphần an toàn có ẩm độ từ 12 - 12,5%. Hạt giống được bảo quản trong kho lạnh khi trữ\\nlâu; không để chung hạt giống với vật tư nông nghiệp khác…; Kiểm tra định kỳ hàng\\ntháng về tỷ lệ nảy mầm, sâu mọt,…  \\nThời hạn sử dụng: Theo khuyến cáo ngày sản xuất và hạn sử dụng in trên bao bì.  \\n2.3. Thời vụ gieo trồng và vùng sản xuất: Vụ đông xuân và hè thu tại vùng Tây  \\nNguyên.  \\n2.4. Tóm tắt quy trình gieo trồng và chăm sóc:  \\n-  Chuẩn bị và xử lý hạt giống lúa:  \\n+ Giống phải được đãi sạch tạp chất, lép lửng trước khi ngâm.  \\n+ Lượng giống gieo sạ: Nếu sạ hàng, lượng giống cấp xác nhận từ 80 - 100 kg/ha;  \\nNếu sạ lan, lượng giống cấp xác nhận khoảng 100 - 120 kg/ha. Nếu cấy, gieo mạ sân\\n(lượng giống 50 - 60 kg/ha) và cấy khi mạ được 10 - 15 ngày tuổi.  \\n+ Xử lý hạt giống: Ngâm giống trong nước sạch 24 giờ (vụ hè thu) và 36 giờ (vụ  \\nđông xuân), thay nước, rửa chua lúa 6 giờ/lần. Tùy phương pháp sạ mà ủ cho hạt giống\\nra rễ mầm dài hay ngắn, chú ý giữ đủ ấm cho đóng ủ ở vụ đông xuân.  \\n-  Biện pháp gieo sạ: Thời gian gieo sạ áp dụng đúng theo khuyến cáo của ngành  \\nnông nghiệp địa phương.  \\n-  Phân bón: Công thức được khuyến cáo tại vùng Tây Nguyên: 95-105 N + 65-70  \\nP2O5 + 60 K2O (kg/ha) (vụ đông xuân); 85-95 N + 65-70 P2O5 + 60 K2O (kg/ha) (vụ hè\\nthu)  \\n-  Bón phân dựa theo nhu cầu sinh trưởng và phát triển của cây lúa, tùy theo điều  \\nkiện cụ thể của địa phương, từng loại đất và mùa vụ mà có chế độ bón phân phù hợp.\\nÁp dụng kỹ thuật quản lý việc bón phân đạm bằng bảng so màu lá lúa, không nên bón\\nthừa đạm phát sinh nhiều sâu bệnh hại.  \\n-  Chăm sóc và phòng trừ sâu bệnh: Áp dụng kỹ thuật sử dụng nước ngập khô xen  \\nkẽ. Thường xuyên thăm đồng để đưa ra biện pháp chăm sóc hợp lý, theo dõi phòng trừ\\nsâu bệnh kịp thời theo sự chỉ đạo của cơ quan bảo vệ thực vật của địa phương theo\\nnguyên tắc 4 đúng bằng thuốc đặc trị./.  \\n-----')]\n",
      "Done processing chunk:   status                              chunk_id  \\\n",
      "0  draft  aaee74d1-b107-4d04-9f8b-aab5b99cbf10   \n",
      "1  draft  a9c99fb3-a51b-4eee-8f9e-5253b054f5a0   \n",
      "\n",
      "                                       chunk_content  \n",
      "0  **Phụ lục**  \\n**BẢN CÔNG BỐ THÔNG TIN VỀ GIỐN...  \n",
      "1  lâu; không để chung hạt giống với vật tư nông ...  \n"
     ]
    }
   ],
   "source": [
    "output = chunking_flow(md_text)"
   ]
  },
  {
   "cell_type": "code",
   "execution_count": 5,
   "metadata": {},
   "outputs": [
    {
     "data": {
      "text/plain": [
       "(3, 3)"
      ]
     },
     "execution_count": 5,
     "metadata": {},
     "output_type": "execute_result"
    }
   ],
   "source": [
    "output.shape"
   ]
  },
  {
   "cell_type": "code",
   "execution_count": null,
   "metadata": {},
   "outputs": [],
   "source": [
    "output.to_excel(\"temp5.xlsx\", index=False)"
   ]
  },
  {
   "cell_type": "code",
   "execution_count": null,
   "metadata": {},
   "outputs": [],
   "source": [
    "md_text = md_text.replace(\"\\n\\n\", \"\\n\")"
   ]
  }
 ],
 "metadata": {
  "kernelspec": {
   "display_name": "Python 3",
   "language": "python",
   "name": "python3"
  },
  "language_info": {
   "codemirror_mode": {
    "name": "ipython",
    "version": 3
   },
   "file_extension": ".py",
   "mimetype": "text/x-python",
   "name": "python",
   "nbconvert_exporter": "python",
   "pygments_lexer": "ipython3",
   "version": "3.10.11"
  }
 },
 "nbformat": 4,
 "nbformat_minor": 2
}
