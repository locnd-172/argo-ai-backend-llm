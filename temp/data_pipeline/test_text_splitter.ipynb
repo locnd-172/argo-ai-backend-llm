{
 "cells": [
  {
   "cell_type": "code",
   "outputs": [],
   "source": [
    "from langchain_text_splitters import HTMLHeaderTextSplitter\n",
    "from langchain.text_splitter import RecursiveCharacterTextSplitter\n",
    "\n",
    "headers_to_split_on = [\n",
    "    (\"h1\", \"h1\"),\n",
    "    (\"h2\", \"h2\"),\n",
    "    (\"h3\", \"h3\"),\n",
    "    (\"h4\", \"h4\"),\n",
    "]\n",
    "\n",
    "html_splitter = HTMLHeaderTextSplitter(headers_to_split_on=headers_to_split_on)\n",
    "\n",
    "html_header_splits = html_splitter.split_text_from_url(\"https://tqc.vn/vietgap-trong-trot-la-gi-va-cac-yeu-cau.htm\")\n",
    "\n",
    "chunk_size = 1500\n",
    "chunk_overlap = 25\n",
    "text_splitter = RecursiveCharacterTextSplitter(\n",
    "    chunk_size=chunk_size, chunk_overlap=chunk_overlap\n",
    ")\n",
    "\n",
    "# Split\n",
    "splits = text_splitter.split_documents(html_header_splits)\n",
    "splits"
   ],
   "metadata": {
    "collapsed": false
   },
   "id": "f141ce2443b17dc8",
   "execution_count": null
  },
  {
   "cell_type": "code",
   "outputs": [],
   "source": [
    "for chunk in splits:\n",
    "    content = chunk.page_content\n",
    "    metadata = chunk.metadata\n",
    "    if len(metadata) > 0:\n",
    "        print(content)\n",
    "        print(f\"metadata: {metadata}\")\n",
    "    print(\"_________\")"
   ],
   "metadata": {
    "collapsed": false
   },
   "id": "a249a930327b12a2",
   "execution_count": null
  },
  {
   "cell_type": "code",
   "outputs": [],
   "source": [
    "from src.utils.helpers import pull_url\n",
    "\n",
    "document_link = \"https://tqc.vn/vietgap-trong-trot-la-gi-va-cac-yeu-cau.htm\"\n",
    "soup = pull_url(document_link)\n",
    "for script in soup([\"script\", \"style\"]):\n",
    "    script.extract()\n",
    "\n",
    "text = soup.get_text()\n",
    "html_content = str(soup)"
   ],
   "metadata": {
    "collapsed": false
   },
   "id": "10e34b7f8e6106fc",
   "execution_count": null
  },
  {
   "cell_type": "code",
   "outputs": [],
   "source": [
    "from IPython.display import Markdown, display\n",
    "from markdownify import markdownify\n",
    "\n",
    "markdown_text = markdownify(\n",
    "    html_content,\n",
    "    heading_style=\"ATX\",  # Use # for headings\n",
    "    strip=[\"img\", \"a\", \"head\"]  # Remove image tags\n",
    ")\n",
    "display(Markdown(markdown_text))"
   ],
   "metadata": {
    "collapsed": false
   },
   "id": "210ab77dbde624cb",
   "execution_count": null
  },
  {
   "cell_type": "code",
   "outputs": [],
   "source": [
    "from langchain_text_splitters import MarkdownHeaderTextSplitter\n",
    "\n",
    "markdown_document = \"# Foo\\n\\n    ## Bar\\n\\nHi this is Jim\\n\\nHi this is Joe\\n\\n ### Boo \\n\\n Hi this is Lance \\n\\n ## Baz\\n\\n Hi this is Molly\"\n",
    "\n",
    "headers_to_split_on = [\n",
    "    (\"#\", \"h1\"),\n",
    "    (\"##\", \"h2\"),\n",
    "    (\"###\", \"h3\"),\n",
    "]\n",
    "\n",
    "markdown_splitter = MarkdownHeaderTextSplitter(headers_to_split_on=headers_to_split_on)\n",
    "md_header_splits = markdown_splitter.split_text(markdown_document)\n",
    "md_header_splits"
   ],
   "metadata": {
    "collapsed": false
   },
   "id": "ce54e400179565eb",
   "execution_count": null
  }
 ],
 "metadata": {
  "kernelspec": {
   "display_name": "Python 3",
   "language": "python",
   "name": "python3"
  },
  "language_info": {
   "codemirror_mode": {
    "name": "ipython",
    "version": 2
   },
   "file_extension": ".py",
   "mimetype": "text/x-python",
   "name": "python",
   "nbconvert_exporter": "python",
   "pygments_lexer": "ipython2",
   "version": "2.7.6"
  }
 },
 "nbformat": 4,
 "nbformat_minor": 5
}
