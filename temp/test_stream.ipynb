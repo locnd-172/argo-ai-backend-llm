{
 "cells": [
  {
   "cell_type": "code",
   "execution_count": 9,
   "id": "initial_id",
   "metadata": {
    "collapsed": true,
    "ExecuteTime": {
     "end_time": "2024-07-13T09:01:28.653745600Z",
     "start_time": "2024-07-13T09:01:18.779605100Z"
    }
   },
   "outputs": [
    {
     "name": "stdout",
     "output_type": "stream",
     "text": [
      "data: {\"\n",
      "\n",
      "data: reasoning\": \"Nông nghiệp bền vững là một phương thức sản xuất nông\n",
      "\n",
      "data:  nghiệp nhằm duy trì và nâng cao năng suất của đất, bảo vệ môi trường\n",
      "\n",
      "data:  và đảm bảo sinh kế cho người nông dân.\", \"response\": \"Nông nghiệp bền vững là một phương thức sản xuất nông nghiệp nhằm duy trì và nâng\n",
      "\n",
      "data:  cao năng suất của đất, bảo vệ môi trường và đảm bảo sinh kế cho người nông dân. Nó tập trung vào việc sử dụng các nguồn lực tự nhiên\n",
      "\n",
      "data:  một cách hiệu quả, giảm thiểu tác động tiêu cực đến môi trường, đồng thời đảm bảo sự công bằng và thịnh vượng cho các thế hệ tương lai.\"}\n"
     ]
    }
   ],
   "source": [
    "import requests\n",
    "\n",
    "url = \"http://localhost:8001/api/v1/chat/generateAnswer\"\n",
    "\n",
    "payload = {'session_id': '1',\n",
    "'sender_message': 'thế nào là nông nghiệp bền vững'}\n",
    "files=[\n",
    "]\n",
    "headers = {}\n",
    "\n",
    "response = requests.request(\"POST\", url, headers=headers, data=payload, files=files)\n",
    "\n",
    "print(response.text)\n"
   ]
  },
  {
   "cell_type": "markdown",
   "source": [],
   "metadata": {
    "collapsed": false
   },
   "id": "12613362a89cddb2"
  },
  {
   "cell_type": "code",
   "outputs": [],
   "source": [
    "curl --location 'http://localhost:8001/api/v1/chat/generateAnswer' --form 'session_id=\"1\"' --form 'sender_message=\"thế nào là nông nghiệp bền vững\"'"
   ],
   "metadata": {
    "collapsed": false
   },
   "id": "6889097ea4e36a29"
  }
 ],
 "metadata": {
  "kernelspec": {
   "display_name": "Python 3",
   "language": "python",
   "name": "python3"
  },
  "language_info": {
   "codemirror_mode": {
    "name": "ipython",
    "version": 2
   },
   "file_extension": ".py",
   "mimetype": "text/x-python",
   "name": "python",
   "nbconvert_exporter": "python",
   "pygments_lexer": "ipython2",
   "version": "2.7.6"
  }
 },
 "nbformat": 4,
 "nbformat_minor": 5
}
