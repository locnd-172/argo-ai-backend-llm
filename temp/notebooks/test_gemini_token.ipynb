{
 "cells": [
  {
   "cell_type": "code",
   "outputs": [],
   "source": [
    "!pip install --upgrade google-cloud-aiplatform[tokenization]"
   ],
   "metadata": {
    "collapsed": false
   },
   "id": "8dd7be2036e80f80",
   "execution_count": null
  },
  {
   "cell_type": "code",
   "outputs": [],
   "source": [
    "!pip show google-cloud-aiplatform"
   ],
   "metadata": {
    "collapsed": false
   },
   "id": "aa886c7a88d4f82f",
   "execution_count": null
  },
  {
   "cell_type": "code",
   "outputs": [],
   "source": [
    "from vertexai.preview import tokenization\n",
    "\n",
    "model_name = \"gemini-1.5-pro\"\n",
    "tokenizer = tokenization.get_tokenizer_for_model(model_name)\n",
    "\n",
    "contents = \"\"\"You are a information extract assistant that help retrieve exact information from user plain message.\n",
    "\"\"\"\n",
    "result = tokenizer.count_tokens(contents)\n",
    "\n",
    "print(f\"{result.total_tokens = :,}\")"
   ],
   "metadata": {
    "collapsed": false
   },
   "id": "def0c6e8e67d95c3",
   "execution_count": null
  }
 ],
 "metadata": {
  "kernelspec": {
   "display_name": "Python 3",
   "language": "python",
   "name": "python3"
  },
  "language_info": {
   "codemirror_mode": {
    "name": "ipython",
    "version": 2
   },
   "file_extension": ".py",
   "mimetype": "text/x-python",
   "name": "python",
   "nbconvert_exporter": "python",
   "pygments_lexer": "ipython2",
   "version": "2.7.6"
  }
 },
 "nbformat": 4,
 "nbformat_minor": 5
}
