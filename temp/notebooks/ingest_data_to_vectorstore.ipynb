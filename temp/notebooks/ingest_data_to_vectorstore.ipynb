{
 "cells": [
  {
   "cell_type": "code",
   "execution_count": 1,
   "id": "initial_id",
   "metadata": {
    "collapsed": true,
    "ExecuteTime": {
     "end_time": "2024-07-21T16:43:38.997941100Z",
     "start_time": "2024-07-21T16:43:38.460916200Z"
    }
   },
   "outputs": [],
   "source": [
    "import pandas as pd"
   ]
  },
  {
   "cell_type": "code",
   "outputs": [],
   "source": [
    "df = pd.read_excel(\"../data/KB_Link.xlsx\")"
   ],
   "metadata": {
    "collapsed": false,
    "ExecuteTime": {
     "end_time": "2024-07-21T16:43:39.538809100Z",
     "start_time": "2024-07-21T16:43:39.001813100Z"
    }
   },
   "id": "4bac004eb7ba86b2",
   "execution_count": 2
  },
  {
   "cell_type": "code",
   "outputs": [
    {
     "data": {
      "text/plain": "(23, 2)"
     },
     "execution_count": 3,
     "metadata": {},
     "output_type": "execute_result"
    }
   ],
   "source": [
    "df.shape"
   ],
   "metadata": {
    "collapsed": false,
    "ExecuteTime": {
     "end_time": "2024-07-21T16:43:39.593693Z",
     "start_time": "2024-07-21T16:43:39.365586500Z"
    }
   },
   "id": "5c53b929ab04b8f8",
   "execution_count": 3
  },
  {
   "cell_type": "code",
   "outputs": [
    {
     "data": {
      "text/plain": "              category                                                url\n0  Cách chọn giống lúa  https://dantocmiennui.vn/ky-thuat-chon-giong-l...\n1  Cách chọn giống lúa  https://bacsicayxanh.vn/cay-trong/lua-nuoc/ky-...\n2  Cách chọn giống lúa  https://hatgiongtruongphuc.vn/blogs/news/6-cac...\n3        Cách bón phân  https://netagro.vn/kien-thuc-nong-nghiep/bon-p...\n4        Cách bón phân  https://agri.vn/bon-phan-cho-lua-dung-quy-trin...",
      "text/html": "<div>\n<style scoped>\n    .dataframe tbody tr th:only-of-type {\n        vertical-align: middle;\n    }\n\n    .dataframe tbody tr th {\n        vertical-align: top;\n    }\n\n    .dataframe thead th {\n        text-align: right;\n    }\n</style>\n<table border=\"1\" class=\"dataframe\">\n  <thead>\n    <tr style=\"text-align: right;\">\n      <th></th>\n      <th>category</th>\n      <th>url</th>\n    </tr>\n  </thead>\n  <tbody>\n    <tr>\n      <th>0</th>\n      <td>Cách chọn giống lúa</td>\n      <td>https://dantocmiennui.vn/ky-thuat-chon-giong-l...</td>\n    </tr>\n    <tr>\n      <th>1</th>\n      <td>Cách chọn giống lúa</td>\n      <td>https://bacsicayxanh.vn/cay-trong/lua-nuoc/ky-...</td>\n    </tr>\n    <tr>\n      <th>2</th>\n      <td>Cách chọn giống lúa</td>\n      <td>https://hatgiongtruongphuc.vn/blogs/news/6-cac...</td>\n    </tr>\n    <tr>\n      <th>3</th>\n      <td>Cách bón phân</td>\n      <td>https://netagro.vn/kien-thuc-nong-nghiep/bon-p...</td>\n    </tr>\n    <tr>\n      <th>4</th>\n      <td>Cách bón phân</td>\n      <td>https://agri.vn/bon-phan-cho-lua-dung-quy-trin...</td>\n    </tr>\n  </tbody>\n</table>\n</div>"
     },
     "execution_count": 4,
     "metadata": {},
     "output_type": "execute_result"
    }
   ],
   "source": [
    "df.head()"
   ],
   "metadata": {
    "collapsed": false,
    "ExecuteTime": {
     "end_time": "2024-07-21T16:43:39.594692900Z",
     "start_time": "2024-07-21T16:43:39.449725400Z"
    }
   },
   "id": "5b096d84a6e65d0",
   "execution_count": 4
  },
  {
   "cell_type": "code",
   "outputs": [],
   "source": [
    "kb_link = \"https://bacsicayxanh.vn/ky-thuat-chon-giong-lua-khoe-post178305.html\""
   ],
   "metadata": {
    "collapsed": false
   },
   "id": "ef91308822c1a857",
   "execution_count": null
  },
  {
   "cell_type": "code",
   "outputs": [],
   "source": [
    "import requests\n",
    "import json\n",
    "\n",
    "url = \"https://argo-ai-llm-lzkpo.ondigitalocean.app/api/v1/docs/uploadLink\"\n",
    "headers = {'Content-Type': 'application/json'}"
   ],
   "metadata": {
    "collapsed": false,
    "ExecuteTime": {
     "end_time": "2024-07-21T16:43:58.313639400Z",
     "start_time": "2024-07-21T16:43:58.297556500Z"
    }
   },
   "id": "fbdf74c12696a187",
   "execution_count": 6
  },
  {
   "cell_type": "code",
   "outputs": [
    {
     "name": "stdout",
     "output_type": "stream",
     "text": [
      "https://dantocmiennui.vn/ky-thuat-chon-giong-lua-khoe-post178305.html\n",
      "{\"STATUS\":true}\n",
      "_________\n",
      "https://bacsicayxanh.vn/cay-trong/lua-nuoc/ky-thuat/cac-giong-lua-cho-nang-suat-cao-hien-nay/152\n",
      "{\"STATUS\":true}\n",
      "_________\n",
      "https://hatgiongtruongphuc.vn/blogs/news/6-cach-lua-chon-hat-lua-giong-phu-hop\n",
      "{\"STATUS\":true}\n",
      "_________\n",
      "https://netagro.vn/kien-thuc-nong-nghiep/bon-phan-cho-lua\n",
      "{\"STATUS\":true}\n",
      "_________\n",
      "https://agri.vn/bon-phan-cho-lua-dung-quy-trinh-va-ky-thuat/\n",
      "{\"response\":\"Unknown error\"}\n",
      "_________\n",
      "https://pse.vn/hoat-dong-kinh-doanh/kien-thuc-nong-nghiep/42-huong-dan-bon-phan-cho-cay-lua.html\n",
      "{\"response\":\"Unknown error\"}\n",
      "_________\n",
      "https://daithanhtech.com/tuoi-nuoc-ruong-va-ky-thuat-quan-ly-nuoc-cho-cay-lua/\n",
      "{\"STATUS\":true}\n",
      "_________\n",
      "https://www.phanbondaihung.com/blogs/news/quan-ly-nuoc-cho-cay-lua\n",
      "{\"STATUS\":true}\n",
      "_________\n",
      "https://bacsicayxanh.vn/cay-trong/lua-nuoc/ky-thuat/ky-thuat-lam-dat-trong-lua/154\n",
      "{\"STATUS\":true}\n",
      "_________\n",
      "https://globalcheck.com.vn/tong-hop-cac-loai-sau-hai-lua-vu-he-thu-2022\n",
      "{\"STATUS\":true}\n",
      "_________\n",
      "https://thegioinongnghiep.com/blogs/cam-nang-cay-lua/tong-hop-nhung-loai-sau-benh-hai-chinh-va-bien-phap-phong-tru-sau-benh-hai-tren-lua\n",
      "{\"STATUS\":true}\n",
      "_________\n",
      "https://ecomco.vn/cac-loai-sau-benh-hai-lua/\n",
      "{\"STATUS\":true}\n",
      "_________\n",
      "https://canhdieuviet.vn/huong-dan-cach-bao-quan-lua-sau-thu-hoach/\n",
      "{\"STATUS\":true}\n",
      "_________\n",
      "https://tigifood.com/blogs/thi-truong-gao/giai-phap-cong-nghe-nang-tam-lua-gao-viet-nam\n",
      "{\"STATUS\":true}\n",
      "_________\n",
      "https://lytuong.net/phuong-phap-lam-kho-phoi-say-va-bao-quan-lua/\n",
      "{\"STATUS\":true}\n",
      "_________\n",
      "https://hagiang.hatrung.thanhhoa.gov.vn/web/an-toan-thuc-pham/11-buoc-san-xuat-theo-quy-trinh-trong-lua-dat-tieu-chuan-vietgap.html\n",
      "{\"STATUS\":true}\n",
      "_________\n",
      "https://isocert.org.vn/quy-trinh-vietgap-cho-cay-lua\n",
      "{\"STATUS\":true}\n",
      "_________\n",
      "https://dangcongsan.vn/chung-suc-xay-dung-nong-thon-moi/tin-tuc-su-kien/nhan-rong-phong-trao-trong-lua-theo-tieu-chuan-global-gap-155646.html\n",
      "{\"STATUS\":true}\n",
      "_________\n",
      "https://trunganrice.com/tieu-chuan-global-gap-la-gi/\n",
      "{\"STATUS\":true}\n",
      "_________\n",
      "https://clv.vn/tieu-chuan-global-gap-la-gi/\n",
      "{\"STATUS\":true}\n",
      "_________\n",
      "https://www.greencert.com.vn/dich-vu/chung-nhan-lua-gao-huu-co-3162.html\n",
      "{\"response\":\"Unknown error\"}\n",
      "_________\n",
      "https://www.issq.org.vn/tin-tuc/trong-gao-huu-co-theo-tcvn11041-5\n",
      "{\"STATUS\":true}\n",
      "_________\n",
      "https://khuyennong.backan.gov.vn/huong-dan-ky-thuat-san-xuat-lua-huu-co/\n",
      "      <!DOCTYPE html>\n",
      "      <html>\n",
      "      <head>\n",
      "          <meta name=\"viewport\" content=\"width=device-width, initial-scale=1\">\n",
      "          <meta name=\"robots\" content=\"noindex\">\n",
      "          <style>body,html{height:100%;margin:0}body{display:flex;align-items:center;justify-content:center;flex-direction:column;-webkit-font-smoothing:antialiased;text-rendering:optimizeLegibility}p{text-align:center;font-family:-apple-system,BlinkMacSystemFont,Segoe UI,Roboto,Oxygen,Ubuntu,Cantarell,Fira Sans,Droid Sans,Helvetica Neue,sans-serif;color:#000;font-size:14px;margin-top:-50px}p.code{font-size:24px;font-weight:500;border-bottom:1px solid #e0e1e2;padding:0 20px 15px}p.text{margin:0}a,a:visited{color:#aaa}</style>\n",
      "      </head>\n",
      "      <body>\n",
      "      <p class=\"code\">\n",
      "        Error\n",
      "      </p>\n",
      "      <p class=\"text\">\n",
      "        We encountered an error when trying to load your application and your page could not be served. Check the logs for your application in the App Platform dashboard.\n",
      "      </p>\n",
      "        <div style=\"display:none;\">\n",
      "          <h1>\n",
      "    upstream_reset_before_response_started{connection_termination} (503 UC)      </h1>\n",
      "          <p data-translate=\"connection_timed_out\">App Platform failed to forward this request to the application.</p>\n",
      "      </div>\n",
      "      </body>\n",
      "      </html>\n",
      "    \n",
      "_________\n"
     ]
    }
   ],
   "source": [
    "for index, row in df.iterrows():\n",
    "    kb_link = row[\"url\"]\n",
    "    print(kb_link)\n",
    "    payload = json.dumps({\"document_link\": kb_link})\n",
    "    response = requests.request(\"POST\", url, headers=headers, data=payload)\n",
    "    print(response.text)\n",
    "    print(\"_________\")"
   ],
   "metadata": {
    "collapsed": false,
    "ExecuteTime": {
     "end_time": "2024-07-21T16:47:23.143937700Z",
     "start_time": "2024-07-21T16:44:02.817620700Z"
    }
   },
   "id": "a593e4f6953c6f48",
   "execution_count": 7
  },
  {
   "cell_type": "code",
   "outputs": [],
   "source": [],
   "metadata": {
    "collapsed": false
   },
   "id": "4772b6a50e5c673a"
  }
 ],
 "metadata": {
  "kernelspec": {
   "display_name": "Python 3",
   "language": "python",
   "name": "python3"
  },
  "language_info": {
   "codemirror_mode": {
    "name": "ipython",
    "version": 2
   },
   "file_extension": ".py",
   "mimetype": "text/x-python",
   "name": "python",
   "nbconvert_exporter": "python",
   "pygments_lexer": "ipython2",
   "version": "2.7.6"
  }
 },
 "nbformat": 4,
 "nbformat_minor": 5
}
