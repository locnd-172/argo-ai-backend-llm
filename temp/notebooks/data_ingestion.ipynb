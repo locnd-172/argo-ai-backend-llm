{
 "cells": [
  {
   "cell_type": "code",
   "source": [
    "import time\n",
    "import pandas as pd\n",
    "from datetime import datetime\n",
    "import firebase_admin\n",
    "from firebase_admin import credentials, firestore"
   ],
   "metadata": {
    "collapsed": false,
    "ExecuteTime": {
     "end_time": "2024-07-27T06:19:50.823787500Z",
     "start_time": "2024-07-27T06:19:48.633117800Z"
    }
   },
   "id": "f6b9d5de2fb5e993",
   "outputs": [],
   "execution_count": 1
  },
  {
   "cell_type": "code",
   "source": [
    "cred = credentials.Certificate('../../src/config/smart-agri-bbd45-firebase-adminsdk-jfpri-5e03cc48f1.json')\n",
    "\n",
    "app = firebase_admin.initialize_app(cred)\n",
    "db = firestore.client()"
   ],
   "metadata": {
    "collapsed": false,
    "ExecuteTime": {
     "end_time": "2024-07-27T06:19:50.883841900Z",
     "start_time": "2024-07-27T06:19:50.822778800Z"
    }
   },
   "id": "adf7825665e47048",
   "outputs": [],
   "execution_count": 2
  },
  {
   "cell_type": "code",
   "source": [
    "bulk_writer = db.bulk_writer()\n",
    "batch = db.batch()\n",
    "collection = db.collection('mrv_system')"
   ],
   "metadata": {
    "collapsed": false,
    "ExecuteTime": {
     "end_time": "2024-07-27T06:19:50.900897200Z",
     "start_time": "2024-07-27T06:19:50.885843500Z"
    }
   },
   "id": "fdd4a140a368189e",
   "outputs": [],
   "execution_count": 3
  },
  {
   "cell_type": "code",
   "source": [
    "location_data = ['latitude', 'longitude', 'district', 'province', 'address']\n",
    "weather_data = ['max_temperature', 'min_temperature', 'wind', 'wind_direction', 'humidity', 'cloud',\n",
    "                'atmospheric_pressure']\n",
    "soil_data = ['soil_moisture', 'soil_moisture_20', 'soil_moisture_40', 'soil_temperature', 'soil_ph',\n",
    "             'soil_conductivity']\n",
    "irrigation_data = ['water_consumed', 'water_recycled', 'irrigation_type', 'days_flooded']\n",
    "pest_data = ['pest_population_counts', 'disease_incidence', 'severity_of_infestations']\n",
    "energy_data = ['diesel', 'gasoline', 'electricity']\n"
   ],
   "metadata": {
    "collapsed": false,
    "ExecuteTime": {
     "end_time": "2024-07-27T06:19:50.918898500Z",
     "start_time": "2024-07-27T06:19:50.902898400Z"
    }
   },
   "id": "baee0768209fb35d",
   "outputs": [],
   "execution_count": 4
  },
  {
   "cell_type": "code",
   "source": [
    "def create_data_item(row):\n",
    "    return {\n",
    "        'fertilize': row.get('fertilize', None),\n",
    "        'weather': {key: row.get(key, None) for key in weather_data},\n",
    "        'pest': {key: row.get(key, None) for key in pest_data},\n",
    "        'irrigation': {key: row.get(key, None) for key in irrigation_data},\n",
    "        'soil': {key: row.get(key, None) for key in soil_data},\n",
    "        'energy': {key: row.get(key, None) for key in energy_data}\n",
    "    }"
   ],
   "metadata": {
    "collapsed": false,
    "ExecuteTime": {
     "end_time": "2024-07-27T06:19:50.933897100Z",
     "start_time": "2024-07-27T06:19:50.918898500Z"
    }
   },
   "id": "1daa1e4746a7e97",
   "outputs": [],
   "execution_count": 5
  },
  {
   "cell_type": "code",
   "source": [
    "def write_data_to_firestore(df):\n",
    "    bulk_writer = db.bulk_writer()\n",
    "\n",
    "    for index, row in df.iterrows():\n",
    "        print(f\"index: {index}\")\n",
    "        data_item = create_data_item(row)\n",
    "        facility = row.get('facility', None)\n",
    "        doc_ref = db.collection(\"mrv_system\").document()\n",
    "        data = {\n",
    "            'plant': str(row['plant']).lower().strip(),\n",
    "            'date': datetime.strptime(\n",
    "                datetime.strptime(row[\"datetime\"].strftime(\"%d/%m/%Y\"), \"%d/%m/%Y\").strftime(\"%Y/%m/%d\"), \"%Y/%m/%d\"),\n",
    "            'facility': str(facility).lower(),\n",
    "            'location': {key: row.get(key, None) for key in location_data},\n",
    "            'data': data_item\n",
    "        }\n",
    "        print(f\"data: {data}\")\n",
    "        print(\"________\")\n",
    "        bulk_writer.set(doc_ref, data)\n",
    "\n",
    "    bulk_writer.flush()"
   ],
   "metadata": {
    "collapsed": false,
    "ExecuteTime": {
     "end_time": "2024-07-27T06:19:50.958899500Z",
     "start_time": "2024-07-27T06:19:50.935906900Z"
    }
   },
   "id": "ae8ea9442b7a91df",
   "outputs": [],
   "execution_count": 6
  },
  {
   "cell_type": "code",
   "source": [
    "df = pd.read_excel('../data/data.xlsx', sheet_name='data_temp')"
   ],
   "metadata": {
    "collapsed": false,
    "ExecuteTime": {
     "end_time": "2024-07-27T06:19:51.464233300Z",
     "start_time": "2024-07-27T06:19:50.950900600Z"
    }
   },
   "id": "3906feede86d76fe",
   "outputs": [],
   "execution_count": 7
  },
  {
   "cell_type": "code",
   "outputs": [],
   "source": [
    "df = df[-20:]"
   ],
   "metadata": {
    "collapsed": false,
    "ExecuteTime": {
     "end_time": "2024-07-27T06:19:51.478350700Z",
     "start_time": "2024-07-27T06:19:51.464233300Z"
    }
   },
   "id": "32534824462c7f23",
   "execution_count": 8
  },
  {
   "cell_type": "code",
   "source": [
    "start = time.time()\n",
    "write_data_to_firestore(df)\n",
    "end = time.time()\n",
    "print(f'Execution time: {end - start} seconds')"
   ],
   "metadata": {
    "collapsed": false,
    "ExecuteTime": {
     "end_time": "2024-07-27T06:19:52.074709800Z",
     "start_time": "2024-07-27T06:19:51.499597400Z"
    }
   },
   "id": "dc31931cdcb81089",
   "outputs": [
    {
     "name": "stdout",
     "output_type": "stream",
     "text": [
      "index: 96\n",
      "data: {'plant': 'rice', 'date': datetime.datetime(2024, 6, 11, 0, 0), 'facility': 'farm1a', 'location': {'latitude': 20.5646621017849, 'longitude': 106.56213138823, 'district': 'Thai Thuy', 'province': 'Thai Binh', 'address': 'Bao Trình, thị trấn Diêm Điền, huyện Thái Thụy, tỉnh Thái Bình'}, 'data': {'fertilize': None, 'weather': {'max_temperature': 37.7, 'min_temperature': 27.65, 'wind': 11.52, 'wind_direction': 'N', 'humidity': 72.5, 'cloud': 58.3, 'atmospheric_pressure': 1011.16}, 'pest': {'pest_population_counts': 84, 'disease_incidence': 3.36, 'severity_of_infestations': 3.47}, 'irrigation': {'water_consumed': 306.05, 'water_recycled': 443.62, 'irrigation_type': 'continuous_flooding', 'days_flooded': 1}, 'soil': {'soil_moisture': 30.72, 'soil_moisture_20': 31.72, 'soil_moisture_40': 38.72, 'soil_temperature': 20.71, 'soil_ph': 6.98, 'soil_conductivity': 0.32}, 'energy': {'diesel': 0.0, 'gasoline': 6.71, 'electricity': 13.11}}}\n",
      "________\n",
      "index: 97\n",
      "data: {'plant': 'rice', 'date': datetime.datetime(2024, 6, 12, 0, 0), 'facility': 'farm1a', 'location': {'latitude': 20.5646621017849, 'longitude': 106.56213138823, 'district': 'Thai Thuy', 'province': 'Thai Binh', 'address': 'Bao Trình, thị trấn Diêm Điền, huyện Thái Thụy, tỉnh Thái Bình'}, 'data': {'fertilize': None, 'weather': {'max_temperature': 35.7, 'min_temperature': 27.65, 'wind': 3.85, 'wind_direction': 'E', 'humidity': 65.41, 'cloud': 51.94, 'atmospheric_pressure': 1027.39}, 'pest': {'pest_population_counts': 14, 'disease_incidence': 7.75, 'severity_of_infestations': 1.99}, 'irrigation': {'water_consumed': 596.66, 'water_recycled': 215.43, 'irrigation_type': 'continuous_flooding', 'days_flooded': 1}, 'soil': {'soil_moisture': 43.8, 'soil_moisture_20': 45.8, 'soil_moisture_40': 48.8, 'soil_temperature': 14.53, 'soil_ph': 7.5, 'soil_conductivity': 0.8}, 'energy': {'diesel': 0.0, 'gasoline': 6.8, 'electricity': 12.93}}}\n",
      "________\n",
      "index: 98\n",
      "data: {'plant': 'rice', 'date': datetime.datetime(2024, 6, 13, 0, 0), 'facility': 'farm1a', 'location': {'latitude': 20.5646621017849, 'longitude': 106.56213138823, 'district': 'Thai Thuy', 'province': 'Thai Binh', 'address': 'Bao Trình, thị trấn Diêm Điền, huyện Thái Thụy, tỉnh Thái Bình'}, 'data': {'fertilize': None, 'weather': {'max_temperature': 37.7, 'min_temperature': 28.65, 'wind': 10.92, 'wind_direction': 'E', 'humidity': 60.94, 'cloud': 57.43, 'atmospheric_pressure': 993.48}, 'pest': {'pest_population_counts': 65, 'disease_incidence': 7.6, 'severity_of_infestations': 0.51}, 'irrigation': {'water_consumed': 342.69, 'water_recycled': 409.19, 'irrigation_type': 'continuous_flooding', 'days_flooded': 1}, 'soil': {'soil_moisture': 52.37, 'soil_moisture_20': 57.37, 'soil_moisture_40': 64.37, 'soil_temperature': 21.67, 'soil_ph': 5.95, 'soil_conductivity': 0.69}, 'energy': {'diesel': 0.0, 'gasoline': 0.0, 'electricity': 13.05}}}\n",
      "________\n",
      "index: 99\n",
      "data: {'plant': 'rice', 'date': datetime.datetime(2024, 6, 14, 0, 0), 'facility': 'farm1a', 'location': {'latitude': 20.5646621017849, 'longitude': 106.56213138823, 'district': 'Thai Thuy', 'province': 'Thai Binh', 'address': 'Bao Trình, thị trấn Diêm Điền, huyện Thái Thụy, tỉnh Thái Bình'}, 'data': {'fertilize': None, 'weather': {'max_temperature': 38.7, 'min_temperature': 27.65, 'wind': 4.64, 'wind_direction': 'E', 'humidity': 53.04, 'cloud': 6.94, 'atmospheric_pressure': 1031.98}, 'pest': {'pest_population_counts': 22, 'disease_incidence': 2.87, 'severity_of_infestations': 0.31}, 'irrigation': {'water_consumed': 890.35, 'water_recycled': 224.43, 'irrigation_type': 'continuous_flooding', 'days_flooded': 1}, 'soil': {'soil_moisture': 30.82, 'soil_moisture_20': 33.82, 'soil_moisture_40': 40.82, 'soil_temperature': 19.67, 'soil_ph': 6.6, 'soil_conductivity': 1.25}, 'energy': {'diesel': 0.0, 'gasoline': 0.0, 'electricity': 13.01}}}\n",
      "________\n",
      "index: 100\n",
      "data: {'plant': 'rice', 'date': datetime.datetime(2024, 6, 15, 0, 0), 'facility': 'farm1a', 'location': {'latitude': 20.5646621017849, 'longitude': 106.56213138823, 'district': 'Thai Thuy', 'province': 'Thai Binh', 'address': 'Bao Trình, thị trấn Diêm Điền, huyện Thái Thụy, tỉnh Thái Bình'}, 'data': {'fertilize': None, 'weather': {'max_temperature': 37.7, 'min_temperature': 28.65, 'wind': 7.64, 'wind_direction': 'E', 'humidity': 52.19, 'cloud': 26.57, 'atmospheric_pressure': 1038.65}, 'pest': {'pest_population_counts': 45, 'disease_incidence': 7.27, 'severity_of_infestations': 1.29}, 'irrigation': {'water_consumed': 597.71, 'water_recycled': 160.89, 'irrigation_type': 'continuous_flooding', 'days_flooded': 1}, 'soil': {'soil_moisture': 46.26, 'soil_moisture_20': 51.26, 'soil_moisture_40': 54.26, 'soil_temperature': 26.92, 'soil_ph': 6.68, 'soil_conductivity': 0.45}, 'energy': {'diesel': 0.0, 'gasoline': 0.0, 'electricity': 13.54}}}\n",
      "________\n",
      "index: 101\n",
      "data: {'plant': 'rice', 'date': datetime.datetime(2024, 6, 16, 0, 0), 'facility': 'farm1a', 'location': {'latitude': 20.5646621017849, 'longitude': 106.56213138823, 'district': 'Thai Thuy', 'province': 'Thai Binh', 'address': 'Bao Trình, thị trấn Diêm Điền, huyện Thái Thụy, tỉnh Thái Bình'}, 'data': {'fertilize': None, 'weather': {'max_temperature': 36.7, 'min_temperature': 29.65, 'wind': 9.48, 'wind_direction': 'W', 'humidity': 49.35, 'cloud': 45.65, 'atmospheric_pressure': 1047.68}, 'pest': {'pest_population_counts': 22, 'disease_incidence': 4.4, 'severity_of_infestations': 0.57}, 'irrigation': {'water_consumed': 636.28, 'water_recycled': 276.84, 'irrigation_type': 'continuous_flooding', 'days_flooded': 1}, 'soil': {'soil_moisture': 34.64, 'soil_moisture_20': 41.64, 'soil_moisture_40': 48.64, 'soil_temperature': 23.55, 'soil_ph': 7.24, 'soil_conductivity': 0.95}, 'energy': {'diesel': 0.0, 'gasoline': 0.0, 'electricity': 12.72}}}\n",
      "________\n",
      "index: 102\n",
      "data: {'plant': 'rice', 'date': datetime.datetime(2024, 6, 17, 0, 0), 'facility': 'farm1a', 'location': {'latitude': 20.5646621017849, 'longitude': 106.56213138823, 'district': 'Thai Thuy', 'province': 'Thai Binh', 'address': 'Bao Trình, thị trấn Diêm Điền, huyện Thái Thụy, tỉnh Thái Bình'}, 'data': {'fertilize': None, 'weather': {'max_temperature': 36.7, 'min_temperature': 29.65, 'wind': 6.65, 'wind_direction': 'W', 'humidity': 69.14, 'cloud': 11.54, 'atmospheric_pressure': 979.72}, 'pest': {'pest_population_counts': 27, 'disease_incidence': 2.87, 'severity_of_infestations': 4.71}, 'irrigation': {'water_consumed': 399.34, 'water_recycled': 132.56, 'irrigation_type': 'continuous_flooding', 'days_flooded': 1}, 'soil': {'soil_moisture': 54.2, 'soil_moisture_20': 57.2, 'soil_moisture_40': 63.2, 'soil_temperature': 19.15, 'soil_ph': 6.71, 'soil_conductivity': 1.24}, 'energy': {'diesel': 0.0, 'gasoline': 0.0, 'electricity': 13.19}}}\n",
      "________\n",
      "index: 103\n",
      "data: {'plant': 'rice', 'date': datetime.datetime(2024, 6, 18, 0, 0), 'facility': 'farm1a', 'location': {'latitude': 20.5646621017849, 'longitude': 106.56213138823, 'district': 'Thai Thuy', 'province': 'Thai Binh', 'address': 'Bao Trình, thị trấn Diêm Điền, huyện Thái Thụy, tỉnh Thái Bình'}, 'data': {'fertilize': None, 'weather': {'max_temperature': 35.7, 'min_temperature': 28.65, 'wind': 11.04, 'wind_direction': 'E', 'humidity': 55.85, 'cloud': 51.33, 'atmospheric_pressure': 1050.09}, 'pest': {'pest_population_counts': 50, 'disease_incidence': 5.83, 'severity_of_infestations': 0.78}, 'irrigation': {'water_consumed': 239.32, 'water_recycled': 164.9, 'irrigation_type': 'continuous_flooding', 'days_flooded': 1}, 'soil': {'soil_moisture': 54.64, 'soil_moisture_20': 61.64, 'soil_moisture_40': 65.64, 'soil_temperature': 16.44, 'soil_ph': 6.95, 'soil_conductivity': 0.46}, 'energy': {'diesel': 0.0, 'gasoline': 0.0, 'electricity': 13.66}}}\n",
      "________\n",
      "index: 104\n",
      "data: {'plant': 'rice', 'date': datetime.datetime(2024, 6, 19, 0, 0), 'facility': 'farm1a', 'location': {'latitude': 20.5646621017849, 'longitude': 106.56213138823, 'district': 'Thai Thuy', 'province': 'Thai Binh', 'address': 'Bao Trình, thị trấn Diêm Điền, huyện Thái Thụy, tỉnh Thái Bình'}, 'data': {'fertilize': None, 'weather': {'max_temperature': 37.7, 'min_temperature': 29.65, 'wind': 14.45, 'wind_direction': 'E', 'humidity': 65.35, 'cloud': 56.95, 'atmospheric_pressure': 1024.55}, 'pest': {'pest_population_counts': 46, 'disease_incidence': 7.83, 'severity_of_infestations': 4.05}, 'irrigation': {'water_consumed': 496.34, 'water_recycled': 259.98, 'irrigation_type': 'continuous_flooding', 'days_flooded': 1}, 'soil': {'soil_moisture': 23.54, 'soil_moisture_20': 25.54, 'soil_moisture_40': 29.54, 'soil_temperature': 19.48, 'soil_ph': 5.74, 'soil_conductivity': 1.08}, 'energy': {'diesel': 0.0, 'gasoline': 0.0, 'electricity': 12.72}}}\n",
      "________\n",
      "index: 105\n",
      "data: {'plant': 'rice', 'date': datetime.datetime(2024, 6, 20, 0, 0), 'facility': 'farm1a', 'location': {'latitude': 20.5646621017849, 'longitude': 106.56213138823, 'district': 'Thai Thuy', 'province': 'Thai Binh', 'address': 'Bao Trình, thị trấn Diêm Điền, huyện Thái Thụy, tỉnh Thái Bình'}, 'data': {'fertilize': None, 'weather': {'max_temperature': 34.7, 'min_temperature': 28.65, 'wind': 8.86, 'wind_direction': 'N', 'humidity': 69.31, 'cloud': 6.54, 'atmospheric_pressure': 1036.86}, 'pest': {'pest_population_counts': 15, 'disease_incidence': 0.88, 'severity_of_infestations': 4.52}, 'irrigation': {'water_consumed': 275.59, 'water_recycled': 455.69, 'irrigation_type': 'continuous_flooding', 'days_flooded': 1}, 'soil': {'soil_moisture': 34.35, 'soil_moisture_20': 37.35, 'soil_moisture_40': 39.35, 'soil_temperature': 29.12, 'soil_ph': 5.68, 'soil_conductivity': 0.65}, 'energy': {'diesel': 0.0, 'gasoline': 0.0, 'electricity': 12.56}}}\n",
      "________\n",
      "index: 106\n",
      "data: {'plant': 'rice', 'date': datetime.datetime(2024, 6, 21, 0, 0), 'facility': 'farm1a', 'location': {'latitude': 20.5646621017849, 'longitude': 106.56213138823, 'district': 'Thai Thuy', 'province': 'Thai Binh', 'address': 'Bao Trình, thị trấn Diêm Điền, huyện Thái Thụy, tỉnh Thái Bình'}, 'data': {'fertilize': None, 'weather': {'max_temperature': 35.7, 'min_temperature': 28.65, 'wind': 10.08, 'wind_direction': 'E', 'humidity': 46.41, 'cloud': 10.39, 'atmospheric_pressure': 1046.18}, 'pest': {'pest_population_counts': 61, 'disease_incidence': 6.89, 'severity_of_infestations': 2.51}, 'irrigation': {'water_consumed': 804.92, 'water_recycled': 255.16, 'irrigation_type': 'continuous_flooding', 'days_flooded': 1}, 'soil': {'soil_moisture': 27.08, 'soil_moisture_20': 30.08, 'soil_moisture_40': 34.08, 'soil_temperature': 23.56, 'soil_ph': 6.58, 'soil_conductivity': 0.48}, 'energy': {'diesel': 0.0, 'gasoline': 0.0, 'electricity': 12.77}}}\n",
      "________\n",
      "index: 107\n",
      "data: {'plant': 'rice', 'date': datetime.datetime(2024, 6, 22, 0, 0), 'facility': 'farm1a', 'location': {'latitude': 20.5646621017849, 'longitude': 106.56213138823, 'district': 'Thai Thuy', 'province': 'Thai Binh', 'address': 'Bao Trình, thị trấn Diêm Điền, huyện Thái Thụy, tỉnh Thái Bình'}, 'data': {'fertilize': None, 'weather': {'max_temperature': 34.7, 'min_temperature': 28.65, 'wind': 14.62, 'wind_direction': 'E', 'humidity': 41.65, 'cloud': 78.18, 'atmospheric_pressure': 1050.4}, 'pest': {'pest_population_counts': 37, 'disease_incidence': 7.96, 'severity_of_infestations': 2.82}, 'irrigation': {'water_consumed': 243.02, 'water_recycled': 245.94, 'irrigation_type': 'continuous_flooding', 'days_flooded': 1}, 'soil': {'soil_moisture': 38.57, 'soil_moisture_20': 40.57, 'soil_moisture_40': 41.57, 'soil_temperature': 20.51, 'soil_ph': 5.67, 'soil_conductivity': 1.17}, 'energy': {'diesel': 0.0, 'gasoline': 0.0, 'electricity': 12.32}}}\n",
      "________\n",
      "index: 108\n",
      "data: {'plant': 'rice', 'date': datetime.datetime(2024, 6, 23, 0, 0), 'facility': 'farm1a', 'location': {'latitude': 20.5646621017849, 'longitude': 106.56213138823, 'district': 'Thai Thuy', 'province': 'Thai Binh', 'address': 'Bao Trình, thị trấn Diêm Điền, huyện Thái Thụy, tỉnh Thái Bình'}, 'data': {'fertilize': None, 'weather': {'max_temperature': 37.7, 'min_temperature': 27.65, 'wind': 5.15, 'wind_direction': 'S', 'humidity': 70.41, 'cloud': 75.78, 'atmospheric_pressure': 1045.17}, 'pest': {'pest_population_counts': 54, 'disease_incidence': 3.73, 'severity_of_infestations': 2.48}, 'irrigation': {'water_consumed': 489.34, 'water_recycled': 199.56, 'irrigation_type': 'continuous_flooding', 'days_flooded': 1}, 'soil': {'soil_moisture': 23.64, 'soil_moisture_20': 24.64, 'soil_moisture_40': 30.64, 'soil_temperature': 29.94, 'soil_ph': 6.89, 'soil_conductivity': 1.12}, 'energy': {'diesel': 0.0, 'gasoline': 0.0, 'electricity': 12.88}}}\n",
      "________\n",
      "index: 109\n",
      "data: {'plant': 'rice', 'date': datetime.datetime(2024, 6, 24, 0, 0), 'facility': 'farm1a', 'location': {'latitude': 20.5646621017849, 'longitude': 106.56213138823, 'district': 'Thai Thuy', 'province': 'Thai Binh', 'address': 'Bao Trình, thị trấn Diêm Điền, huyện Thái Thụy, tỉnh Thái Bình'}, 'data': {'fertilize': None, 'weather': {'max_temperature': 37.7, 'min_temperature': 29.65, 'wind': 6.83, 'wind_direction': 'E', 'humidity': 41.86, 'cloud': 6.92, 'atmospheric_pressure': 1045.02}, 'pest': {'pest_population_counts': 51, 'disease_incidence': 5.5, 'severity_of_infestations': 2.34}, 'irrigation': {'water_consumed': 930.16, 'water_recycled': 150.53, 'irrigation_type': 'continuous_flooding', 'days_flooded': 1}, 'soil': {'soil_moisture': 25.29, 'soil_moisture_20': 31.29, 'soil_moisture_40': 33.29, 'soil_temperature': 21.24, 'soil_ph': 7.5, 'soil_conductivity': 0.33}, 'energy': {'diesel': 0.0, 'gasoline': 6.04, 'electricity': 12.88}}}\n",
      "________\n",
      "index: 110\n",
      "data: {'plant': 'rice', 'date': datetime.datetime(2024, 6, 25, 0, 0), 'facility': 'farm1a', 'location': {'latitude': 20.5646621017849, 'longitude': 106.56213138823, 'district': 'Thai Thuy', 'province': 'Thai Binh', 'address': 'Bao Trình, thị trấn Diêm Điền, huyện Thái Thụy, tỉnh Thái Bình'}, 'data': {'fertilize': None, 'weather': {'max_temperature': 35.7, 'min_temperature': 27.65, 'wind': 9.65, 'wind_direction': 'E', 'humidity': 56.82, 'cloud': 63.91, 'atmospheric_pressure': 1005.88}, 'pest': {'pest_population_counts': 90, 'disease_incidence': 2.39, 'severity_of_infestations': 2.45}, 'irrigation': {'water_consumed': 485.7, 'water_recycled': 351.54, 'irrigation_type': 'continuous_flooding', 'days_flooded': 1}, 'soil': {'soil_moisture': 43.95, 'soil_moisture_20': 44.95, 'soil_moisture_40': 45.95, 'soil_temperature': 28.16, 'soil_ph': 6.37, 'soil_conductivity': 0.95}, 'energy': {'diesel': 0.0, 'gasoline': 6.16, 'electricity': 13.55}}}\n",
      "________\n",
      "index: 111\n",
      "data: {'plant': 'rice', 'date': datetime.datetime(2024, 6, 26, 0, 0), 'facility': 'farm1a', 'location': {'latitude': 20.5646621017849, 'longitude': 106.56213138823, 'district': 'Thai Thuy', 'province': 'Thai Binh', 'address': 'Bao Trình, thị trấn Diêm Điền, huyện Thái Thụy, tỉnh Thái Bình'}, 'data': {'fertilize': None, 'weather': {'max_temperature': 35.7, 'min_temperature': 27.65, 'wind': 2.29, 'wind_direction': 'E', 'humidity': 50.13, 'cloud': 85.08, 'atmospheric_pressure': 1050.96}, 'pest': {'pest_population_counts': 78, 'disease_incidence': 6.61, 'severity_of_infestations': 3.62}, 'irrigation': {'water_consumed': 984.67, 'water_recycled': 251.29, 'irrigation_type': 'continuous_flooding', 'days_flooded': 1}, 'soil': {'soil_moisture': 35.7, 'soil_moisture_20': 37.7, 'soil_moisture_40': 42.7, 'soil_temperature': 27.14, 'soil_ph': 5.66, 'soil_conductivity': 1.36}, 'energy': {'diesel': 0.0, 'gasoline': 6.12, 'electricity': 13.55}}}\n",
      "________\n",
      "index: 112\n",
      "data: {'plant': 'rice', 'date': datetime.datetime(2024, 6, 27, 0, 0), 'facility': 'farm1a', 'location': {'latitude': 20.5646621017849, 'longitude': 106.56213138823, 'district': 'Thai Thuy', 'province': 'Thai Binh', 'address': 'Bao Trình, thị trấn Diêm Điền, huyện Thái Thụy, tỉnh Thái Bình'}, 'data': {'fertilize': None, 'weather': {'max_temperature': 35.7, 'min_temperature': 27.65, 'wind': 7.01, 'wind_direction': 'E', 'humidity': 45.75, 'cloud': 33.93, 'atmospheric_pressure': 1016.71}, 'pest': {'pest_population_counts': 15, 'disease_incidence': 1.68, 'severity_of_infestations': 3.01}, 'irrigation': {'water_consumed': 749.45, 'water_recycled': 193.69, 'irrigation_type': 'continuous_flooding', 'days_flooded': 1}, 'soil': {'soil_moisture': 32.91, 'soil_moisture_20': 39.91, 'soil_moisture_40': 44.91, 'soil_temperature': 21.04, 'soil_ph': 6.93, 'soil_conductivity': 0.55}, 'energy': {'diesel': 0.0, 'gasoline': 6.87, 'electricity': 13.04}}}\n",
      "________\n",
      "index: 113\n",
      "data: {'plant': 'rice', 'date': datetime.datetime(2024, 6, 28, 0, 0), 'facility': 'farm1a', 'location': {'latitude': 20.5646621017849, 'longitude': 106.56213138823, 'district': 'Thai Thuy', 'province': 'Thai Binh', 'address': 'Bao Trình, thị trấn Diêm Điền, huyện Thái Thụy, tỉnh Thái Bình'}, 'data': {'fertilize': None, 'weather': {'max_temperature': 34.7, 'min_temperature': 28.65, 'wind': 6.32, 'wind_direction': 'E', 'humidity': 48.55, 'cloud': 67.37, 'atmospheric_pressure': 1028.49}, 'pest': {'pest_population_counts': 61, 'disease_incidence': 3.73, 'severity_of_infestations': 2.11}, 'irrigation': {'water_consumed': 275.25, 'water_recycled': 419.52, 'irrigation_type': 'continuous_flooding', 'days_flooded': 1}, 'soil': {'soil_moisture': 38.29, 'soil_moisture_20': 42.29, 'soil_moisture_40': 46.29, 'soil_temperature': 17.71, 'soil_ph': 5.6, 'soil_conductivity': 0.98}, 'energy': {'diesel': 0.0, 'gasoline': 0.0, 'electricity': 12.58}}}\n",
      "________\n",
      "index: 114\n",
      "data: {'plant': 'rice', 'date': datetime.datetime(2024, 6, 29, 0, 0), 'facility': 'farm1a', 'location': {'latitude': 20.5646621017849, 'longitude': 106.56213138823, 'district': 'Thai Thuy', 'province': 'Thai Binh', 'address': 'Bao Trình, thị trấn Diêm Điền, huyện Thái Thụy, tỉnh Thái Bình'}, 'data': {'fertilize': None, 'weather': {'max_temperature': 34.7, 'min_temperature': 29.65, 'wind': 14.21, 'wind_direction': 'N', 'humidity': 70.84, 'cloud': 18.41, 'atmospheric_pressure': 1011.97}, 'pest': {'pest_population_counts': 50, 'disease_incidence': 2.33, 'severity_of_infestations': 3.72}, 'irrigation': {'water_consumed': 727.85, 'water_recycled': 403.32, 'irrigation_type': 'continuous_flooding', 'days_flooded': 1}, 'soil': {'soil_moisture': 18.43, 'soil_moisture_20': 21.43, 'soil_moisture_40': 26.43, 'soil_temperature': 15.55, 'soil_ph': 6.95, 'soil_conductivity': 1.34}, 'energy': {'diesel': 0.0, 'gasoline': 0.0, 'electricity': 12.61}}}\n",
      "________\n",
      "index: 115\n",
      "data: {'plant': 'rice', 'date': datetime.datetime(2024, 6, 30, 0, 0), 'facility': 'farm1a', 'location': {'latitude': 20.5646621017849, 'longitude': 106.56213138823, 'district': 'Thai Thuy', 'province': 'Thai Binh', 'address': 'Bao Trình, thị trấn Diêm Điền, huyện Thái Thụy, tỉnh Thái Bình'}, 'data': {'fertilize': None, 'weather': {'max_temperature': 36.7, 'min_temperature': 27.65, 'wind': 7.37, 'wind_direction': 'S', 'humidity': 42.73, 'cloud': 82.13, 'atmospheric_pressure': 1050.41}, 'pest': {'pest_population_counts': 50, 'disease_incidence': 2.73, 'severity_of_infestations': 1.31}, 'irrigation': {'water_consumed': 618.86, 'water_recycled': 474.3, 'irrigation_type': 'continuous_flooding', 'days_flooded': 1}, 'soil': {'soil_moisture': 55.25, 'soil_moisture_20': 59.25, 'soil_moisture_40': 64.25, 'soil_temperature': 20.73, 'soil_ph': 5.97, 'soil_conductivity': 0.91}, 'energy': {'diesel': 0.0, 'gasoline': 0.0, 'electricity': 12.58}}}\n",
      "________\n",
      "Execution time: 0.5861854553222656 seconds\n"
     ]
    }
   ],
   "execution_count": 9
  }
 ],
 "metadata": {
  "kernelspec": {
   "display_name": "Python 3",
   "language": "python",
   "name": "python3"
  },
  "language_info": {
   "codemirror_mode": {
    "name": "ipython",
    "version": 2
   },
   "file_extension": ".py",
   "mimetype": "text/x-python",
   "name": "python",
   "nbconvert_exporter": "python",
   "pygments_lexer": "ipython2",
   "version": "2.7.6"
  }
 },
 "nbformat": 4,
 "nbformat_minor": 5
}
