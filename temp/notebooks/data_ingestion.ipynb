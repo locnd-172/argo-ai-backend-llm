{
 "cells": [
  {
   "cell_type": "code",
   "outputs": [],
   "source": [
    "import time\n",
    "import pandas as pd\n",
    "from datetime import datetime\n",
    "import firebase_admin\n",
    "from firebase_admin import credentials, firestore"
   ],
   "metadata": {
    "collapsed": false
   },
   "id": "f6b9d5de2fb5e993",
   "execution_count": null
  },
  {
   "cell_type": "code",
   "outputs": [],
   "source": [
    "cred = credentials.Certificate('../../src/config/argoai-63051-firebase-adminsdk-ykwbi-a14bbb8c68.json')\n",
    "\n",
    "app = firebase_admin.initialize_app(cred)\n",
    "db = firestore.client()"
   ],
   "metadata": {
    "collapsed": false
   },
   "id": "adf7825665e47048",
   "execution_count": null
  },
  {
   "cell_type": "code",
   "outputs": [],
   "source": [
    "bulk_writer = db.bulk_writer()\n",
    "batch = db.batch()\n",
    "collection = db.collection('mrv_system')"
   ],
   "metadata": {
    "collapsed": false
   },
   "id": "fdd4a140a368189e",
   "execution_count": null
  },
  {
   "cell_type": "code",
   "outputs": [],
   "source": [
    "location_data = ['latitude', 'longitude', 'district', 'province', 'address']\n",
    "weather_data = ['max_temperature', 'min_temperature', 'wind', 'wind_direction', 'humidity', 'cloud',\n",
    "                'atmospheric_pressure']\n",
    "soil_data = ['soil_moisture', 'soil_moisture_20', 'soil_moisture_40', 'soil_temperature', 'soil_ph',\n",
    "             'soil_conductivity']\n",
    "irrigation_data = ['water_consumed', 'water_recycled']\n",
    "pest_data = ['pest_population_counts', 'disease_incidence', 'severity_of_infestations']\n"
   ],
   "metadata": {
    "collapsed": false
   },
   "id": "baee0768209fb35d",
   "execution_count": null
  },
  {
   "cell_type": "code",
   "outputs": [],
   "source": [
    "def create_data_item(row):\n",
    "    return {\n",
    "        'fertilize': row.get('fertilize', None),\n",
    "        'weather': {key: row.get(key, None) for key in weather_data},\n",
    "        'pest': {key: row.get(key, None) for key in pest_data},\n",
    "        'irrigation': {key: row.get(key, None) for key in irrigation_data},\n",
    "        'soil': {key: row.get(key, None) for key in soil_data},\n",
    "    }"
   ],
   "metadata": {
    "collapsed": false
   },
   "id": "1daa1e4746a7e97",
   "execution_count": null
  },
  {
   "cell_type": "code",
   "outputs": [],
   "source": [
    "def write_data_to_firestore(df):\n",
    "    bulk_writer = db.bulk_writer()\n",
    "\n",
    "    for index, row in df.iterrows():\n",
    "        print(f\"index: {index}\")\n",
    "        data_item = create_data_item(row)\n",
    "        facility = row.get('facility', None)\n",
    "        doc_ref = db.collection(\"mrv_system\").document()\n",
    "        data = {\n",
    "            'plant': str(row['plant']).lower().strip(),\n",
    "            'date': datetime.strptime(\n",
    "                datetime.strptime(row[\"datetime\"].strftime(\"%d/%m/%Y\"), \"%d/%m/%Y\").strftime(\"%Y/%m/%d\"), \"%Y/%m/%d\"),\n",
    "            'facility': str(facility).lower(),\n",
    "            'location': {key: row.get(key, None) for key in location_data},\n",
    "            'data': data_item\n",
    "        }\n",
    "        print(f\"data: {data}\")\n",
    "        print(\"________\")\n",
    "        bulk_writer.set(doc_ref, data)\n",
    "\n",
    "    bulk_writer.flush()"
   ],
   "metadata": {
    "collapsed": false
   },
   "id": "ae8ea9442b7a91df",
   "execution_count": null
  },
  {
   "cell_type": "code",
   "outputs": [],
   "source": [
    "df = pd.read_excel('../data/data.xlsx', sheet_name='data_temp')"
   ],
   "metadata": {
    "collapsed": false
   },
   "id": "3906feede86d76fe",
   "execution_count": null
  },
  {
   "cell_type": "code",
   "outputs": [],
   "source": [
    "start = time.time()\n",
    "write_data_to_firestore(df)\n",
    "end = time.time()\n",
    "print(f'Execution time: {end - start} seconds')"
   ],
   "metadata": {
    "collapsed": false
   },
   "id": "dc31931cdcb81089",
   "execution_count": null
  }
 ],
 "metadata": {
  "kernelspec": {
   "display_name": "Python 3",
   "language": "python",
   "name": "python3"
  },
  "language_info": {
   "codemirror_mode": {
    "name": "ipython",
    "version": 2
   },
   "file_extension": ".py",
   "mimetype": "text/x-python",
   "name": "python",
   "nbconvert_exporter": "python",
   "pygments_lexer": "ipython2",
   "version": "2.7.6"
  }
 },
 "nbformat": 4,
 "nbformat_minor": 5
}
