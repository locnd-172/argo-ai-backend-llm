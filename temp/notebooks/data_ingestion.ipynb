{
 "cells": [
  {
   "cell_type": "code",
   "outputs": [],
   "source": [
    "import time\n",
    "import pandas as pd\n",
    "from datetime import datetime\n",
    "import firebase_admin\n",
    "from firebase_admin import credentials, firestore"
   ],
   "metadata": {
    "collapsed": false,
    "ExecuteTime": {
     "end_time": "2024-07-22T15:41:40.590221900Z",
     "start_time": "2024-07-22T15:41:38.978086700Z"
    }
   },
   "id": "f6b9d5de2fb5e993",
   "execution_count": 1
  },
  {
   "cell_type": "code",
   "outputs": [],
   "source": [
    "cred = credentials.Certificate('../../src/config/argoai-63051-firebase-adminsdk-ykwbi-a14bbb8c68.json')\n",
    "\n",
    "app = firebase_admin.initialize_app(cred)\n",
    "db = firestore.client()"
   ],
   "metadata": {
    "collapsed": false,
    "ExecuteTime": {
     "end_time": "2024-07-22T15:41:40.648494100Z",
     "start_time": "2024-07-22T15:41:40.592371600Z"
    }
   },
   "id": "adf7825665e47048",
   "execution_count": 2
  },
  {
   "cell_type": "code",
   "outputs": [],
   "source": [
    "bulk_writer = db.bulk_writer()\n",
    "batch = db.batch()\n",
    "collection = db.collection('mrv_system')"
   ],
   "metadata": {
    "collapsed": false,
    "ExecuteTime": {
     "end_time": "2024-07-22T15:41:40.668473500Z",
     "start_time": "2024-07-22T15:41:40.651765700Z"
    }
   },
   "id": "fdd4a140a368189e",
   "execution_count": 3
  },
  {
   "cell_type": "code",
   "outputs": [],
   "source": [
    "location_data = ['latitude', 'longitude', 'district', 'province', 'address']\n",
    "weather_data = ['humidity', 'rainfall', 'atmospheric_pressure',\n",
    "                'max_temperature', 'cloud', 'wind_direction',\n",
    "                'min_temperature', 'wind']\n",
    "pest_data = ['pest_population_counts', 'disease_incidence', 'severity_of_infestations']\n",
    "soil_data = ['soil_nutrient_levels', 'soil_moisture', 'soil_temperature', 'soil_ph']\n",
    "irrigation_data = ['water_discharged', 'water_quality', 'water_consumed', 'water_withdrawn', 'water_recycled']\n"
   ],
   "metadata": {
    "collapsed": false,
    "ExecuteTime": {
     "end_time": "2024-07-22T15:41:40.688841100Z",
     "start_time": "2024-07-22T15:41:40.668473500Z"
    }
   },
   "id": "baee0768209fb35d",
   "execution_count": 4
  },
  {
   "cell_type": "code",
   "outputs": [],
   "source": [
    "def create_data_item(row):\n",
    "    return {\n",
    "        'fertilize': row.get('fertilize', None),\n",
    "        'weather': {key: row.get(key, None) for key in weather_data},\n",
    "        'pest': {key: row.get(key, None) for key in pest_data},\n",
    "        'irrigation': {key: row.get(key, None) for key in irrigation_data},\n",
    "        'soil': {key: row.get(key, None) for key in soil_data},\n",
    "    }"
   ],
   "metadata": {
    "collapsed": false,
    "ExecuteTime": {
     "end_time": "2024-07-22T15:41:40.697563200Z",
     "start_time": "2024-07-22T15:41:40.683456800Z"
    }
   },
   "id": "1daa1e4746a7e97",
   "execution_count": 5
  },
  {
   "cell_type": "code",
   "outputs": [],
   "source": [
    "def write_data_to_firestore(df):\n",
    "    bulk_writer = db.bulk_writer()\n",
    "\n",
    "    for index, row in df.iterrows():\n",
    "        print(f\"index: {index}\")\n",
    "        data_item = create_data_item(row)\n",
    "        facility = row.get('facility', None)\n",
    "        doc_ref = db.collection(\"mrv_system\").document()\n",
    "        data = {\n",
    "            # 'date': datetime.combine(row['datetime'], datetime.min.time()),\n",
    "            'plant': str(row['plant']).lower().strip(),\n",
    "            'date': \"32/05/2024\",\n",
    "            # 'date': row['datetime'].strftime(\"%d/%m/%Y\"),\n",
    "            'facility': str(facility).lower(),\n",
    "            'location': {key: row.get(key, None) for key in location_data},\n",
    "            'data': data_item\n",
    "        }\n",
    "        print(f\"data: {data}\")\n",
    "        print(\"________\")\n",
    "        bulk_writer.set(doc_ref, data)\n",
    "\n",
    "    bulk_writer.flush()"
   ],
   "metadata": {
    "collapsed": false,
    "ExecuteTime": {
     "end_time": "2024-07-22T15:41:40.712676900Z",
     "start_time": "2024-07-22T15:41:40.702926800Z"
    }
   },
   "id": "ae8ea9442b7a91df",
   "execution_count": 6
  },
  {
   "cell_type": "code",
   "outputs": [],
   "source": [
    "df = pd.read_excel('../data/data.xlsx', sheet_name='data_temp')"
   ],
   "metadata": {
    "collapsed": false,
    "ExecuteTime": {
     "end_time": "2024-07-22T15:41:41.898568600Z",
     "start_time": "2024-07-22T15:41:41.414431400Z"
    }
   },
   "id": "3906feede86d76fe",
   "execution_count": 7
  },
  {
   "cell_type": "code",
   "outputs": [],
   "source": [
    "df = df[:2]"
   ],
   "metadata": {
    "collapsed": false,
    "ExecuteTime": {
     "end_time": "2024-07-22T15:41:41.913963100Z",
     "start_time": "2024-07-22T15:41:41.900710300Z"
    }
   },
   "id": "75ba87be9a888d7",
   "execution_count": 8
  },
  {
   "cell_type": "code",
   "outputs": [
    {
     "name": "stdout",
     "output_type": "stream",
     "text": [
      "index: 0\n",
      "data: {'plant': 'rice', 'date': '32/05/2024', 'facility': 'farm22z', 'location': {'latitude': 11.8819075448256, 'longitude': 108.561573082241, 'district': 'Da Lat', 'province': 'Lam Dong', 'address': 'VHJ6+PH3, Đất, Thôn, Cầu, Xuân Trường, Thành phố Đà Lạt, Lâm Đồng, Vietnam'}, 'data': {'fertilize': None, 'weather': {'humidity': 65.16, 'rainfall': None, 'atmospheric_pressure': 1002.02, 'max_temperature': 27.49, 'cloud': 77.71, 'wind_direction': 'N', 'min_temperature': 10.47, 'wind': 9.63}, 'pest': {'pest_population_counts': 48, 'disease_incidence': 4.52, 'severity_of_infestations': 1.22}, 'irrigation': {'water_discharged': None, 'water_quality': 1.3, 'water_consumed': 887.23, 'water_withdrawn': None, 'water_recycled': 368.76}, 'soil': {'soil_nutrient_levels': None, 'soil_moisture': 14.35, 'soil_temperature': 26.69, 'soil_ph': None}}}\n",
      "________\n",
      "index: 1\n",
      "data: {'plant': 'rice', 'date': '32/05/2024', 'facility': 'farm22z', 'location': {'latitude': 11.8819075448256, 'longitude': 108.561573082241, 'district': 'Da Lat', 'province': 'Lam Dong', 'address': 'VHJ6+PH3, Đất, Thôn, Cầu, Xuân Trường, Thành phố Đà Lạt, Lâm Đồng, Vietnam'}, 'data': {'fertilize': None, 'weather': {'humidity': 82.82, 'rainfall': None, 'atmospheric_pressure': 1035.22, 'max_temperature': 39.01, 'cloud': 55.84, 'wind_direction': 'W', 'min_temperature': 19.55, 'wind': 1.26}, 'pest': {'pest_population_counts': 50, 'disease_incidence': 9.34, 'severity_of_infestations': 4.64}, 'irrigation': {'water_discharged': None, 'water_quality': 0.98, 'water_consumed': 576.04, 'water_withdrawn': None, 'water_recycled': 426.66}, 'soil': {'soil_nutrient_levels': None, 'soil_moisture': 36.86, 'soil_temperature': 19.59, 'soil_ph': None}}}\n",
      "________\n",
      "Execution time: 1.003446340560913 seconds\n"
     ]
    }
   ],
   "source": [
    "\n",
    "start = time.time()\n",
    "write_data_to_firestore(df)\n",
    "end = time.time()\n",
    "print(f'Execution time: {end - start} seconds')"
   ],
   "metadata": {
    "collapsed": false,
    "ExecuteTime": {
     "end_time": "2024-07-22T15:41:55.870353700Z",
     "start_time": "2024-07-22T15:41:54.856113700Z"
    }
   },
   "id": "dc31931cdcb81089",
   "execution_count": 9
  },
  {
   "cell_type": "code",
   "outputs": [],
   "source": [],
   "metadata": {
    "collapsed": false
   },
   "id": "65723a08088be2ba"
  }
 ],
 "metadata": {
  "kernelspec": {
   "display_name": "Python 3",
   "language": "python",
   "name": "python3"
  },
  "language_info": {
   "codemirror_mode": {
    "name": "ipython",
    "version": 2
   },
   "file_extension": ".py",
   "mimetype": "text/x-python",
   "name": "python",
   "nbconvert_exporter": "python",
   "pygments_lexer": "ipython2",
   "version": "2.7.6"
  }
 },
 "nbformat": 4,
 "nbformat_minor": 5
}
