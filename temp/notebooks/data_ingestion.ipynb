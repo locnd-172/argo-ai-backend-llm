{
 "cells": [
  {
   "cell_type": "code",
   "outputs": [],
   "source": [
    "import time\n",
    "import pandas as pd\n",
    "from datetime import datetime\n",
    "import firebase_admin\n",
    "from firebase_admin import credentials, firestore"
   ],
   "metadata": {
    "collapsed": false
   },
   "id": "f6b9d5de2fb5e993",
   "execution_count": null
  },
  {
   "cell_type": "code",
   "outputs": [],
   "source": [
    "cred = credentials.Certificate('../assets/argoai-63051-firebase-adminsdk-ykwbi-a14bbb8c68.json')\n",
    "\n",
    "app = firebase_admin.initialize_app(cred)\n",
    "db = firestore.client()"
   ],
   "metadata": {
    "collapsed": false
   },
   "id": "adf7825665e47048"
  },
  {
   "cell_type": "code",
   "outputs": [],
   "source": [
    "bulk_writer = db.bulk_writer()\n",
    "batch = db.batch()\n",
    "collection = db.collection('gathering')"
   ],
   "metadata": {
    "collapsed": false
   },
   "id": "fdd4a140a368189e",
   "execution_count": null
  },
  {
   "cell_type": "code",
   "outputs": [],
   "source": [
    "location_data = ['latitude', 'longitude', 'district', 'province', 'address']\n",
    "weather_data = ['humidity', 'rainfall', 'atmospheric_pressure',\n",
    "                'max_temperature', 'cloud', 'wind_direction',\n",
    "                'min_temperature', 'wind']\n",
    "pest_data = ['pest_population_counts', 'disease_incidence', 'severity_of_infestations']\n",
    "soil_data = ['soil_nutrient_levels', 'soil_moisture', 'soil_temperature', 'soil_ph']\n",
    "irrigation_data = ['water_discharged', 'water_quality', 'water_consumed', 'water_withdrawn', 'water_recycled']\n"
   ],
   "metadata": {
    "collapsed": false
   },
   "id": "baee0768209fb35d",
   "execution_count": null
  },
  {
   "cell_type": "code",
   "outputs": [],
   "source": [
    "def create_data_item(row):\n",
    "    return {\n",
    "        'date': datetime.combine(row['datetime'], datetime.min.time()),\n",
    "        'fertilize': row.get('fertilize', None),\n",
    "        'weather': {key: row.get(key, None) for key in weather_data},\n",
    "        'pest': {key: row.get(key, None) for key in pest_data},\n",
    "        'irrigation': {key: row.get(key, None) for key in irrigation_data},\n",
    "        'soil': {key: row.get(key, None) for key in soil_data},\n",
    "    }"
   ],
   "metadata": {
    "collapsed": false
   },
   "id": "1daa1e4746a7e97",
   "execution_count": null
  },
  {
   "cell_type": "code",
   "outputs": [],
   "source": [
    "def write_data_to_firestore(df):\n",
    "    bulk_writer = db.bulk_writer()\n",
    "    \n",
    "    for index, row in df.iterrows():\n",
    "        print(f\"index: {index}\")\n",
    "        data_item = create_data_item(row)\n",
    "        facility = row.get('facility', None)\n",
    "        doc_ref = db.collection(\"gathering\").document()\n",
    "        data = {\n",
    "            'facility': facility,\n",
    "            'location': {key: row.get(key, None) for key in location_data},\n",
    "            'data': data_item\n",
    "        }\n",
    "        print(f\"data: {data}\")\n",
    "        print(\"________\")\n",
    "        bulk_writer.set(doc_ref, data)\n",
    "\n",
    "    bulk_writer.flush()"
   ],
   "metadata": {
    "collapsed": false
   },
   "id": "ae8ea9442b7a91df",
   "execution_count": null
  },
  {
   "cell_type": "code",
   "outputs": [],
   "source": [
    "df = pd.read_excel('./data.xlsx', sheet_name='data_temp')\n",
    "start = time.time()\n",
    "write_data_to_firestore(df)\n",
    "end = time.time()\n",
    "print(f'Execution time: {end - start} seconds')"
   ],
   "metadata": {
    "collapsed": false
   },
   "id": "dc31931cdcb81089",
   "execution_count": null
  }
 ],
 "metadata": {
  "kernelspec": {
   "display_name": "Python 3",
   "language": "python",
   "name": "python3"
  },
  "language_info": {
   "codemirror_mode": {
    "name": "ipython",
    "version": 2
   },
   "file_extension": ".py",
   "mimetype": "text/x-python",
   "name": "python",
   "nbconvert_exporter": "python",
   "pygments_lexer": "ipython2",
   "version": "2.7.6"
  }
 },
 "nbformat": 4,
 "nbformat_minor": 5
}
