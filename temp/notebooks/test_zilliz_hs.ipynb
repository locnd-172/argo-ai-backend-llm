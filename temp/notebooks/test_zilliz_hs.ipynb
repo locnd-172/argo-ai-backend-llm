{
 "cells": [
  {
   "cell_type": "code",
   "outputs": [],
   "source": [
    "ZILLIZDB_USERNAME = \"db_f551eced4483bcc\"\n",
    "ZILLIZDB_PASSWORD = \"Yn9%Ts4tgkDm/ta/\"\n",
    "ZILLIZDB_HOST = \"in05-2f51803fc57ed00.serverless.gcp-us-west1.cloud.zilliz.com\"\n",
    "ZILLIZDB_PORT = \"19531\"\n",
    "ZILLIZDB_TOKEN = \"f41eb4a7c305fd31720650e0ea5c037dae612fc47865cad5c5edd5429c14e1e96582b2ac87c0abcd26241fa4b3611c3054573682\"\n",
    "ZILLIZDB_COLLECTION_NAME_DOCUMENTS = \"argo_documents_hs\""
   ],
   "metadata": {
    "collapsed": false
   },
   "id": "c0d40daec331bc5c",
   "execution_count": null
  },
  {
   "cell_type": "code",
   "outputs": [],
   "source": [
    "import pandas as pd\n",
    "from pymilvus import (\n",
    "    FieldSchema,\n",
    "    CollectionSchema,\n",
    "    DataType,\n",
    "    Collection,\n",
    "    AnnSearchRequest,\n",
    "    RRFRanker,\n",
    "    connections,\n",
    ")\n",
    "from pymilvus import MilvusClient\n",
    "from pymilvus.model.hybrid import BGEM3EmbeddingFunction"
   ],
   "metadata": {
    "collapsed": false
   },
   "id": "a1fad219875046ad",
   "execution_count": null
  },
  {
   "cell_type": "code",
   "outputs": [],
   "source": [
    "ef = BGEM3EmbeddingFunction(use_fp16=False, device=\"cpu\")\n",
    "dense_dim = ef.dim[\"dense\"]"
   ],
   "metadata": {
    "collapsed": false
   },
   "id": "69a2f70107dc8160",
   "execution_count": null
  },
  {
   "cell_type": "code",
   "outputs": [],
   "source": [
    "dense_dim"
   ],
   "metadata": {
    "collapsed": false
   },
   "id": "c9b4edfbd21ca78d",
   "execution_count": null
  },
  {
   "cell_type": "code",
   "outputs": [],
   "source": [
    "df = pd.read_excel(\"../data/knowledge.xlsx\")\n",
    "df.shape"
   ],
   "metadata": {
    "collapsed": false
   },
   "id": "63f1f1e5631d64b1",
   "execution_count": null
  },
  {
   "cell_type": "code",
   "outputs": [],
   "source": [
    "def get_content_embedding_sparse(content):\n",
    "    embedding_sparse_vector = ef([content])\n",
    "    embedding_sparse_vector = embedding_sparse_vector[\"sparse\"]\n",
    "    return embedding_sparse_vector"
   ],
   "metadata": {
    "collapsed": false
   },
   "id": "d4bc29baa891ee79",
   "execution_count": null
  },
  {
   "cell_type": "code",
   "outputs": [],
   "source": [
    "def get_content_embedding_milvus(content):\n",
    "    embedding_sparse_vector = ef([content])\n",
    "    return embedding_sparse_vector"
   ],
   "metadata": {
    "collapsed": false
   },
   "id": "5d31f18ca05477c0",
   "execution_count": null
  },
  {
   "cell_type": "code",
   "outputs": [],
   "source": [
    "embed_content = get_content_embedding_milvus(\"hihi\")"
   ],
   "metadata": {
    "collapsed": false
   },
   "id": "a95493945d14fa15",
   "execution_count": null
  },
  {
   "cell_type": "code",
   "outputs": [],
   "source": [
    "res = embed_content[\"dense\"][0]"
   ],
   "metadata": {
    "collapsed": false
   },
   "id": "8cedae97d03b663",
   "execution_count": null
  },
  {
   "cell_type": "code",
   "outputs": [],
   "source": [
    "type(res)"
   ],
   "metadata": {
    "collapsed": false
   },
   "id": "3057c6cc0dccd209",
   "execution_count": null
  },
  {
   "cell_type": "code",
   "outputs": [],
   "source": [
    "df = df[:4]"
   ],
   "metadata": {
    "collapsed": false
   },
   "id": "5e4f3961fd200cf",
   "execution_count": null
  },
  {
   "cell_type": "code",
   "outputs": [],
   "source": [
    "docs = [\"hihi\", \"haha\"]"
   ],
   "metadata": {
    "collapsed": false
   },
   "id": "320fcfa400d085cc",
   "execution_count": null
  },
  {
   "cell_type": "code",
   "outputs": [],
   "source": [
    "docs_embeddings = ef(docs)"
   ],
   "metadata": {
    "collapsed": false
   },
   "id": "18f5a83e60015b9b",
   "execution_count": null
  },
  {
   "cell_type": "code",
   "outputs": [],
   "source": [
    "docs_embeddings"
   ],
   "metadata": {
    "collapsed": false
   },
   "id": "98ecce7c0253e642",
   "execution_count": null
  },
  {
   "cell_type": "code",
   "outputs": [],
   "source": [
    "docs_embeddings['sparse'][0]"
   ],
   "metadata": {
    "collapsed": false
   },
   "id": "184dbdf4a6772b91",
   "execution_count": null
  },
  {
   "cell_type": "code",
   "outputs": [],
   "source": [
    "docs_embeddings['dense']"
   ],
   "metadata": {
    "collapsed": false
   },
   "id": "7c84fc0bb04aebd9",
   "execution_count": null
  },
  {
   "cell_type": "code",
   "outputs": [],
   "source": [
    "documents = []\n",
    "for index, row in df.iterrows():\n",
    "    embed_content = get_content_embedding_milvus(row[\"content\"])\n",
    "    documents.append({\n",
    "        \"id\": row[\"id\"],\n",
    "        \"title\": row[\"title\"],\n",
    "        \"content\": row[\"content\"],\n",
    "        \"dense_vector\": embed_content[\"dense\"][0],\n",
    "        \"sparse_vector\": embed_content[\"sparse\"][0],\n",
    "    })\n",
    "len(documents)"
   ],
   "metadata": {
    "collapsed": false
   },
   "id": "bb92021d96717644",
   "execution_count": null
  },
  {
   "cell_type": "code",
   "outputs": [],
   "source": [
    "connections.connect(\n",
    "    uri=f'https://{ZILLIZDB_HOST}',\n",
    "    token=ZILLIZDB_TOKEN\n",
    ")"
   ],
   "metadata": {
    "collapsed": false
   },
   "id": "bfd3b245c362dc01",
   "execution_count": null
  },
  {
   "cell_type": "code",
   "outputs": [],
   "source": [
    "fields = [\n",
    "    FieldSchema(name=\"id\", dtype=DataType.VARCHAR, is_primary=True, max_length=100),\n",
    "    FieldSchema(name=\"title\", dtype=DataType.VARCHAR, max_length=65535),\n",
    "    FieldSchema(name=\"content\", dtype=DataType.VARCHAR, max_length=65535),\n",
    "    FieldSchema(name=\"dense_vector\", dtype=DataType.FLOAT_VECTOR, dim=1024),\n",
    "    FieldSchema(name=\"sparse_vector\", dtype=DataType.SPARSE_FLOAT_VECTOR),\n",
    "]\n",
    "schema = CollectionSchema(fields, \"\")\n",
    "col = Collection(\"argo_documents_hs\", schema)"
   ],
   "metadata": {
    "collapsed": false
   },
   "id": "844562e8729e9857",
   "execution_count": null
  },
  {
   "cell_type": "code",
   "outputs": [],
   "source": [
    "sparse_index = {\"index_type\": \"SPARSE_INVERTED_INDEX\", \"metric_type\": \"IP\"}\n",
    "dense_index = {\"index_type\": \"FLAT\", \"metric_type\": \"COSINE\"}\n",
    "col.create_index(\"sparse_vector\", sparse_index)\n",
    "col.create_index(\"dense_vector\", dense_index)"
   ],
   "metadata": {
    "collapsed": false
   },
   "id": "d569944b5a84063b",
   "execution_count": null
  },
  {
   "cell_type": "code",
   "outputs": [
    {
     "data": {
      "text/plain": "(insert count: 4, delete count: 0, upsert count: 0, timestamp: 451298089810001922, success count: 4, err count: 0, cost: 7)"
     },
     "execution_count": 32,
     "metadata": {},
     "output_type": "execute_result"
    }
   ],
   "source": [
    "col.insert(documents)"
   ],
   "metadata": {
    "collapsed": false,
    "ExecuteTime": {
     "end_time": "2024-07-21T12:39:51.471076Z",
     "start_time": "2024-07-21T12:39:50.835618500Z"
    }
   },
   "id": "bf3bb4b078ebc43",
   "execution_count": 32
  },
  {
   "cell_type": "code",
   "outputs": [],
   "source": [
    "collection = Collection(name=ZILLIZDB_COLLECTION_NAME_DOCUMENTS)"
   ],
   "metadata": {
    "collapsed": false,
    "ExecuteTime": {
     "end_time": "2024-07-21T12:40:17.607405700Z",
     "start_time": "2024-07-21T12:40:17.167617400Z"
    }
   },
   "id": "27dea28a193b4fd7",
   "execution_count": 33
  },
  {
   "cell_type": "code",
   "outputs": [],
   "source": [
    "query = \"tín chỉ carbon là gì?\"\n",
    "embed_content = get_content_embedding_milvus(query)\n",
    "sparse_req = AnnSearchRequest(\n",
    "    embed_content[\"sparse\"][0], \"sparse_vector\", {\"metric_type\": \"IP\"}, limit=2\n",
    ")\n",
    "dense_req = AnnSearchRequest(\n",
    "    embed_content[\"dense\"][0], \"dense_vector\", {\"metric_type\": \"COSINE\"}, limit=2\n",
    ")"
   ],
   "metadata": {
    "collapsed": false,
    "ExecuteTime": {
     "end_time": "2024-07-21T12:41:09.885074800Z",
     "start_time": "2024-07-21T12:41:09.669076300Z"
    }
   },
   "id": "ef192ce67d75414a",
   "execution_count": 35
  },
  {
   "cell_type": "code",
   "outputs": [
    {
     "name": "stderr",
     "output_type": "stream",
     "text": [
      "Unexpected error: [hybrid_search], object of type 'numpy.float32' has no len(), <Time: {'RPC start': '2024-07-21 19:41:10.790975', 'Exception': '2024-07-21 19:41:10.790975'}>\n"
     ]
    },
    {
     "ename": "MilvusException",
     "evalue": "<MilvusException: (code=1, message=Unexpected error, message=<object of type 'numpy.float32' has no len()>)>",
     "output_type": "error",
     "traceback": [
      "\u001B[1;31m---------------------------------------------------------------------------\u001B[0m",
      "\u001B[1;31mTypeError\u001B[0m                                 Traceback (most recent call last)",
      "File \u001B[1;32m~\\AppData\\Local\\Programs\\Python\\Python310\\lib\\site-packages\\pymilvus\\decorators.py:143\u001B[0m, in \u001B[0;36merror_handler.<locals>.wrapper.<locals>.handler\u001B[1;34m(*args, **kwargs)\u001B[0m\n\u001B[0;32m    142\u001B[0m     record_dict[\u001B[38;5;124m\"\u001B[39m\u001B[38;5;124mRPC start\u001B[39m\u001B[38;5;124m\"\u001B[39m] \u001B[38;5;241m=\u001B[39m \u001B[38;5;28mstr\u001B[39m(datetime\u001B[38;5;241m.\u001B[39mdatetime\u001B[38;5;241m.\u001B[39mnow())\n\u001B[1;32m--> 143\u001B[0m     \u001B[38;5;28;01mreturn\u001B[39;00m func(\u001B[38;5;241m*\u001B[39margs, \u001B[38;5;241m*\u001B[39m\u001B[38;5;241m*\u001B[39mkwargs)\n\u001B[0;32m    144\u001B[0m \u001B[38;5;28;01mexcept\u001B[39;00m MilvusException \u001B[38;5;28;01mas\u001B[39;00m e:\n",
      "File \u001B[1;32m~\\AppData\\Local\\Programs\\Python\\Python310\\lib\\site-packages\\pymilvus\\decorators.py:182\u001B[0m, in \u001B[0;36mtracing_request.<locals>.wrapper.<locals>.handler\u001B[1;34m(self, *args, **kwargs)\u001B[0m\n\u001B[0;32m    181\u001B[0m     \u001B[38;5;28mself\u001B[39m\u001B[38;5;241m.\u001B[39mset_onetime_request_id(req_id)\n\u001B[1;32m--> 182\u001B[0m \u001B[38;5;28;01mreturn\u001B[39;00m func(\u001B[38;5;28mself\u001B[39m, \u001B[38;5;241m*\u001B[39margs, \u001B[38;5;241m*\u001B[39m\u001B[38;5;241m*\u001B[39mkwargs)\n",
      "File \u001B[1;32m~\\AppData\\Local\\Programs\\Python\\Python310\\lib\\site-packages\\pymilvus\\decorators.py:124\u001B[0m, in \u001B[0;36mretry_on_rpc_failure.<locals>.wrapper.<locals>.handler\u001B[1;34m(*args, **kwargs)\u001B[0m\n\u001B[0;32m    123\u001B[0m \u001B[38;5;28;01mexcept\u001B[39;00m \u001B[38;5;167;01mException\u001B[39;00m \u001B[38;5;28;01mas\u001B[39;00m e:\n\u001B[1;32m--> 124\u001B[0m     \u001B[38;5;28;01mraise\u001B[39;00m e \u001B[38;5;28;01mfrom\u001B[39;00m \u001B[38;5;21;01me\u001B[39;00m\n\u001B[0;32m    125\u001B[0m \u001B[38;5;28;01mfinally\u001B[39;00m:\n",
      "File \u001B[1;32m~\\AppData\\Local\\Programs\\Python\\Python310\\lib\\site-packages\\pymilvus\\decorators.py:87\u001B[0m, in \u001B[0;36mretry_on_rpc_failure.<locals>.wrapper.<locals>.handler\u001B[1;34m(*args, **kwargs)\u001B[0m\n\u001B[0;32m     86\u001B[0m \u001B[38;5;28;01mtry\u001B[39;00m:\n\u001B[1;32m---> 87\u001B[0m     \u001B[38;5;28;01mreturn\u001B[39;00m func(\u001B[38;5;241m*\u001B[39margs, \u001B[38;5;241m*\u001B[39m\u001B[38;5;241m*\u001B[39mkwargs)\n\u001B[0;32m     88\u001B[0m \u001B[38;5;28;01mexcept\u001B[39;00m grpc\u001B[38;5;241m.\u001B[39mRpcError \u001B[38;5;28;01mas\u001B[39;00m e:\n\u001B[0;32m     89\u001B[0m     \u001B[38;5;66;03m# Do not retry on these codes\u001B[39;00m\n",
      "File \u001B[1;32m~\\AppData\\Local\\Programs\\Python\\Python310\\lib\\site-packages\\pymilvus\\client\\grpc_handler.py:827\u001B[0m, in \u001B[0;36mGrpcHandler.hybrid_search\u001B[1;34m(self, collection_name, reqs, rerank, limit, partition_names, output_fields, round_decimal, timeout, **kwargs)\u001B[0m\n\u001B[0;32m    826\u001B[0m \u001B[38;5;28;01mfor\u001B[39;00m req \u001B[38;5;129;01min\u001B[39;00m reqs:\n\u001B[1;32m--> 827\u001B[0m     search_request \u001B[38;5;241m=\u001B[39m Prepare\u001B[38;5;241m.\u001B[39msearch_requests_with_expr(\n\u001B[0;32m    828\u001B[0m         collection_name,\n\u001B[0;32m    829\u001B[0m         req\u001B[38;5;241m.\u001B[39mdata,\n\u001B[0;32m    830\u001B[0m         req\u001B[38;5;241m.\u001B[39manns_field,\n\u001B[0;32m    831\u001B[0m         req\u001B[38;5;241m.\u001B[39mparam,\n\u001B[0;32m    832\u001B[0m         req\u001B[38;5;241m.\u001B[39mlimit,\n\u001B[0;32m    833\u001B[0m         req\u001B[38;5;241m.\u001B[39mexpr,\n\u001B[0;32m    834\u001B[0m         partition_names\u001B[38;5;241m=\u001B[39mpartition_names,\n\u001B[0;32m    835\u001B[0m         round_decimal\u001B[38;5;241m=\u001B[39mround_decimal,\n\u001B[0;32m    836\u001B[0m         \u001B[38;5;241m*\u001B[39m\u001B[38;5;241m*\u001B[39mkwargs,\n\u001B[0;32m    837\u001B[0m     )\n\u001B[0;32m    838\u001B[0m     requests\u001B[38;5;241m.\u001B[39mappend(search_request)\n",
      "File \u001B[1;32m~\\AppData\\Local\\Programs\\Python\\Python310\\lib\\site-packages\\pymilvus\\client\\prepare.py:681\u001B[0m, in \u001B[0;36mPrepare.search_requests_with_expr\u001B[1;34m(cls, collection_name, data, anns_field, param, limit, expr, partition_names, output_fields, round_decimal, **kwargs)\u001B[0m\n\u001B[0;32m    680\u001B[0m nq \u001B[38;5;241m=\u001B[39m entity_helper\u001B[38;5;241m.\u001B[39mget_input_num_rows(data)\n\u001B[1;32m--> 681\u001B[0m plg_str \u001B[38;5;241m=\u001B[39m \u001B[38;5;28;43mcls\u001B[39;49m\u001B[38;5;241;43m.\u001B[39;49m\u001B[43m_prepare_placeholder_str\u001B[49m\u001B[43m(\u001B[49m\u001B[43mdata\u001B[49m\u001B[43m)\u001B[49m\n\u001B[0;32m    683\u001B[0m request \u001B[38;5;241m=\u001B[39m milvus_types\u001B[38;5;241m.\u001B[39mSearchRequest(\n\u001B[0;32m    684\u001B[0m     collection_name\u001B[38;5;241m=\u001B[39mcollection_name,\n\u001B[0;32m    685\u001B[0m     partition_names\u001B[38;5;241m=\u001B[39mpartition_names,\n\u001B[1;32m   (...)\u001B[0m\n\u001B[0;32m    693\u001B[0m     search_params\u001B[38;5;241m=\u001B[39mreq_params,\n\u001B[0;32m    694\u001B[0m )\n",
      "File \u001B[1;32m~\\AppData\\Local\\Programs\\Python\\Python310\\lib\\site-packages\\pymilvus\\client\\prepare.py:619\u001B[0m, in \u001B[0;36mPrepare._prepare_placeholder_str\u001B[1;34m(cls, data)\u001B[0m\n\u001B[0;32m    617\u001B[0m     pl_values \u001B[38;5;241m=\u001B[39m (blob\u001B[38;5;241m.\u001B[39mvector_float_to_bytes(entity) \u001B[38;5;28;01mfor\u001B[39;00m entity \u001B[38;5;129;01min\u001B[39;00m data)\n\u001B[1;32m--> 619\u001B[0m pl \u001B[38;5;241m=\u001B[39m \u001B[43mcommon_types\u001B[49m\u001B[38;5;241;43m.\u001B[39;49m\u001B[43mPlaceholderValue\u001B[49m\u001B[43m(\u001B[49m\u001B[43mtag\u001B[49m\u001B[38;5;241;43m=\u001B[39;49m\u001B[38;5;124;43m\"\u001B[39;49m\u001B[38;5;124;43m$0\u001B[39;49m\u001B[38;5;124;43m\"\u001B[39;49m\u001B[43m,\u001B[49m\u001B[43m \u001B[49m\u001B[38;5;28;43mtype\u001B[39;49m\u001B[38;5;241;43m=\u001B[39;49m\u001B[43mpl_type\u001B[49m\u001B[43m,\u001B[49m\u001B[43m \u001B[49m\u001B[43mvalues\u001B[49m\u001B[38;5;241;43m=\u001B[39;49m\u001B[43mpl_values\u001B[49m\u001B[43m)\u001B[49m\n\u001B[0;32m    620\u001B[0m \u001B[38;5;28;01mreturn\u001B[39;00m common_types\u001B[38;5;241m.\u001B[39mPlaceholderGroup\u001B[38;5;241m.\u001B[39mSerializeToString(\n\u001B[0;32m    621\u001B[0m     common_types\u001B[38;5;241m.\u001B[39mPlaceholderGroup(placeholders\u001B[38;5;241m=\u001B[39m[pl])\n\u001B[0;32m    622\u001B[0m )\n",
      "File \u001B[1;32m~\\AppData\\Local\\Programs\\Python\\Python310\\lib\\site-packages\\pymilvus\\client\\prepare.py:617\u001B[0m, in \u001B[0;36m<genexpr>\u001B[1;34m(.0)\u001B[0m\n\u001B[0;32m    616\u001B[0m     pl_type \u001B[38;5;241m=\u001B[39m PlaceholderType\u001B[38;5;241m.\u001B[39mFloatVector\n\u001B[1;32m--> 617\u001B[0m     pl_values \u001B[38;5;241m=\u001B[39m (\u001B[43mblob\u001B[49m\u001B[38;5;241;43m.\u001B[39;49m\u001B[43mvector_float_to_bytes\u001B[49m\u001B[43m(\u001B[49m\u001B[43mentity\u001B[49m\u001B[43m)\u001B[49m \u001B[38;5;28;01mfor\u001B[39;00m entity \u001B[38;5;129;01min\u001B[39;00m data)\n\u001B[0;32m    619\u001B[0m pl \u001B[38;5;241m=\u001B[39m common_types\u001B[38;5;241m.\u001B[39mPlaceholderValue(tag\u001B[38;5;241m=\u001B[39m\u001B[38;5;124m\"\u001B[39m\u001B[38;5;124m$0\u001B[39m\u001B[38;5;124m\"\u001B[39m, \u001B[38;5;28mtype\u001B[39m\u001B[38;5;241m=\u001B[39mpl_type, values\u001B[38;5;241m=\u001B[39mpl_values)\n",
      "File \u001B[1;32m~\\AppData\\Local\\Programs\\Python\\Python310\\lib\\site-packages\\pymilvus\\client\\blob.py:8\u001B[0m, in \u001B[0;36mvector_float_to_bytes\u001B[1;34m(v)\u001B[0m\n\u001B[0;32m      6\u001B[0m \u001B[38;5;28;01mdef\u001B[39;00m \u001B[38;5;21mvector_float_to_bytes\u001B[39m(v: List[\u001B[38;5;28mfloat\u001B[39m]):\n\u001B[0;32m      7\u001B[0m     \u001B[38;5;66;03m# pack len(v) number of float\u001B[39;00m\n\u001B[1;32m----> 8\u001B[0m     \u001B[38;5;28;01mreturn\u001B[39;00m struct\u001B[38;5;241m.\u001B[39mpack(\u001B[38;5;124mf\u001B[39m\u001B[38;5;124m\"\u001B[39m\u001B[38;5;132;01m{\u001B[39;00m\u001B[38;5;28;43mlen\u001B[39;49m\u001B[43m(\u001B[49m\u001B[43mv\u001B[49m\u001B[43m)\u001B[49m\u001B[38;5;132;01m}\u001B[39;00m\u001B[38;5;124mf\u001B[39m\u001B[38;5;124m\"\u001B[39m, \u001B[38;5;241m*\u001B[39mv)\n",
      "\u001B[1;31mTypeError\u001B[0m: object of type 'numpy.float32' has no len()",
      "\nThe above exception was the direct cause of the following exception:\n",
      "\u001B[1;31mTypeError\u001B[0m                                 Traceback (most recent call last)",
      "File \u001B[1;32m~\\AppData\\Local\\Programs\\Python\\Python310\\lib\\site-packages\\pymilvus\\decorators.py:143\u001B[0m, in \u001B[0;36merror_handler.<locals>.wrapper.<locals>.handler\u001B[1;34m(*args, **kwargs)\u001B[0m\n\u001B[0;32m    142\u001B[0m     record_dict[\u001B[38;5;124m\"\u001B[39m\u001B[38;5;124mRPC start\u001B[39m\u001B[38;5;124m\"\u001B[39m] \u001B[38;5;241m=\u001B[39m \u001B[38;5;28mstr\u001B[39m(datetime\u001B[38;5;241m.\u001B[39mdatetime\u001B[38;5;241m.\u001B[39mnow())\n\u001B[1;32m--> 143\u001B[0m     \u001B[38;5;28;01mreturn\u001B[39;00m func(\u001B[38;5;241m*\u001B[39margs, \u001B[38;5;241m*\u001B[39m\u001B[38;5;241m*\u001B[39mkwargs)\n\u001B[0;32m    144\u001B[0m \u001B[38;5;28;01mexcept\u001B[39;00m MilvusException \u001B[38;5;28;01mas\u001B[39;00m e:\n",
      "File \u001B[1;32m~\\AppData\\Local\\Programs\\Python\\Python310\\lib\\site-packages\\pymilvus\\decorators.py:182\u001B[0m, in \u001B[0;36mtracing_request.<locals>.wrapper.<locals>.handler\u001B[1;34m(self, *args, **kwargs)\u001B[0m\n\u001B[0;32m    181\u001B[0m     \u001B[38;5;28mself\u001B[39m\u001B[38;5;241m.\u001B[39mset_onetime_request_id(req_id)\n\u001B[1;32m--> 182\u001B[0m \u001B[38;5;28;01mreturn\u001B[39;00m func(\u001B[38;5;28mself\u001B[39m, \u001B[38;5;241m*\u001B[39margs, \u001B[38;5;241m*\u001B[39m\u001B[38;5;241m*\u001B[39mkwargs)\n",
      "File \u001B[1;32m~\\AppData\\Local\\Programs\\Python\\Python310\\lib\\site-packages\\pymilvus\\decorators.py:124\u001B[0m, in \u001B[0;36mretry_on_rpc_failure.<locals>.wrapper.<locals>.handler\u001B[1;34m(*args, **kwargs)\u001B[0m\n\u001B[0;32m    123\u001B[0m \u001B[38;5;28;01mexcept\u001B[39;00m \u001B[38;5;167;01mException\u001B[39;00m \u001B[38;5;28;01mas\u001B[39;00m e:\n\u001B[1;32m--> 124\u001B[0m     \u001B[38;5;28;01mraise\u001B[39;00m e \u001B[38;5;28;01mfrom\u001B[39;00m \u001B[38;5;21;01me\u001B[39;00m\n\u001B[0;32m    125\u001B[0m \u001B[38;5;28;01mfinally\u001B[39;00m:\n",
      "File \u001B[1;32m~\\AppData\\Local\\Programs\\Python\\Python310\\lib\\site-packages\\pymilvus\\decorators.py:87\u001B[0m, in \u001B[0;36mretry_on_rpc_failure.<locals>.wrapper.<locals>.handler\u001B[1;34m(*args, **kwargs)\u001B[0m\n\u001B[0;32m     86\u001B[0m \u001B[38;5;28;01mtry\u001B[39;00m:\n\u001B[1;32m---> 87\u001B[0m     \u001B[38;5;28;01mreturn\u001B[39;00m func(\u001B[38;5;241m*\u001B[39margs, \u001B[38;5;241m*\u001B[39m\u001B[38;5;241m*\u001B[39mkwargs)\n\u001B[0;32m     88\u001B[0m \u001B[38;5;28;01mexcept\u001B[39;00m grpc\u001B[38;5;241m.\u001B[39mRpcError \u001B[38;5;28;01mas\u001B[39;00m e:\n\u001B[0;32m     89\u001B[0m     \u001B[38;5;66;03m# Do not retry on these codes\u001B[39;00m\n",
      "File \u001B[1;32m~\\AppData\\Local\\Programs\\Python\\Python310\\lib\\site-packages\\pymilvus\\client\\grpc_handler.py:827\u001B[0m, in \u001B[0;36mGrpcHandler.hybrid_search\u001B[1;34m(self, collection_name, reqs, rerank, limit, partition_names, output_fields, round_decimal, timeout, **kwargs)\u001B[0m\n\u001B[0;32m    826\u001B[0m \u001B[38;5;28;01mfor\u001B[39;00m req \u001B[38;5;129;01min\u001B[39;00m reqs:\n\u001B[1;32m--> 827\u001B[0m     search_request \u001B[38;5;241m=\u001B[39m Prepare\u001B[38;5;241m.\u001B[39msearch_requests_with_expr(\n\u001B[0;32m    828\u001B[0m         collection_name,\n\u001B[0;32m    829\u001B[0m         req\u001B[38;5;241m.\u001B[39mdata,\n\u001B[0;32m    830\u001B[0m         req\u001B[38;5;241m.\u001B[39manns_field,\n\u001B[0;32m    831\u001B[0m         req\u001B[38;5;241m.\u001B[39mparam,\n\u001B[0;32m    832\u001B[0m         req\u001B[38;5;241m.\u001B[39mlimit,\n\u001B[0;32m    833\u001B[0m         req\u001B[38;5;241m.\u001B[39mexpr,\n\u001B[0;32m    834\u001B[0m         partition_names\u001B[38;5;241m=\u001B[39mpartition_names,\n\u001B[0;32m    835\u001B[0m         round_decimal\u001B[38;5;241m=\u001B[39mround_decimal,\n\u001B[0;32m    836\u001B[0m         \u001B[38;5;241m*\u001B[39m\u001B[38;5;241m*\u001B[39mkwargs,\n\u001B[0;32m    837\u001B[0m     )\n\u001B[0;32m    838\u001B[0m     requests\u001B[38;5;241m.\u001B[39mappend(search_request)\n",
      "File \u001B[1;32m~\\AppData\\Local\\Programs\\Python\\Python310\\lib\\site-packages\\pymilvus\\client\\prepare.py:681\u001B[0m, in \u001B[0;36mPrepare.search_requests_with_expr\u001B[1;34m(cls, collection_name, data, anns_field, param, limit, expr, partition_names, output_fields, round_decimal, **kwargs)\u001B[0m\n\u001B[0;32m    680\u001B[0m nq \u001B[38;5;241m=\u001B[39m entity_helper\u001B[38;5;241m.\u001B[39mget_input_num_rows(data)\n\u001B[1;32m--> 681\u001B[0m plg_str \u001B[38;5;241m=\u001B[39m \u001B[38;5;28;43mcls\u001B[39;49m\u001B[38;5;241;43m.\u001B[39;49m\u001B[43m_prepare_placeholder_str\u001B[49m\u001B[43m(\u001B[49m\u001B[43mdata\u001B[49m\u001B[43m)\u001B[49m\n\u001B[0;32m    683\u001B[0m request \u001B[38;5;241m=\u001B[39m milvus_types\u001B[38;5;241m.\u001B[39mSearchRequest(\n\u001B[0;32m    684\u001B[0m     collection_name\u001B[38;5;241m=\u001B[39mcollection_name,\n\u001B[0;32m    685\u001B[0m     partition_names\u001B[38;5;241m=\u001B[39mpartition_names,\n\u001B[1;32m   (...)\u001B[0m\n\u001B[0;32m    693\u001B[0m     search_params\u001B[38;5;241m=\u001B[39mreq_params,\n\u001B[0;32m    694\u001B[0m )\n",
      "File \u001B[1;32m~\\AppData\\Local\\Programs\\Python\\Python310\\lib\\site-packages\\pymilvus\\client\\prepare.py:619\u001B[0m, in \u001B[0;36mPrepare._prepare_placeholder_str\u001B[1;34m(cls, data)\u001B[0m\n\u001B[0;32m    617\u001B[0m     pl_values \u001B[38;5;241m=\u001B[39m (blob\u001B[38;5;241m.\u001B[39mvector_float_to_bytes(entity) \u001B[38;5;28;01mfor\u001B[39;00m entity \u001B[38;5;129;01min\u001B[39;00m data)\n\u001B[1;32m--> 619\u001B[0m pl \u001B[38;5;241m=\u001B[39m \u001B[43mcommon_types\u001B[49m\u001B[38;5;241;43m.\u001B[39;49m\u001B[43mPlaceholderValue\u001B[49m\u001B[43m(\u001B[49m\u001B[43mtag\u001B[49m\u001B[38;5;241;43m=\u001B[39;49m\u001B[38;5;124;43m\"\u001B[39;49m\u001B[38;5;124;43m$0\u001B[39;49m\u001B[38;5;124;43m\"\u001B[39;49m\u001B[43m,\u001B[49m\u001B[43m \u001B[49m\u001B[38;5;28;43mtype\u001B[39;49m\u001B[38;5;241;43m=\u001B[39;49m\u001B[43mpl_type\u001B[49m\u001B[43m,\u001B[49m\u001B[43m \u001B[49m\u001B[43mvalues\u001B[49m\u001B[38;5;241;43m=\u001B[39;49m\u001B[43mpl_values\u001B[49m\u001B[43m)\u001B[49m\n\u001B[0;32m    620\u001B[0m \u001B[38;5;28;01mreturn\u001B[39;00m common_types\u001B[38;5;241m.\u001B[39mPlaceholderGroup\u001B[38;5;241m.\u001B[39mSerializeToString(\n\u001B[0;32m    621\u001B[0m     common_types\u001B[38;5;241m.\u001B[39mPlaceholderGroup(placeholders\u001B[38;5;241m=\u001B[39m[pl])\n\u001B[0;32m    622\u001B[0m )\n",
      "File \u001B[1;32m~\\AppData\\Local\\Programs\\Python\\Python310\\lib\\site-packages\\pymilvus\\client\\prepare.py:617\u001B[0m, in \u001B[0;36m<genexpr>\u001B[1;34m(.0)\u001B[0m\n\u001B[0;32m    616\u001B[0m     pl_type \u001B[38;5;241m=\u001B[39m PlaceholderType\u001B[38;5;241m.\u001B[39mFloatVector\n\u001B[1;32m--> 617\u001B[0m     pl_values \u001B[38;5;241m=\u001B[39m (\u001B[43mblob\u001B[49m\u001B[38;5;241;43m.\u001B[39;49m\u001B[43mvector_float_to_bytes\u001B[49m\u001B[43m(\u001B[49m\u001B[43mentity\u001B[49m\u001B[43m)\u001B[49m \u001B[38;5;28;01mfor\u001B[39;00m entity \u001B[38;5;129;01min\u001B[39;00m data)\n\u001B[0;32m    619\u001B[0m pl \u001B[38;5;241m=\u001B[39m common_types\u001B[38;5;241m.\u001B[39mPlaceholderValue(tag\u001B[38;5;241m=\u001B[39m\u001B[38;5;124m\"\u001B[39m\u001B[38;5;124m$0\u001B[39m\u001B[38;5;124m\"\u001B[39m, \u001B[38;5;28mtype\u001B[39m\u001B[38;5;241m=\u001B[39mpl_type, values\u001B[38;5;241m=\u001B[39mpl_values)\n",
      "File \u001B[1;32m~\\AppData\\Local\\Programs\\Python\\Python310\\lib\\site-packages\\pymilvus\\client\\blob.py:8\u001B[0m, in \u001B[0;36mvector_float_to_bytes\u001B[1;34m(v)\u001B[0m\n\u001B[0;32m      6\u001B[0m \u001B[38;5;28;01mdef\u001B[39;00m \u001B[38;5;21mvector_float_to_bytes\u001B[39m(v: List[\u001B[38;5;28mfloat\u001B[39m]):\n\u001B[0;32m      7\u001B[0m     \u001B[38;5;66;03m# pack len(v) number of float\u001B[39;00m\n\u001B[1;32m----> 8\u001B[0m     \u001B[38;5;28;01mreturn\u001B[39;00m struct\u001B[38;5;241m.\u001B[39mpack(\u001B[38;5;124mf\u001B[39m\u001B[38;5;124m\"\u001B[39m\u001B[38;5;132;01m{\u001B[39;00m\u001B[38;5;28;43mlen\u001B[39;49m\u001B[43m(\u001B[49m\u001B[43mv\u001B[49m\u001B[43m)\u001B[49m\u001B[38;5;132;01m}\u001B[39;00m\u001B[38;5;124mf\u001B[39m\u001B[38;5;124m\"\u001B[39m, \u001B[38;5;241m*\u001B[39mv)\n",
      "\u001B[1;31mTypeError\u001B[0m: object of type 'numpy.float32' has no len()",
      "\nThe above exception was the direct cause of the following exception:\n",
      "\u001B[1;31mMilvusException\u001B[0m                           Traceback (most recent call last)",
      "Cell \u001B[1;32mIn[36], line 1\u001B[0m\n\u001B[1;32m----> 1\u001B[0m search_results \u001B[38;5;241m=\u001B[39m \u001B[43mcollection\u001B[49m\u001B[38;5;241;43m.\u001B[39;49m\u001B[43mhybrid_search\u001B[49m\u001B[43m(\u001B[49m\n\u001B[0;32m      2\u001B[0m \u001B[43m    \u001B[49m\u001B[43mreqs\u001B[49m\u001B[38;5;241;43m=\u001B[39;49m\u001B[43m[\u001B[49m\u001B[43msparse_req\u001B[49m\u001B[43m,\u001B[49m\u001B[43m \u001B[49m\u001B[43mdense_req\u001B[49m\u001B[43m]\u001B[49m\u001B[43m,\u001B[49m\n\u001B[0;32m      3\u001B[0m \u001B[43m    \u001B[49m\u001B[43mrerank\u001B[49m\u001B[38;5;241;43m=\u001B[39;49m\u001B[43mRRFRanker\u001B[49m\u001B[43m(\u001B[49m\u001B[43m)\u001B[49m\u001B[43m,\u001B[49m\n\u001B[0;32m      4\u001B[0m \u001B[43m    \u001B[49m\u001B[43mlimit\u001B[49m\u001B[38;5;241;43m=\u001B[39;49m\u001B[38;5;241;43m2\u001B[39;49m\u001B[43m,\u001B[49m\n\u001B[0;32m      5\u001B[0m \u001B[43m    \u001B[49m\u001B[38;5;66;43;03m# output_fields=[\"id\", \"title\", \"content\"]\u001B[39;49;00m\n\u001B[0;32m      6\u001B[0m \u001B[43m)\u001B[49m\n",
      "File \u001B[1;32m~\\AppData\\Local\\Programs\\Python\\Python310\\lib\\site-packages\\pymilvus\\orm\\collection.py:943\u001B[0m, in \u001B[0;36mCollection.hybrid_search\u001B[1;34m(self, reqs, rerank, limit, partition_names, output_fields, timeout, round_decimal, **kwargs)\u001B[0m\n\u001B[0;32m    940\u001B[0m     \u001B[38;5;28;01mreturn\u001B[39;00m SearchFuture(\u001B[38;5;28;01mNone\u001B[39;00m) \u001B[38;5;28;01mif\u001B[39;00m kwargs\u001B[38;5;241m.\u001B[39mget(\u001B[38;5;124m\"\u001B[39m\u001B[38;5;124m_async\u001B[39m\u001B[38;5;124m\"\u001B[39m, \u001B[38;5;28;01mFalse\u001B[39;00m) \u001B[38;5;28;01melse\u001B[39;00m resp\n\u001B[0;32m    942\u001B[0m conn \u001B[38;5;241m=\u001B[39m \u001B[38;5;28mself\u001B[39m\u001B[38;5;241m.\u001B[39m_get_connection()\n\u001B[1;32m--> 943\u001B[0m resp \u001B[38;5;241m=\u001B[39m conn\u001B[38;5;241m.\u001B[39mhybrid_search(\n\u001B[0;32m    944\u001B[0m     \u001B[38;5;28mself\u001B[39m\u001B[38;5;241m.\u001B[39m_name,\n\u001B[0;32m    945\u001B[0m     reqs,\n\u001B[0;32m    946\u001B[0m     rerank,\n\u001B[0;32m    947\u001B[0m     limit,\n\u001B[0;32m    948\u001B[0m     partition_names,\n\u001B[0;32m    949\u001B[0m     output_fields,\n\u001B[0;32m    950\u001B[0m     round_decimal,\n\u001B[0;32m    951\u001B[0m     timeout\u001B[38;5;241m=\u001B[39mtimeout,\n\u001B[0;32m    952\u001B[0m     schema\u001B[38;5;241m=\u001B[39m\u001B[38;5;28mself\u001B[39m\u001B[38;5;241m.\u001B[39m_schema_dict,\n\u001B[0;32m    953\u001B[0m     \u001B[38;5;241m*\u001B[39m\u001B[38;5;241m*\u001B[39mkwargs,\n\u001B[0;32m    954\u001B[0m )\n\u001B[0;32m    956\u001B[0m \u001B[38;5;28;01mreturn\u001B[39;00m SearchFuture(resp) \u001B[38;5;28;01mif\u001B[39;00m kwargs\u001B[38;5;241m.\u001B[39mget(\u001B[38;5;124m\"\u001B[39m\u001B[38;5;124m_async\u001B[39m\u001B[38;5;124m\"\u001B[39m, \u001B[38;5;28;01mFalse\u001B[39;00m) \u001B[38;5;28;01melse\u001B[39;00m resp\n",
      "File \u001B[1;32m~\\AppData\\Local\\Programs\\Python\\Python310\\lib\\site-packages\\pymilvus\\decorators.py:165\u001B[0m, in \u001B[0;36merror_handler.<locals>.wrapper.<locals>.handler\u001B[1;34m(*args, **kwargs)\u001B[0m\n\u001B[0;32m    163\u001B[0m record_dict[\u001B[38;5;124m\"\u001B[39m\u001B[38;5;124mException\u001B[39m\u001B[38;5;124m\"\u001B[39m] \u001B[38;5;241m=\u001B[39m \u001B[38;5;28mstr\u001B[39m(datetime\u001B[38;5;241m.\u001B[39mdatetime\u001B[38;5;241m.\u001B[39mnow())\n\u001B[0;32m    164\u001B[0m LOGGER\u001B[38;5;241m.\u001B[39merror(\u001B[38;5;124mf\u001B[39m\u001B[38;5;124m\"\u001B[39m\u001B[38;5;124mUnexpected error: [\u001B[39m\u001B[38;5;132;01m{\u001B[39;00minner_name\u001B[38;5;132;01m}\u001B[39;00m\u001B[38;5;124m], \u001B[39m\u001B[38;5;132;01m{\u001B[39;00me\u001B[38;5;132;01m}\u001B[39;00m\u001B[38;5;124m, <Time: \u001B[39m\u001B[38;5;132;01m{\u001B[39;00mrecord_dict\u001B[38;5;132;01m}\u001B[39;00m\u001B[38;5;124m>\u001B[39m\u001B[38;5;124m\"\u001B[39m)\n\u001B[1;32m--> 165\u001B[0m \u001B[38;5;28;01mraise\u001B[39;00m MilvusException(message\u001B[38;5;241m=\u001B[39m\u001B[38;5;124mf\u001B[39m\u001B[38;5;124m\"\u001B[39m\u001B[38;5;124mUnexpected error, message=<\u001B[39m\u001B[38;5;132;01m{\u001B[39;00me\u001B[38;5;132;01m!s}\u001B[39;00m\u001B[38;5;124m>\u001B[39m\u001B[38;5;124m\"\u001B[39m) \u001B[38;5;28;01mfrom\u001B[39;00m \u001B[38;5;21;01me\u001B[39;00m\n",
      "\u001B[1;31mMilvusException\u001B[0m: <MilvusException: (code=1, message=Unexpected error, message=<object of type 'numpy.float32' has no len()>)>"
     ]
    }
   ],
   "source": [
    "search_results = collection.hybrid_search(\n",
    "    reqs=[sparse_req, dense_req],\n",
    "    rerank=RRFRanker(),\n",
    "    limit=2,\n",
    "    # output_fields=[\"id\", \"title\", \"content\"]\n",
    ")"
   ],
   "metadata": {
    "collapsed": false,
    "ExecuteTime": {
     "end_time": "2024-07-21T12:41:11.088973600Z",
     "start_time": "2024-07-21T12:41:10.788977700Z"
    }
   },
   "id": "b731665350619054",
   "execution_count": 36
  },
  {
   "cell_type": "code",
   "outputs": [],
   "source": [],
   "metadata": {
    "collapsed": false
   },
   "id": "3c00bacbaa03a31e"
  }
 ],
 "metadata": {
  "kernelspec": {
   "display_name": "Python 3",
   "language": "python",
   "name": "python3"
  },
  "language_info": {
   "codemirror_mode": {
    "name": "ipython",
    "version": 2
   },
   "file_extension": ".py",
   "mimetype": "text/x-python",
   "name": "python",
   "nbconvert_exporter": "python",
   "pygments_lexer": "ipython2",
   "version": "2.7.6"
  }
 },
 "nbformat": 4,
 "nbformat_minor": 5
}
