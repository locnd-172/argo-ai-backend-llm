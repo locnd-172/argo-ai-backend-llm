{
 "cells": [
  {
   "cell_type": "code",
   "outputs": [],
   "source": [
    "import time\n",
    "import pandas as pd\n",
    "from datetime import datetime\n",
    "import firebase_admin\n",
    "from firebase_admin import credentials, firestore"
   ],
   "metadata": {
    "collapsed": false,
    "ExecuteTime": {
     "end_time": "2024-07-17T16:02:46.488963100Z",
     "start_time": "2024-07-17T16:02:45.511165Z"
    }
   },
   "id": "f6b9d5de2fb5e993",
   "execution_count": 1
  },
  {
   "cell_type": "code",
   "outputs": [],
   "source": [
    "cred = credentials.Certificate('../assets/argoai-63051-firebase-adminsdk-ykwbi-a14bbb8c68.json')\n",
    "\n",
    "app = firebase_admin.initialize_app(cred)\n",
    "db = firestore.client()"
   ],
   "metadata": {
    "collapsed": false,
    "ExecuteTime": {
     "end_time": "2024-07-17T16:02:46.538467700Z",
     "start_time": "2024-07-17T16:02:46.489963100Z"
    }
   },
   "id": "68fa004865cc5261",
   "execution_count": 2
  },
  {
   "cell_type": "code",
   "outputs": [],
   "source": [
    "bulk_writer = db.bulk_writer()\n",
    "batch = db.batch()\n",
    "collection = db.collection('emission_factors')\n"
   ],
   "metadata": {
    "collapsed": false,
    "ExecuteTime": {
     "end_time": "2024-07-17T16:02:46.556731300Z",
     "start_time": "2024-07-17T16:02:46.541422200Z"
    }
   },
   "id": "fdd4a140a368189e",
   "execution_count": 3
  },
  {
   "cell_type": "code",
   "outputs": [],
   "source": [
    "def create_data_item(row):\n",
    "    return {\n",
    "        \"created_time\": time.time(),\n",
    "        \"name\": row.get(\"name\", \"\"),\n",
    "        \"co2\": float(row.get(\"co2\", 0)),\n",
    "        \"co2_unit\": row.get(\"co2_unit\", \"kg/ha\"),\n",
    "        \"ch4\": float(row.get(\"ch4\", 0)),\n",
    "        \"ch4_unit\": row.get(\"ch4_unit\", \"kg/ha\"),\n",
    "        \"n2o\": float(row.get(\"n2o\", 0)),\n",
    "        \"n2o_unit\": row.get(\"n2o_unit\", \"kg/ha\"),\n",
    "        \"source\": row.get(\"source\", None),\n",
    "        \"link\": row.get(\"link\", None),\n",
    "        \"type\": row.get(\"type\", None),\n",
    "        \"scope\": int(row.get(\"scope\", 1)),\n",
    "    }"
   ],
   "metadata": {
    "collapsed": false,
    "ExecuteTime": {
     "end_time": "2024-07-17T16:02:46.569246600Z",
     "start_time": "2024-07-17T16:02:46.555729Z"
    }
   },
   "id": "1daa1e4746a7e97",
   "execution_count": 4
  },
  {
   "cell_type": "code",
   "outputs": [],
   "source": [
    "def write_data_to_firestore(df):\n",
    "    bulk_writer = db.bulk_writer()\n",
    "\n",
    "    for index, row in df.iterrows():\n",
    "        print(f\"index: {index}\")\n",
    "        time.sleep(0.5)\n",
    "        data_item = create_data_item(row)\n",
    "        doc_ref = db.collection(\"emission_factors\").document()\n",
    "        print(f\"data: {data_item}\")\n",
    "        print(\"________\")\n",
    "        bulk_writer.set(doc_ref, data_item)\n",
    "\n",
    "    bulk_writer.flush()"
   ],
   "metadata": {
    "collapsed": false,
    "ExecuteTime": {
     "end_time": "2024-07-17T16:02:46.583786500Z",
     "start_time": "2024-07-17T16:02:46.570326800Z"
    }
   },
   "id": "ae8ea9442b7a91df",
   "execution_count": 5
  },
  {
   "cell_type": "code",
   "outputs": [],
   "source": [
    "df = pd.read_excel('../data/EF_Table.xlsx')"
   ],
   "metadata": {
    "collapsed": false,
    "ExecuteTime": {
     "end_time": "2024-07-17T16:02:46.895018100Z",
     "start_time": "2024-07-17T16:02:46.584786300Z"
    }
   },
   "id": "e3829b46824b5d6e",
   "execution_count": 6
  },
  {
   "cell_type": "code",
   "outputs": [
    {
     "name": "stdout",
     "output_type": "stream",
     "text": [
      "index: 0\n",
      "data: {'created_time': 1721232167.4153035, 'name': 'Continuous Flooding', 'co2': 0.0, 'co2_unit': 'kg', 'ch4': 1.3, 'ch4_unit': 'kg', 'n2o': 0.0, 'n2o_unit': 'kg', 'source': 'IPCC 2006 Guidelines', 'link': 'https://www.ipcc-nggip.iges.or.jp/public/2006gl/', 'type': 'Rice cultivation', 'scope': 1}\n",
      "________\n",
      "index: 1\n",
      "data: {'created_time': 1721232167.929088, 'name': 'Intermittent Flooding (Single aeration)', 'co2': 0.0, 'co2_unit': 'kg', 'ch4': 0.8, 'ch4_unit': 'kg', 'n2o': 0.0, 'n2o_unit': 'kg', 'source': 'IPCC 2006 Guidelines', 'link': 'https://www.ipcc-nggip.iges.or.jp/public/2006gl/', 'type': 'Rice cultivation', 'scope': 1}\n",
      "________\n",
      "index: 2\n",
      "data: {'created_time': 1721232168.4406793, 'name': 'Intermittently Flooded Fields (Multiple Aeration)', 'co2': 0.0, 'co2_unit': 'kg', 'ch4': 0.5, 'ch4_unit': 'kg', 'n2o': 0.0, 'n2o_unit': 'kg', 'source': 'IPCC 2006 Guidelines', 'link': 'https://www.ipcc-nggip.iges.or.jp/public/2006gl/', 'type': 'Rice cultivation', 'scope': 1}\n",
      "________\n",
      "index: 3\n",
      "data: {'created_time': 1721232168.9529018, 'name': 'Rainfed/Deep water', 'co2': 0.0, 'co2_unit': 'kg', 'ch4': 0.2, 'ch4_unit': 'kg', 'n2o': 0.0, 'n2o_unit': 'kg', 'source': 'IPCC 2006 Guidelines', 'link': 'https://www.ipcc-nggip.iges.or.jp/public/2006gl/', 'type': 'Rice cultivation', 'scope': 1}\n",
      "________\n",
      "index: 4\n",
      "data: {'created_time': 1721232169.4642298, 'name': 'Upland (Not flooded at all)', 'co2': 0.0, 'co2_unit': 'kg', 'ch4': 0.1, 'ch4_unit': 'kg', 'n2o': 0.0, 'n2o_unit': 'kg', 'source': 'IPCC 2006 Guidelines', 'link': 'https://www.ipcc-nggip.iges.or.jp/public/2006gl/', 'type': 'Rice cultivation', 'scope': 1}\n",
      "________\n",
      "index: 5\n",
      "data: {'created_time': 1721232169.978073, 'name': 'Straw incorporated shortly (<30 days) before cultivation', 'co2': 0.0, 'co2_unit': 'kg', 'ch4': 1.0, 'ch4_unit': 'kg', 'n2o': 0.0, 'n2o_unit': 'kg', 'source': 'IPCC 2006 Guidelines', 'link': 'https://www.ipcc-nggip.iges.or.jp/public/2006gl/', 'type': 'Rice cultivation', 'scope': 1}\n",
      "________\n",
      "index: 6\n",
      "data: {'created_time': 1721232170.4909074, 'name': 'Straw incorporated long (>30 days) before cultivation', 'co2': 0.0, 'co2_unit': 'kg', 'ch4': 0.29, 'ch4_unit': 'kg', 'n2o': 0.0, 'n2o_unit': 'kg', 'source': 'IPCC 2006 Guidelines', 'link': 'https://www.ipcc-nggip.iges.or.jp/public/2006gl/', 'type': 'Rice cultivation', 'scope': 1}\n",
      "________\n",
      "index: 7\n",
      "data: {'created_time': 1721232171.004291, 'name': 'Compost', 'co2': 0.0, 'co2_unit': 'kg', 'ch4': 0.05, 'ch4_unit': 'kg', 'n2o': 0.0, 'n2o_unit': 'kg', 'source': 'IPCC 2006 Guidelines', 'link': 'https://www.ipcc-nggip.iges.or.jp/public/2006gl/', 'type': 'Fertiliser / waste application', 'scope': 1}\n",
      "________\n",
      "index: 8\n",
      "data: {'created_time': 1721232171.5189018, 'name': 'Farm yard manure', 'co2': 0.0, 'co2_unit': 'kg', 'ch4': 0.14, 'ch4_unit': 'kg', 'n2o': 0.0, 'n2o_unit': 'kg', 'source': 'IPCC 2006 Guidelines', 'link': 'https://www.ipcc-nggip.iges.or.jp/public/2006gl/', 'type': 'Manure', 'scope': 1}\n",
      "________\n",
      "index: 9\n",
      "data: {'created_time': 1721232172.0340202, 'name': 'Green manure', 'co2': 0.0, 'co2_unit': 'kg', 'ch4': 0.5, 'ch4_unit': 'kg', 'n2o': 0.0, 'n2o_unit': 'kg', 'source': 'IPCC 2006 Guidelines', 'link': 'https://www.ipcc-nggip.iges.or.jp/public/2006gl/', 'type': 'Manure', 'scope': 1}\n",
      "________\n",
      "index: 10\n",
      "data: {'created_time': 1721232172.546598, 'name': 'Pesticide', 'co2': 18.3, 'co2_unit': 'kg', 'ch4': 0.0, 'ch4_unit': 'kg', 'n2o': 0.0, 'n2o_unit': 'kg', 'source': 'Ecoinvent - Life cycle databases', 'link': 'ecoinvent - Data with purpose.', 'type': 'Fertiliser / waste application', 'scope': 1}\n",
      "________\n",
      "index: 11\n",
      "data: {'created_time': 1721232173.0616643, 'name': 'Herbicide', 'co2': 15.0, 'co2_unit': 'kg', 'ch4': 0.0, 'ch4_unit': 'kg', 'n2o': 0.0, 'n2o_unit': 'kg', 'source': 'Ecoinvent - Life cycle databases', 'link': 'ecoinvent - Data with purpose.', 'type': 'Fertiliser / waste application', 'scope': 1}\n",
      "________\n",
      "index: 12\n",
      "data: {'created_time': 1721232173.576673, 'name': 'Fungicide', 'co2': 10.0, 'co2_unit': 'kg', 'ch4': 0.0, 'ch4_unit': 'kg', 'n2o': 0.0, 'n2o_unit': 'kg', 'source': 'Ecoinvent - Life cycle databases', 'link': 'ecoinvent - Data with purpose.', 'type': 'Fertiliser / waste application', 'scope': 1}\n",
      "________\n",
      "index: 13\n",
      "data: {'created_time': 1721232174.0779283, 'name': 'Insecticide', 'co2': 20.0, 'co2_unit': 'kg', 'ch4': 0.0, 'ch4_unit': 'kg', 'n2o': 0.0, 'n2o_unit': 'kg', 'source': 'Ecoinvent - Life cycle databases', 'link': 'ecoinvent - Data with purpose.', 'type': 'Fertiliser / waste application', 'scope': 1}\n",
      "________\n",
      "index: 14\n",
      "data: {'created_time': 1721232174.5834978, 'name': 'Synthetic fertilizer', 'co2': 0.0, 'co2_unit': 'kg', 'ch4': 0.0, 'ch4_unit': 'kg', 'n2o': 0.01, 'n2o_unit': 'kg', 'source': 'IPCC 2006 Guidelines', 'link': 'https://www.ipcc-nggip.iges.or.jp/public/2006gl/', 'type': 'Fertiliser / waste application', 'scope': 1}\n",
      "________\n",
      "index: 15\n",
      "data: {'created_time': 1721232175.098008, 'name': 'Animal manure', 'co2': 0.0, 'co2_unit': 'kg', 'ch4': 0.0, 'ch4_unit': 'kg', 'n2o': 0.01, 'n2o_unit': 'kg', 'source': 'IPCC 2006 Guidelines', 'link': 'https://www.ipcc-nggip.iges.or.jp/public/2006gl/', 'type': 'Manure', 'scope': 1}\n",
      "________\n",
      "index: 16\n",
      "data: {'created_time': 1721232175.612927, 'name': 'Landfilling', 'co2': 0.0, 'co2_unit': 'kg', 'ch4': 0.015, 'ch4_unit': 'kg', 'n2o': 0.0, 'n2o_unit': 'kg', 'source': 'IPCC 2006 Guidelines', 'link': 'https://www.ipcc-nggip.iges.or.jp/public/2006gl/', 'type': 'Fertiliser / waste application', 'scope': 1}\n",
      "________\n",
      "index: 17\n",
      "data: {'created_time': 1721232176.1250355, 'name': 'Incineration', 'co2': 0.9, 'co2_unit': 'kg', 'ch4': 0.0, 'ch4_unit': 'kg', 'n2o': 0.0, 'n2o_unit': 'kg', 'source': 'IPCC 2006 Guidelines', 'link': 'https://www.ipcc-nggip.iges.or.jp/public/2006gl/', 'type': 'Biomass burning', 'scope': 1}\n",
      "________\n",
      "index: 18\n",
      "data: {'created_time': 1721232176.6430442, 'name': 'Burning crop', 'co2': 0.0, 'co2_unit': 'kg', 'ch4': 0.0027, 'ch4_unit': 'kg', 'n2o': 7e-05, 'n2o_unit': 'kg', 'source': 'IPCC 2006 Guidelines', 'link': 'https://www.ipcc-nggip.iges.or.jp/public/2006gl/', 'type': 'Biomass burning', 'scope': 1}\n",
      "________\n",
      "index: 19\n",
      "data: {'created_time': 1721232177.1569695, 'name': 'Composting', 'co2': 0.15, 'co2_unit': 'kg', 'ch4': 0.004, 'ch4_unit': 'kg', 'n2o': 0.0003, 'n2o_unit': 'kg', 'source': 'IPCC 2006 Guidelines', 'link': 'https://www.ipcc-nggip.iges.or.jp/public/2006gl/', 'type': 'Manure', 'scope': 1}\n",
      "________\n",
      "index: 20\n",
      "data: {'created_time': 1721232177.6696448, 'name': 'Diesel', 'co2': 2.68, 'co2_unit': 'kg', 'ch4': 0.0, 'ch4_unit': 'kg', 'n2o': 0.0, 'n2o_unit': 'kg', 'source': 'EPA Greenhouse Gas Emissions', 'link': 'Greenhouse Gas (GHG) Emissions and Removals | US EPA', 'type': 'Farm machinery', 'scope': 1}\n",
      "________\n",
      "index: 21\n",
      "data: {'created_time': 1721232178.1788116, 'name': 'Gasoline', 'co2': 2.31, 'co2_unit': 'kg', 'ch4': 0.0, 'ch4_unit': 'kg', 'n2o': 0.0, 'n2o_unit': 'kg', 'source': 'EPA Greenhouse Gas Emissions', 'link': 'Greenhouse Gas (GHG) Emissions and Removals | US EPA', 'type': 'Farm machinery', 'scope': 1}\n",
      "________\n",
      "index: 22\n",
      "data: {'created_time': 1721232178.6925306, 'name': 'Electricity', 'co2': 0.527, 'co2_unit': 'kg', 'ch4': 0.0, 'ch4_unit': 'kg', 'n2o': 0.0, 'n2o_unit': 'kg', 'source': 'The International Energy Agency (IEA)', 'link': 'IEA – International Energy Agency', 'type': 'Farm machinery', 'scope': 2}\n",
      "________\n",
      "Execution time: 11.908989906311035 seconds\n"
     ]
    }
   ],
   "source": [
    "df = pd.read_excel('../data/EF_Table.xlsx')\n",
    "start = time.time()\n",
    "write_data_to_firestore(df)\n",
    "end = time.time()\n",
    "print(f'Execution time: {end - start} seconds')"
   ],
   "metadata": {
    "collapsed": false,
    "ExecuteTime": {
     "end_time": "2024-07-17T16:02:58.835572600Z",
     "start_time": "2024-07-17T16:02:46.895138300Z"
    }
   },
   "id": "dc31931cdcb81089",
   "execution_count": 7
  },
  {
   "cell_type": "code",
   "outputs": [],
   "source": [
    "col_ref = db.collection(\"emission_factors\")"
   ],
   "metadata": {
    "collapsed": false,
    "ExecuteTime": {
     "end_time": "2024-07-17T16:47:39.021045400Z",
     "start_time": "2024-07-17T16:47:38.998848Z"
    }
   },
   "id": "89fb95e64db0fa14",
   "execution_count": 9
  },
  {
   "cell_type": "code",
   "outputs": [],
   "source": [
    "res = col_ref.stream()"
   ],
   "metadata": {
    "collapsed": false,
    "ExecuteTime": {
     "end_time": "2024-07-17T16:52:37.373786300Z",
     "start_time": "2024-07-17T16:52:37.362589200Z"
    }
   },
   "id": "80bc5a90921e5f40",
   "execution_count": 16
  },
  {
   "cell_type": "code",
   "outputs": [],
   "source": [
    "docs = [{\"id\": doc.id, **doc.to_dict()} for doc in res]"
   ],
   "metadata": {
    "collapsed": false,
    "ExecuteTime": {
     "end_time": "2024-07-17T16:52:38.529648800Z",
     "start_time": "2024-07-17T16:52:37.937046900Z"
    }
   },
   "id": "9c5e71e8445e1f7d",
   "execution_count": 17
  },
  {
   "cell_type": "code",
   "outputs": [
    {
     "data": {
      "text/plain": "[{'id': '19DNgzQYCCCqOftVngE8',\n  'co2_unit': 'kg',\n  'type': 'Fertiliser / waste application',\n  'scope': 1,\n  'source': 'IPCC 2006 Guidelines',\n  'n2o': 0.0,\n  'link': 'https://www.ipcc-nggip.iges.or.jp/public/2006gl/',\n  'created_time': 1721232175.612927,\n  'co2': 0.0,\n  'n2o_unit': 'kg',\n  'ch4_unit': 'kg',\n  'ch4': 0.015,\n  'name': 'Landfilling'},\n {'id': '1En4CngxhbkBbliZdXUG',\n  'co2_unit': 'kg',\n  'type': 'Fertiliser / waste application',\n  'scope': 1,\n  'source': 'Ecoinvent - Life cycle databases',\n  'n2o': 0.0,\n  'link': 'ecoinvent - Data with purpose.',\n  'created_time': 1721232173.576673,\n  'co2': 10.0,\n  'n2o_unit': 'kg',\n  'ch4_unit': 'kg',\n  'ch4': 0.0,\n  'name': 'Fungicide'},\n {'id': '4ZCSPrTw1obFyydXAVyJ',\n  'co2_unit': 'kg',\n  'type': 'Farm machinery',\n  'scope': 2,\n  'source': 'The International Energy Agency (IEA)',\n  'n2o': 0.0,\n  'link': 'IEA – International Energy Agency',\n  'created_time': 1721232178.6925306,\n  'co2': 0.527,\n  'n2o_unit': 'kg',\n  'ch4_unit': 'kg',\n  'ch4': 0.0,\n  'name': 'Electricity'},\n {'id': '4bWMWRWLrETP0Rn0W0Vv',\n  'co2_unit': 'kg',\n  'type': 'Biomass burning',\n  'scope': 1,\n  'source': 'IPCC 2006 Guidelines',\n  'n2o': 7e-05,\n  'link': 'https://www.ipcc-nggip.iges.or.jp/public/2006gl/',\n  'created_time': 1721232176.6430442,\n  'co2': 0.0,\n  'n2o_unit': 'kg',\n  'ch4_unit': 'kg',\n  'ch4': 0.0027,\n  'name': 'Burning crop'},\n {'id': '9GN74QLVERgxnuOYmrOJ',\n  'co2_unit': 'kg',\n  'type': 'Biomass burning',\n  'scope': 1,\n  'source': 'IPCC 2006 Guidelines',\n  'n2o': 0.0,\n  'link': 'https://www.ipcc-nggip.iges.or.jp/public/2006gl/',\n  'created_time': 1721232176.1250355,\n  'co2': 0.9,\n  'n2o_unit': 'kg',\n  'ch4_unit': 'kg',\n  'ch4': 0.0,\n  'name': 'Incineration'},\n {'id': 'GkX20qKveiAo5EPtzCeg',\n  'co2_unit': 'kg',\n  'type': 'Manure',\n  'scope': 1,\n  'source': 'IPCC 2006 Guidelines',\n  'n2o': 0.0003,\n  'link': 'https://www.ipcc-nggip.iges.or.jp/public/2006gl/',\n  'created_time': 1721232177.1569695,\n  'co2': 0.15,\n  'n2o_unit': 'kg',\n  'ch4_unit': 'kg',\n  'ch4': 0.004,\n  'name': 'Composting'},\n {'id': 'IgcgRWiR1swlNUyBaEJt',\n  'co2_unit': 'kg',\n  'type': 'Farm machinery',\n  'scope': 1,\n  'source': 'EPA Greenhouse Gas Emissions',\n  'n2o': 0.0,\n  'link': 'Greenhouse Gas (GHG) Emissions and Removals | US EPA',\n  'created_time': 1721232177.6696448,\n  'co2': 2.68,\n  'n2o_unit': 'kg',\n  'ch4_unit': 'kg',\n  'ch4': 0.0,\n  'name': 'Diesel'},\n {'id': 'L0qtBahHyGKbKyh8Zbba',\n  'co2_unit': 'kg',\n  'type': 'Rice cultivation',\n  'scope': 1,\n  'source': 'IPCC 2006 Guidelines',\n  'n2o': 0.0,\n  'link': 'https://www.ipcc-nggip.iges.or.jp/public/2006gl/',\n  'created_time': 1721232170.4909074,\n  'co2': 0.0,\n  'n2o_unit': 'kg',\n  'ch4_unit': 'kg',\n  'ch4': 0.29,\n  'name': 'Straw incorporated long (>30 days) before cultivation'},\n {'id': 'LSCr2AgHdDrgcUXte15C',\n  'co2_unit': 'kg',\n  'type': 'Fertiliser / waste application',\n  'scope': 1,\n  'source': 'Ecoinvent - Life cycle databases',\n  'n2o': 0.0,\n  'link': 'ecoinvent - Data with purpose.',\n  'created_time': 1721232174.0779283,\n  'co2': 20.0,\n  'n2o_unit': 'kg',\n  'ch4_unit': 'kg',\n  'ch4': 0.0,\n  'name': 'Insecticide'},\n {'id': 'Nay49PE7zqdI6yCcG0yq',\n  'co2_unit': 'kg',\n  'type': 'Rice cultivation',\n  'scope': 1,\n  'source': 'IPCC 2006 Guidelines',\n  'n2o': 0.0,\n  'link': 'https://www.ipcc-nggip.iges.or.jp/public/2006gl/',\n  'created_time': 1721232168.9529018,\n  'co2': 0.0,\n  'n2o_unit': 'kg',\n  'ch4_unit': 'kg',\n  'ch4': 0.2,\n  'name': 'Rainfed/Deep water'},\n {'id': 'PyodOpKea2PH9HJRXpJL',\n  'co2_unit': 'kg',\n  'type': 'Fertiliser / waste application',\n  'scope': 1,\n  'source': 'IPCC 2006 Guidelines',\n  'n2o': 0.0,\n  'link': 'https://www.ipcc-nggip.iges.or.jp/public/2006gl/',\n  'created_time': 1721232171.004291,\n  'co2': 0.0,\n  'n2o_unit': 'kg',\n  'ch4_unit': 'kg',\n  'ch4': 0.05,\n  'name': 'Compost'},\n {'id': 'QOYdsQMn04JNXKLYDF5b',\n  'co2_unit': 'kg',\n  'type': 'Rice cultivation',\n  'scope': 1,\n  'source': 'IPCC 2006 Guidelines',\n  'n2o': 0.0,\n  'link': 'https://www.ipcc-nggip.iges.or.jp/public/2006gl/',\n  'created_time': 1721232169.4642298,\n  'co2': 0.0,\n  'n2o_unit': 'kg',\n  'ch4_unit': 'kg',\n  'ch4': 0.1,\n  'name': 'Upland (Not flooded at all)'},\n {'id': 'Qy2DFkLvV90ByEvvdn3f',\n  'co2_unit': 'kg',\n  'type': 'Manure',\n  'scope': 1,\n  'source': 'IPCC 2006 Guidelines',\n  'n2o': 0.0,\n  'link': 'https://www.ipcc-nggip.iges.or.jp/public/2006gl/',\n  'created_time': 1721232172.0340202,\n  'co2': 0.0,\n  'n2o_unit': 'kg',\n  'ch4_unit': 'kg',\n  'ch4': 0.5,\n  'name': 'Green manure'},\n {'id': 'RoKYRXzSK2dXXJ1pPzsn',\n  'co2_unit': 'kg',\n  'type': 'Fertiliser / waste application',\n  'scope': 1,\n  'source': 'IPCC 2006 Guidelines',\n  'n2o': 0.01,\n  'link': 'https://www.ipcc-nggip.iges.or.jp/public/2006gl/',\n  'created_time': 1721232174.5834978,\n  'co2': 0.0,\n  'n2o_unit': 'kg',\n  'ch4_unit': 'kg',\n  'ch4': 0.0,\n  'name': 'Synthetic fertilizer'},\n {'id': 'SdHkaC9KzYwvIKg9ENuS',\n  'co2_unit': 'kg',\n  'type': 'Manure',\n  'scope': 1,\n  'source': 'IPCC 2006 Guidelines',\n  'n2o': 0.01,\n  'link': 'https://www.ipcc-nggip.iges.or.jp/public/2006gl/',\n  'created_time': 1721232175.098008,\n  'co2': 0.0,\n  'n2o_unit': 'kg',\n  'ch4_unit': 'kg',\n  'ch4': 0.0,\n  'name': 'Animal manure'},\n {'id': 'czOmW53cny9f6JLN0vdX',\n  'co2_unit': 'kg',\n  'type': 'Rice cultivation',\n  'scope': 1,\n  'source': 'IPCC 2006 Guidelines',\n  'n2o': 0.0,\n  'link': 'https://www.ipcc-nggip.iges.or.jp/public/2006gl/',\n  'created_time': 1721232167.929088,\n  'co2': 0.0,\n  'n2o_unit': 'kg',\n  'ch4_unit': 'kg',\n  'ch4': 0.8,\n  'name': 'Intermittent Flooding (Single aeration)'},\n {'id': 'gHCb4NwZb9Eb44HvmVDa',\n  'co2_unit': 'kg',\n  'type': 'Rice cultivation',\n  'scope': 1,\n  'source': 'IPCC 2006 Guidelines',\n  'n2o': 0.0,\n  'link': 'https://www.ipcc-nggip.iges.or.jp/public/2006gl/',\n  'created_time': 1721232169.978073,\n  'co2': 0.0,\n  'n2o_unit': 'kg',\n  'ch4_unit': 'kg',\n  'ch4': 1.0,\n  'name': 'Straw incorporated shortly (<30 days) before cultivation'},\n {'id': 'lJXtScuI2x7kGXLGrC40',\n  'co2_unit': 'kg',\n  'type': 'Rice cultivation',\n  'scope': 1,\n  'source': 'IPCC 2006 Guidelines',\n  'n2o': 0.0,\n  'link': 'https://www.ipcc-nggip.iges.or.jp/public/2006gl/',\n  'created_time': 1721232167.4153035,\n  'co2': 0.0,\n  'n2o_unit': 'kg',\n  'ch4_unit': 'kg',\n  'ch4': 1.3,\n  'name': 'Continuous Flooding'},\n {'id': 'pPAMUHuq5SnOBpOnv7am',\n  'co2_unit': 'kg',\n  'type': 'Fertiliser / waste application',\n  'scope': 1,\n  'source': 'Ecoinvent - Life cycle databases',\n  'n2o': 0.0,\n  'link': 'ecoinvent - Data with purpose.',\n  'created_time': 1721232173.0616643,\n  'co2': 15.0,\n  'n2o_unit': 'kg',\n  'ch4_unit': 'kg',\n  'ch4': 0.0,\n  'name': 'Herbicide'},\n {'id': 'q01PY2eXkae4TjRSYg6g',\n  'co2_unit': 'kg',\n  'type': 'Farm machinery',\n  'scope': 1,\n  'source': 'EPA Greenhouse Gas Emissions',\n  'n2o': 0.0,\n  'link': 'Greenhouse Gas (GHG) Emissions and Removals | US EPA',\n  'created_time': 1721232178.1788116,\n  'co2': 2.31,\n  'n2o_unit': 'kg',\n  'ch4_unit': 'kg',\n  'ch4': 0.0,\n  'name': 'Gasoline'},\n {'id': 'tedKjX4te2M29wyCjcdX',\n  'co2_unit': 'kg',\n  'type': 'Rice cultivation',\n  'scope': 1,\n  'source': 'IPCC 2006 Guidelines',\n  'n2o': 0.0,\n  'link': 'https://www.ipcc-nggip.iges.or.jp/public/2006gl/',\n  'created_time': 1721232168.4406793,\n  'co2': 0.0,\n  'n2o_unit': 'kg',\n  'ch4_unit': 'kg',\n  'ch4': 0.5,\n  'name': 'Intermittently Flooded Fields (Multiple Aeration)'},\n {'id': 'u14tdYkoi6pRjUHsv5Zr',\n  'co2_unit': 'kg',\n  'type': 'Manure',\n  'scope': 1,\n  'source': 'IPCC 2006 Guidelines',\n  'n2o': 0.0,\n  'link': 'https://www.ipcc-nggip.iges.or.jp/public/2006gl/',\n  'created_time': 1721232171.5189018,\n  'co2': 0.0,\n  'n2o_unit': 'kg',\n  'ch4_unit': 'kg',\n  'ch4': 0.14,\n  'name': 'Farm yard manure'},\n {'id': 'zBJ9pmeNfnhSSqZAkqve',\n  'co2_unit': 'kg',\n  'type': 'Fertiliser / waste application',\n  'scope': 1,\n  'source': 'Ecoinvent - Life cycle databases',\n  'n2o': 0.0,\n  'link': 'ecoinvent - Data with purpose.',\n  'created_time': 1721232172.546598,\n  'co2': 18.3,\n  'n2o_unit': 'kg',\n  'ch4_unit': 'kg',\n  'ch4': 0.0,\n  'name': 'Pesticide'}]"
     },
     "execution_count": 18,
     "metadata": {},
     "output_type": "execute_result"
    }
   ],
   "source": [
    "docs"
   ],
   "metadata": {
    "collapsed": false,
    "ExecuteTime": {
     "end_time": "2024-07-17T16:52:40.324518700Z",
     "start_time": "2024-07-17T16:52:40.297285Z"
    }
   },
   "id": "e31653b1da026fe7",
   "execution_count": 18
  },
  {
   "cell_type": "code",
   "outputs": [],
   "source": [],
   "metadata": {
    "collapsed": false
   },
   "id": "57956b77290c5c32"
  }
 ],
 "metadata": {
  "kernelspec": {
   "display_name": "Python 3",
   "language": "python",
   "name": "python3"
  },
  "language_info": {
   "codemirror_mode": {
    "name": "ipython",
    "version": 2
   },
   "file_extension": ".py",
   "mimetype": "text/x-python",
   "name": "python",
   "nbconvert_exporter": "python",
   "pygments_lexer": "ipython2",
   "version": "2.7.6"
  }
 },
 "nbformat": 4,
 "nbformat_minor": 5
}
