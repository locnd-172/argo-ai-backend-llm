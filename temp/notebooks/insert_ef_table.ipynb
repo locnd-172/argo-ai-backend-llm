{
 "cells": [
  {
   "cell_type": "code",
   "outputs": [],
   "source": [
    "import time\n",
    "import pandas as pd\n",
    "from datetime import datetime\n",
    "import firebase_admin\n",
    "from firebase_admin import credentials, firestore"
   ],
   "metadata": {
    "collapsed": false,
    "ExecuteTime": {
     "end_time": "2024-07-20T15:02:33.488371500Z",
     "start_time": "2024-07-20T15:02:33.472373500Z"
    }
   },
   "id": "f6b9d5de2fb5e993",
   "execution_count": 7
  },
  {
   "cell_type": "code",
   "outputs": [],
   "source": [
    "cred = credentials.Certificate('../../src/config/argoai-63051-firebase-adminsdk-ykwbi-a14bbb8c68.json')\n",
    "\n",
    "app = firebase_admin.initialize_app(cred)\n",
    "db = firestore.client()"
   ],
   "metadata": {
    "collapsed": false,
    "ExecuteTime": {
     "end_time": "2024-07-20T15:02:33.811162900Z",
     "start_time": "2024-07-20T15:02:33.754189200Z"
    }
   },
   "id": "68fa004865cc5261",
   "execution_count": 8
  },
  {
   "cell_type": "code",
   "outputs": [],
   "source": [
    "bulk_writer = db.bulk_writer()\n",
    "batch = db.batch()\n",
    "collection = db.collection('emission_factors')\n"
   ],
   "metadata": {
    "collapsed": false,
    "ExecuteTime": {
     "end_time": "2024-07-20T15:02:34.317421100Z",
     "start_time": "2024-07-20T15:02:34.295421900Z"
    }
   },
   "id": "fdd4a140a368189e",
   "execution_count": 9
  },
  {
   "cell_type": "code",
   "outputs": [],
   "source": [
    "def create_data_item(row):\n",
    "    return {\n",
    "        \"created_time\": time.time(),\n",
    "        \"name\": row.get(\"name\", \"\"),\n",
    "        \"identity_title\": row.get(\"identity_title\", \"\"),\n",
    "        \"description\": row.get(\"description\", \"\"),\n",
    "        \"co2\": float(row.get(\"co2\", 0)),\n",
    "        \"co2_unit\": row.get(\"co2_unit\", \"kg/ha\"),\n",
    "        \"ch4\": float(row.get(\"ch4\", 0)),\n",
    "        \"ch4_unit\": row.get(\"ch4_unit\", \"kg/ha\"),\n",
    "        \"n2o\": float(row.get(\"n2o\", 0)),\n",
    "        \"n2o_unit\": row.get(\"n2o_unit\", \"kg/ha\"),\n",
    "        \"source\": row.get(\"source\", None),\n",
    "        \"link\": row.get(\"link\", None),\n",
    "        \"type\": row.get(\"type\", None),\n",
    "        \"scope\": int(row.get(\"scope\", 1)),\n",
    "    }"
   ],
   "metadata": {
    "collapsed": false,
    "ExecuteTime": {
     "end_time": "2024-07-20T15:03:28.301986Z",
     "start_time": "2024-07-20T15:03:28.278985400Z"
    }
   },
   "id": "1daa1e4746a7e97",
   "execution_count": 16
  },
  {
   "cell_type": "code",
   "outputs": [],
   "source": [
    "def write_data_to_firestore(df):\n",
    "    bulk_writer = db.bulk_writer()\n",
    "\n",
    "    for index, row in df.iterrows():\n",
    "        print(f\"index: {index}\")\n",
    "        time.sleep(0.5)\n",
    "        data_item = create_data_item(row)\n",
    "        doc_ref = db.collection(\"emission_factors\").document()\n",
    "        print(f\"data: {data_item}\")\n",
    "        print(\"________\")\n",
    "        bulk_writer.set(doc_ref, data_item)\n",
    "\n",
    "    bulk_writer.flush()"
   ],
   "metadata": {
    "collapsed": false,
    "ExecuteTime": {
     "end_time": "2024-07-20T15:03:29.025996500Z",
     "start_time": "2024-07-20T15:03:28.858999300Z"
    }
   },
   "id": "ae8ea9442b7a91df",
   "execution_count": 17
  },
  {
   "cell_type": "code",
   "outputs": [],
   "source": [
    "df = pd.read_excel('../data/EF_Table.xlsx')"
   ],
   "metadata": {
    "collapsed": false,
    "ExecuteTime": {
     "end_time": "2024-07-20T15:03:29.260701500Z",
     "start_time": "2024-07-20T15:03:29.230705500Z"
    }
   },
   "id": "e3829b46824b5d6e",
   "execution_count": 18
  },
  {
   "cell_type": "code",
   "outputs": [],
   "source": [
    "def process_name(name):\n",
    "    words = name.split(\" \")\n",
    "    words = [word.lower() for word in words]\n",
    "    title = \"_\".join(words)\n",
    "    return title"
   ],
   "metadata": {
    "collapsed": false,
    "ExecuteTime": {
     "end_time": "2024-07-20T15:03:30.040959200Z",
     "start_time": "2024-07-20T15:03:30.029959600Z"
    }
   },
   "id": "5ab1a2b00ab31aa4",
   "execution_count": 19
  },
  {
   "cell_type": "code",
   "outputs": [],
   "source": [
    "df[\"identity_title\"] = df[\"name\"].apply(process_name)"
   ],
   "metadata": {
    "collapsed": false,
    "ExecuteTime": {
     "end_time": "2024-07-20T15:03:30.628797200Z",
     "start_time": "2024-07-20T15:03:30.603799800Z"
    }
   },
   "id": "9d591be04cd41bff",
   "execution_count": 20
  },
  {
   "cell_type": "code",
   "outputs": [
    {
     "data": {
      "text/plain": "                             name  \\\n0             Continuous Flooding   \n1           Intermittent Flooding   \n2   Intermittently Flooded Fields   \n3              Rainfed/Deep water   \n4                          Upland   \n5      Straw incorporated shortly   \n6         Straw incorporated long   \n7                         Compost   \n8                Farm yard manure   \n9                    Green manure   \n10                      Pesticide   \n11                      Herbicide   \n12                      Fungicide   \n13                    Insecticide   \n14           Synthetic fertilizer   \n15                  Animal manure   \n16                    Landfilling   \n17                   Incineration   \n18                   Burning crop   \n19                     Composting   \n20                         Diesel   \n21                       Gasoline   \n22                    Electricity   \n\n                                          description     co2 co2_unit  \\\n0                                 Continuous Flooding   0.000       kg   \n1             Intermittent Flooding (Single aeration)   0.000       kg   \n2   Intermittently Flooded Fields (Multiple Aeration)   0.000       kg   \n3                                  Rainfed/Deep water   0.000       kg   \n4                         Upland (Not flooded at all)   0.000       kg   \n5   Straw incorporated shortly (<30 days) before c...   0.000       kg   \n6   Straw incorporated long (>30 days) before cult...   0.000       kg   \n7                                             Compost   0.000       kg   \n8                                    Farm yard manure   0.000       kg   \n9                                        Green manure   0.000       kg   \n10                                          Pesticide  18.300       kg   \n11                                          Herbicide  15.000       kg   \n12                                          Fungicide  10.000       kg   \n13                                        Insecticide  20.000       kg   \n14                               Synthetic fertilizer   0.000       kg   \n15                                      Animal manure   0.000       kg   \n16                                        Landfilling   0.000       kg   \n17                                       Incineration   0.900       kg   \n18                                       Burning crop   0.000       kg   \n19                                         Composting   0.150       kg   \n20                                             Diesel   2.680       kg   \n21                                           Gasoline   2.310       kg   \n22                                        Electricity   0.527       kg   \n\n       ch4 ch4_unit      n2o n2o_unit                                 source  \\\n0   1.3000       kg  0.00000       kg                   IPCC 2006 Guidelines   \n1   0.8000       kg  0.00000       kg                   IPCC 2006 Guidelines   \n2   0.5000       kg  0.00000       kg                   IPCC 2006 Guidelines   \n3   0.2000       kg  0.00000       kg                   IPCC 2006 Guidelines   \n4   0.1000       kg  0.00000       kg                   IPCC 2006 Guidelines   \n5   1.0000       kg  0.00000       kg                   IPCC 2006 Guidelines   \n6   0.2900       kg  0.00000       kg                   IPCC 2006 Guidelines   \n7   0.0500       kg  0.00000       kg                   IPCC 2006 Guidelines   \n8   0.1400       kg  0.00000       kg                   IPCC 2006 Guidelines   \n9   0.5000       kg  0.00000       kg                   IPCC 2006 Guidelines   \n10  0.0000       kg  0.00000       kg       Ecoinvent - Life cycle databases   \n11  0.0000       kg  0.00000       kg       Ecoinvent - Life cycle databases   \n12  0.0000       kg  0.00000       kg       Ecoinvent - Life cycle databases   \n13  0.0000       kg  0.00000       kg       Ecoinvent - Life cycle databases   \n14  0.0000       kg  0.01000       kg                   IPCC 2006 Guidelines   \n15  0.0000       kg  0.01000       kg                   IPCC 2006 Guidelines   \n16  0.0150       kg  0.00000       kg                   IPCC 2006 Guidelines   \n17  0.0000       kg  0.00000       kg                   IPCC 2006 Guidelines   \n18  0.0027       kg  0.00007       kg                   IPCC 2006 Guidelines   \n19  0.0040       kg  0.00030       kg                   IPCC 2006 Guidelines   \n20  0.0000       kg  0.00000       kg           EPA Greenhouse Gas Emissions   \n21  0.0000       kg  0.00000       kg           EPA Greenhouse Gas Emissions   \n22  0.0000       kg  0.00000       kg  The International Energy Agency (IEA)   \n\n                                                 link  \\\n0    https://www.ipcc-nggip.iges.or.jp/public/2006gl/   \n1    https://www.ipcc-nggip.iges.or.jp/public/2006gl/   \n2    https://www.ipcc-nggip.iges.or.jp/public/2006gl/   \n3    https://www.ipcc-nggip.iges.or.jp/public/2006gl/   \n4    https://www.ipcc-nggip.iges.or.jp/public/2006gl/   \n5    https://www.ipcc-nggip.iges.or.jp/public/2006gl/   \n6    https://www.ipcc-nggip.iges.or.jp/public/2006gl/   \n7    https://www.ipcc-nggip.iges.or.jp/public/2006gl/   \n8    https://www.ipcc-nggip.iges.or.jp/public/2006gl/   \n9    https://www.ipcc-nggip.iges.or.jp/public/2006gl/   \n10                     ecoinvent - Data with purpose.   \n11                     ecoinvent - Data with purpose.   \n12                     ecoinvent - Data with purpose.   \n13                     ecoinvent - Data with purpose.   \n14   https://www.ipcc-nggip.iges.or.jp/public/2006gl/   \n15   https://www.ipcc-nggip.iges.or.jp/public/2006gl/   \n16   https://www.ipcc-nggip.iges.or.jp/public/2006gl/   \n17   https://www.ipcc-nggip.iges.or.jp/public/2006gl/   \n18   https://www.ipcc-nggip.iges.or.jp/public/2006gl/   \n19   https://www.ipcc-nggip.iges.or.jp/public/2006gl/   \n20  Greenhouse Gas (GHG) Emissions and Removals | ...   \n21  Greenhouse Gas (GHG) Emissions and Removals | ...   \n22                  IEA – International Energy Agency   \n\n                              type  scope                 identity_title  \n0                 Rice cultivation      1            continuous_flooding  \n1                 Rice cultivation      1          intermittent_flooding  \n2                 Rice cultivation      1  intermittently_flooded_fields  \n3                 Rice cultivation      1             rainfed/deep_water  \n4                 Rice cultivation      1                         upland  \n5                 Rice cultivation      1     straw_incorporated_shortly  \n6                 Rice cultivation      1        straw_incorporated_long  \n7   Fertiliser / waste application      1                        compost  \n8                           Manure      1               farm_yard_manure  \n9                           Manure      1                   green_manure  \n10  Fertiliser / waste application      1                      pesticide  \n11  Fertiliser / waste application      1                      herbicide  \n12  Fertiliser / waste application      1                      fungicide  \n13  Fertiliser / waste application      1                    insecticide  \n14  Fertiliser / waste application      1           synthetic_fertilizer  \n15                          Manure      1                  animal_manure  \n16  Fertiliser / waste application      1                    landfilling  \n17                 Biomass burning      1                   incineration  \n18                 Biomass burning      1                   burning_crop  \n19                          Manure      1                     composting  \n20                  Farm machinery      1                         diesel  \n21                  Farm machinery      1                       gasoline  \n22                  Farm machinery      2                    electricity  ",
      "text/html": "<div>\n<style scoped>\n    .dataframe tbody tr th:only-of-type {\n        vertical-align: middle;\n    }\n\n    .dataframe tbody tr th {\n        vertical-align: top;\n    }\n\n    .dataframe thead th {\n        text-align: right;\n    }\n</style>\n<table border=\"1\" class=\"dataframe\">\n  <thead>\n    <tr style=\"text-align: right;\">\n      <th></th>\n      <th>name</th>\n      <th>description</th>\n      <th>co2</th>\n      <th>co2_unit</th>\n      <th>ch4</th>\n      <th>ch4_unit</th>\n      <th>n2o</th>\n      <th>n2o_unit</th>\n      <th>source</th>\n      <th>link</th>\n      <th>type</th>\n      <th>scope</th>\n      <th>identity_title</th>\n    </tr>\n  </thead>\n  <tbody>\n    <tr>\n      <th>0</th>\n      <td>Continuous Flooding</td>\n      <td>Continuous Flooding</td>\n      <td>0.000</td>\n      <td>kg</td>\n      <td>1.3000</td>\n      <td>kg</td>\n      <td>0.00000</td>\n      <td>kg</td>\n      <td>IPCC 2006 Guidelines</td>\n      <td>https://www.ipcc-nggip.iges.or.jp/public/2006gl/</td>\n      <td>Rice cultivation</td>\n      <td>1</td>\n      <td>continuous_flooding</td>\n    </tr>\n    <tr>\n      <th>1</th>\n      <td>Intermittent Flooding</td>\n      <td>Intermittent Flooding (Single aeration)</td>\n      <td>0.000</td>\n      <td>kg</td>\n      <td>0.8000</td>\n      <td>kg</td>\n      <td>0.00000</td>\n      <td>kg</td>\n      <td>IPCC 2006 Guidelines</td>\n      <td>https://www.ipcc-nggip.iges.or.jp/public/2006gl/</td>\n      <td>Rice cultivation</td>\n      <td>1</td>\n      <td>intermittent_flooding</td>\n    </tr>\n    <tr>\n      <th>2</th>\n      <td>Intermittently Flooded Fields</td>\n      <td>Intermittently Flooded Fields (Multiple Aeration)</td>\n      <td>0.000</td>\n      <td>kg</td>\n      <td>0.5000</td>\n      <td>kg</td>\n      <td>0.00000</td>\n      <td>kg</td>\n      <td>IPCC 2006 Guidelines</td>\n      <td>https://www.ipcc-nggip.iges.or.jp/public/2006gl/</td>\n      <td>Rice cultivation</td>\n      <td>1</td>\n      <td>intermittently_flooded_fields</td>\n    </tr>\n    <tr>\n      <th>3</th>\n      <td>Rainfed/Deep water</td>\n      <td>Rainfed/Deep water</td>\n      <td>0.000</td>\n      <td>kg</td>\n      <td>0.2000</td>\n      <td>kg</td>\n      <td>0.00000</td>\n      <td>kg</td>\n      <td>IPCC 2006 Guidelines</td>\n      <td>https://www.ipcc-nggip.iges.or.jp/public/2006gl/</td>\n      <td>Rice cultivation</td>\n      <td>1</td>\n      <td>rainfed/deep_water</td>\n    </tr>\n    <tr>\n      <th>4</th>\n      <td>Upland</td>\n      <td>Upland (Not flooded at all)</td>\n      <td>0.000</td>\n      <td>kg</td>\n      <td>0.1000</td>\n      <td>kg</td>\n      <td>0.00000</td>\n      <td>kg</td>\n      <td>IPCC 2006 Guidelines</td>\n      <td>https://www.ipcc-nggip.iges.or.jp/public/2006gl/</td>\n      <td>Rice cultivation</td>\n      <td>1</td>\n      <td>upland</td>\n    </tr>\n    <tr>\n      <th>5</th>\n      <td>Straw incorporated shortly</td>\n      <td>Straw incorporated shortly (&lt;30 days) before c...</td>\n      <td>0.000</td>\n      <td>kg</td>\n      <td>1.0000</td>\n      <td>kg</td>\n      <td>0.00000</td>\n      <td>kg</td>\n      <td>IPCC 2006 Guidelines</td>\n      <td>https://www.ipcc-nggip.iges.or.jp/public/2006gl/</td>\n      <td>Rice cultivation</td>\n      <td>1</td>\n      <td>straw_incorporated_shortly</td>\n    </tr>\n    <tr>\n      <th>6</th>\n      <td>Straw incorporated long</td>\n      <td>Straw incorporated long (&gt;30 days) before cult...</td>\n      <td>0.000</td>\n      <td>kg</td>\n      <td>0.2900</td>\n      <td>kg</td>\n      <td>0.00000</td>\n      <td>kg</td>\n      <td>IPCC 2006 Guidelines</td>\n      <td>https://www.ipcc-nggip.iges.or.jp/public/2006gl/</td>\n      <td>Rice cultivation</td>\n      <td>1</td>\n      <td>straw_incorporated_long</td>\n    </tr>\n    <tr>\n      <th>7</th>\n      <td>Compost</td>\n      <td>Compost</td>\n      <td>0.000</td>\n      <td>kg</td>\n      <td>0.0500</td>\n      <td>kg</td>\n      <td>0.00000</td>\n      <td>kg</td>\n      <td>IPCC 2006 Guidelines</td>\n      <td>https://www.ipcc-nggip.iges.or.jp/public/2006gl/</td>\n      <td>Fertiliser / waste application</td>\n      <td>1</td>\n      <td>compost</td>\n    </tr>\n    <tr>\n      <th>8</th>\n      <td>Farm yard manure</td>\n      <td>Farm yard manure</td>\n      <td>0.000</td>\n      <td>kg</td>\n      <td>0.1400</td>\n      <td>kg</td>\n      <td>0.00000</td>\n      <td>kg</td>\n      <td>IPCC 2006 Guidelines</td>\n      <td>https://www.ipcc-nggip.iges.or.jp/public/2006gl/</td>\n      <td>Manure</td>\n      <td>1</td>\n      <td>farm_yard_manure</td>\n    </tr>\n    <tr>\n      <th>9</th>\n      <td>Green manure</td>\n      <td>Green manure</td>\n      <td>0.000</td>\n      <td>kg</td>\n      <td>0.5000</td>\n      <td>kg</td>\n      <td>0.00000</td>\n      <td>kg</td>\n      <td>IPCC 2006 Guidelines</td>\n      <td>https://www.ipcc-nggip.iges.or.jp/public/2006gl/</td>\n      <td>Manure</td>\n      <td>1</td>\n      <td>green_manure</td>\n    </tr>\n    <tr>\n      <th>10</th>\n      <td>Pesticide</td>\n      <td>Pesticide</td>\n      <td>18.300</td>\n      <td>kg</td>\n      <td>0.0000</td>\n      <td>kg</td>\n      <td>0.00000</td>\n      <td>kg</td>\n      <td>Ecoinvent - Life cycle databases</td>\n      <td>ecoinvent - Data with purpose.</td>\n      <td>Fertiliser / waste application</td>\n      <td>1</td>\n      <td>pesticide</td>\n    </tr>\n    <tr>\n      <th>11</th>\n      <td>Herbicide</td>\n      <td>Herbicide</td>\n      <td>15.000</td>\n      <td>kg</td>\n      <td>0.0000</td>\n      <td>kg</td>\n      <td>0.00000</td>\n      <td>kg</td>\n      <td>Ecoinvent - Life cycle databases</td>\n      <td>ecoinvent - Data with purpose.</td>\n      <td>Fertiliser / waste application</td>\n      <td>1</td>\n      <td>herbicide</td>\n    </tr>\n    <tr>\n      <th>12</th>\n      <td>Fungicide</td>\n      <td>Fungicide</td>\n      <td>10.000</td>\n      <td>kg</td>\n      <td>0.0000</td>\n      <td>kg</td>\n      <td>0.00000</td>\n      <td>kg</td>\n      <td>Ecoinvent - Life cycle databases</td>\n      <td>ecoinvent - Data with purpose.</td>\n      <td>Fertiliser / waste application</td>\n      <td>1</td>\n      <td>fungicide</td>\n    </tr>\n    <tr>\n      <th>13</th>\n      <td>Insecticide</td>\n      <td>Insecticide</td>\n      <td>20.000</td>\n      <td>kg</td>\n      <td>0.0000</td>\n      <td>kg</td>\n      <td>0.00000</td>\n      <td>kg</td>\n      <td>Ecoinvent - Life cycle databases</td>\n      <td>ecoinvent - Data with purpose.</td>\n      <td>Fertiliser / waste application</td>\n      <td>1</td>\n      <td>insecticide</td>\n    </tr>\n    <tr>\n      <th>14</th>\n      <td>Synthetic fertilizer</td>\n      <td>Synthetic fertilizer</td>\n      <td>0.000</td>\n      <td>kg</td>\n      <td>0.0000</td>\n      <td>kg</td>\n      <td>0.01000</td>\n      <td>kg</td>\n      <td>IPCC 2006 Guidelines</td>\n      <td>https://www.ipcc-nggip.iges.or.jp/public/2006gl/</td>\n      <td>Fertiliser / waste application</td>\n      <td>1</td>\n      <td>synthetic_fertilizer</td>\n    </tr>\n    <tr>\n      <th>15</th>\n      <td>Animal manure</td>\n      <td>Animal manure</td>\n      <td>0.000</td>\n      <td>kg</td>\n      <td>0.0000</td>\n      <td>kg</td>\n      <td>0.01000</td>\n      <td>kg</td>\n      <td>IPCC 2006 Guidelines</td>\n      <td>https://www.ipcc-nggip.iges.or.jp/public/2006gl/</td>\n      <td>Manure</td>\n      <td>1</td>\n      <td>animal_manure</td>\n    </tr>\n    <tr>\n      <th>16</th>\n      <td>Landfilling</td>\n      <td>Landfilling</td>\n      <td>0.000</td>\n      <td>kg</td>\n      <td>0.0150</td>\n      <td>kg</td>\n      <td>0.00000</td>\n      <td>kg</td>\n      <td>IPCC 2006 Guidelines</td>\n      <td>https://www.ipcc-nggip.iges.or.jp/public/2006gl/</td>\n      <td>Fertiliser / waste application</td>\n      <td>1</td>\n      <td>landfilling</td>\n    </tr>\n    <tr>\n      <th>17</th>\n      <td>Incineration</td>\n      <td>Incineration</td>\n      <td>0.900</td>\n      <td>kg</td>\n      <td>0.0000</td>\n      <td>kg</td>\n      <td>0.00000</td>\n      <td>kg</td>\n      <td>IPCC 2006 Guidelines</td>\n      <td>https://www.ipcc-nggip.iges.or.jp/public/2006gl/</td>\n      <td>Biomass burning</td>\n      <td>1</td>\n      <td>incineration</td>\n    </tr>\n    <tr>\n      <th>18</th>\n      <td>Burning crop</td>\n      <td>Burning crop</td>\n      <td>0.000</td>\n      <td>kg</td>\n      <td>0.0027</td>\n      <td>kg</td>\n      <td>0.00007</td>\n      <td>kg</td>\n      <td>IPCC 2006 Guidelines</td>\n      <td>https://www.ipcc-nggip.iges.or.jp/public/2006gl/</td>\n      <td>Biomass burning</td>\n      <td>1</td>\n      <td>burning_crop</td>\n    </tr>\n    <tr>\n      <th>19</th>\n      <td>Composting</td>\n      <td>Composting</td>\n      <td>0.150</td>\n      <td>kg</td>\n      <td>0.0040</td>\n      <td>kg</td>\n      <td>0.00030</td>\n      <td>kg</td>\n      <td>IPCC 2006 Guidelines</td>\n      <td>https://www.ipcc-nggip.iges.or.jp/public/2006gl/</td>\n      <td>Manure</td>\n      <td>1</td>\n      <td>composting</td>\n    </tr>\n    <tr>\n      <th>20</th>\n      <td>Diesel</td>\n      <td>Diesel</td>\n      <td>2.680</td>\n      <td>kg</td>\n      <td>0.0000</td>\n      <td>kg</td>\n      <td>0.00000</td>\n      <td>kg</td>\n      <td>EPA Greenhouse Gas Emissions</td>\n      <td>Greenhouse Gas (GHG) Emissions and Removals | ...</td>\n      <td>Farm machinery</td>\n      <td>1</td>\n      <td>diesel</td>\n    </tr>\n    <tr>\n      <th>21</th>\n      <td>Gasoline</td>\n      <td>Gasoline</td>\n      <td>2.310</td>\n      <td>kg</td>\n      <td>0.0000</td>\n      <td>kg</td>\n      <td>0.00000</td>\n      <td>kg</td>\n      <td>EPA Greenhouse Gas Emissions</td>\n      <td>Greenhouse Gas (GHG) Emissions and Removals | ...</td>\n      <td>Farm machinery</td>\n      <td>1</td>\n      <td>gasoline</td>\n    </tr>\n    <tr>\n      <th>22</th>\n      <td>Electricity</td>\n      <td>Electricity</td>\n      <td>0.527</td>\n      <td>kg</td>\n      <td>0.0000</td>\n      <td>kg</td>\n      <td>0.00000</td>\n      <td>kg</td>\n      <td>The International Energy Agency (IEA)</td>\n      <td>IEA – International Energy Agency</td>\n      <td>Farm machinery</td>\n      <td>2</td>\n      <td>electricity</td>\n    </tr>\n  </tbody>\n</table>\n</div>"
     },
     "execution_count": 21,
     "metadata": {},
     "output_type": "execute_result"
    }
   ],
   "source": [
    "df"
   ],
   "metadata": {
    "collapsed": false,
    "ExecuteTime": {
     "end_time": "2024-07-20T15:03:31.391639500Z",
     "start_time": "2024-07-20T15:03:31.344643100Z"
    }
   },
   "id": "e6a11c3c25be2384",
   "execution_count": 21
  },
  {
   "cell_type": "code",
   "outputs": [
    {
     "data": {
      "text/plain": "(23, 13)"
     },
     "execution_count": 22,
     "metadata": {},
     "output_type": "execute_result"
    }
   ],
   "source": [
    "df.shape"
   ],
   "metadata": {
    "collapsed": false,
    "ExecuteTime": {
     "end_time": "2024-07-20T15:03:35.679918200Z",
     "start_time": "2024-07-20T15:03:35.672913600Z"
    }
   },
   "id": "b092b6b727d55bfa",
   "execution_count": 22
  },
  {
   "cell_type": "code",
   "outputs": [
    {
     "name": "stdout",
     "output_type": "stream",
     "text": [
      "index: 0\n",
      "data: {'created_time': 1721487820.892646, 'name': 'Continuous Flooding', 'identity_title': 'continuous_flooding', 'description': 'Continuous Flooding', 'co2': 0.0, 'co2_unit': 'kg', 'ch4': 1.3, 'ch4_unit': 'kg', 'n2o': 0.0, 'n2o_unit': 'kg', 'source': 'IPCC 2006 Guidelines', 'link': 'https://www.ipcc-nggip.iges.or.jp/public/2006gl/', 'type': 'Rice cultivation', 'scope': 1}\n",
      "________\n",
      "index: 1\n",
      "data: {'created_time': 1721487821.4017363, 'name': 'Intermittent Flooding', 'identity_title': 'intermittent_flooding', 'description': 'Intermittent Flooding (Single aeration)', 'co2': 0.0, 'co2_unit': 'kg', 'ch4': 0.8, 'ch4_unit': 'kg', 'n2o': 0.0, 'n2o_unit': 'kg', 'source': 'IPCC 2006 Guidelines', 'link': 'https://www.ipcc-nggip.iges.or.jp/public/2006gl/', 'type': 'Rice cultivation', 'scope': 1}\n",
      "________\n",
      "index: 2\n",
      "data: {'created_time': 1721487821.9089134, 'name': 'Intermittently Flooded Fields', 'identity_title': 'intermittently_flooded_fields', 'description': 'Intermittently Flooded Fields (Multiple Aeration)', 'co2': 0.0, 'co2_unit': 'kg', 'ch4': 0.5, 'ch4_unit': 'kg', 'n2o': 0.0, 'n2o_unit': 'kg', 'source': 'IPCC 2006 Guidelines', 'link': 'https://www.ipcc-nggip.iges.or.jp/public/2006gl/', 'type': 'Rice cultivation', 'scope': 1}\n",
      "________\n",
      "index: 3\n",
      "data: {'created_time': 1721487822.4211442, 'name': 'Rainfed/Deep water', 'identity_title': 'rainfed/deep_water', 'description': 'Rainfed/Deep water', 'co2': 0.0, 'co2_unit': 'kg', 'ch4': 0.2, 'ch4_unit': 'kg', 'n2o': 0.0, 'n2o_unit': 'kg', 'source': 'IPCC 2006 Guidelines', 'link': 'https://www.ipcc-nggip.iges.or.jp/public/2006gl/', 'type': 'Rice cultivation', 'scope': 1}\n",
      "________\n",
      "index: 4\n",
      "data: {'created_time': 1721487822.9362817, 'name': 'Upland', 'identity_title': 'upland', 'description': 'Upland (Not flooded at all)', 'co2': 0.0, 'co2_unit': 'kg', 'ch4': 0.1, 'ch4_unit': 'kg', 'n2o': 0.0, 'n2o_unit': 'kg', 'source': 'IPCC 2006 Guidelines', 'link': 'https://www.ipcc-nggip.iges.or.jp/public/2006gl/', 'type': 'Rice cultivation', 'scope': 1}\n",
      "________\n",
      "index: 5\n",
      "data: {'created_time': 1721487823.4498568, 'name': 'Straw incorporated shortly', 'identity_title': 'straw_incorporated_shortly', 'description': 'Straw incorporated shortly (<30 days) before cultivation', 'co2': 0.0, 'co2_unit': 'kg', 'ch4': 1.0, 'ch4_unit': 'kg', 'n2o': 0.0, 'n2o_unit': 'kg', 'source': 'IPCC 2006 Guidelines', 'link': 'https://www.ipcc-nggip.iges.or.jp/public/2006gl/', 'type': 'Rice cultivation', 'scope': 1}\n",
      "________\n",
      "index: 6\n",
      "data: {'created_time': 1721487823.95165, 'name': 'Straw incorporated long', 'identity_title': 'straw_incorporated_long', 'description': 'Straw incorporated long (>30 days) before cultivation', 'co2': 0.0, 'co2_unit': 'kg', 'ch4': 0.29, 'ch4_unit': 'kg', 'n2o': 0.0, 'n2o_unit': 'kg', 'source': 'IPCC 2006 Guidelines', 'link': 'https://www.ipcc-nggip.iges.or.jp/public/2006gl/', 'type': 'Rice cultivation', 'scope': 1}\n",
      "________\n",
      "index: 7\n",
      "data: {'created_time': 1721487824.4526305, 'name': 'Compost', 'identity_title': 'compost', 'description': 'Compost', 'co2': 0.0, 'co2_unit': 'kg', 'ch4': 0.05, 'ch4_unit': 'kg', 'n2o': 0.0, 'n2o_unit': 'kg', 'source': 'IPCC 2006 Guidelines', 'link': 'https://www.ipcc-nggip.iges.or.jp/public/2006gl/', 'type': 'Fertiliser / waste application', 'scope': 1}\n",
      "________\n",
      "index: 8\n",
      "data: {'created_time': 1721487824.9656801, 'name': 'Farm yard manure', 'identity_title': 'farm_yard_manure', 'description': 'Farm yard manure', 'co2': 0.0, 'co2_unit': 'kg', 'ch4': 0.14, 'ch4_unit': 'kg', 'n2o': 0.0, 'n2o_unit': 'kg', 'source': 'IPCC 2006 Guidelines', 'link': 'https://www.ipcc-nggip.iges.or.jp/public/2006gl/', 'type': 'Manure', 'scope': 1}\n",
      "________\n",
      "index: 9\n",
      "data: {'created_time': 1721487825.4674933, 'name': 'Green manure', 'identity_title': 'green_manure', 'description': 'Green manure', 'co2': 0.0, 'co2_unit': 'kg', 'ch4': 0.5, 'ch4_unit': 'kg', 'n2o': 0.0, 'n2o_unit': 'kg', 'source': 'IPCC 2006 Guidelines', 'link': 'https://www.ipcc-nggip.iges.or.jp/public/2006gl/', 'type': 'Manure', 'scope': 1}\n",
      "________\n",
      "index: 10\n",
      "data: {'created_time': 1721487825.9690173, 'name': 'Pesticide', 'identity_title': 'pesticide', 'description': 'Pesticide', 'co2': 18.3, 'co2_unit': 'kg', 'ch4': 0.0, 'ch4_unit': 'kg', 'n2o': 0.0, 'n2o_unit': 'kg', 'source': 'Ecoinvent - Life cycle databases', 'link': 'ecoinvent - Data with purpose.', 'type': 'Fertiliser / waste application', 'scope': 1}\n",
      "________\n",
      "index: 11\n",
      "data: {'created_time': 1721487826.4835072, 'name': 'Herbicide', 'identity_title': 'herbicide', 'description': 'Herbicide', 'co2': 15.0, 'co2_unit': 'kg', 'ch4': 0.0, 'ch4_unit': 'kg', 'n2o': 0.0, 'n2o_unit': 'kg', 'source': 'Ecoinvent - Life cycle databases', 'link': 'ecoinvent - Data with purpose.', 'type': 'Fertiliser / waste application', 'scope': 1}\n",
      "________\n",
      "index: 12\n",
      "data: {'created_time': 1721487826.997396, 'name': 'Fungicide', 'identity_title': 'fungicide', 'description': 'Fungicide', 'co2': 10.0, 'co2_unit': 'kg', 'ch4': 0.0, 'ch4_unit': 'kg', 'n2o': 0.0, 'n2o_unit': 'kg', 'source': 'Ecoinvent - Life cycle databases', 'link': 'ecoinvent - Data with purpose.', 'type': 'Fertiliser / waste application', 'scope': 1}\n",
      "________\n",
      "index: 13\n",
      "data: {'created_time': 1721487827.5115955, 'name': 'Insecticide', 'identity_title': 'insecticide', 'description': 'Insecticide', 'co2': 20.0, 'co2_unit': 'kg', 'ch4': 0.0, 'ch4_unit': 'kg', 'n2o': 0.0, 'n2o_unit': 'kg', 'source': 'Ecoinvent - Life cycle databases', 'link': 'ecoinvent - Data with purpose.', 'type': 'Fertiliser / waste application', 'scope': 1}\n",
      "________\n",
      "index: 14\n",
      "data: {'created_time': 1721487828.0255983, 'name': 'Synthetic fertilizer', 'identity_title': 'synthetic_fertilizer', 'description': 'Synthetic fertilizer', 'co2': 0.0, 'co2_unit': 'kg', 'ch4': 0.0, 'ch4_unit': 'kg', 'n2o': 0.01, 'n2o_unit': 'kg', 'source': 'IPCC 2006 Guidelines', 'link': 'https://www.ipcc-nggip.iges.or.jp/public/2006gl/', 'type': 'Fertiliser / waste application', 'scope': 1}\n",
      "________\n",
      "index: 15\n",
      "data: {'created_time': 1721487828.5403564, 'name': 'Animal manure', 'identity_title': 'animal_manure', 'description': 'Animal manure', 'co2': 0.0, 'co2_unit': 'kg', 'ch4': 0.0, 'ch4_unit': 'kg', 'n2o': 0.01, 'n2o_unit': 'kg', 'source': 'IPCC 2006 Guidelines', 'link': 'https://www.ipcc-nggip.iges.or.jp/public/2006gl/', 'type': 'Manure', 'scope': 1}\n",
      "________\n",
      "index: 16\n",
      "data: {'created_time': 1721487829.0549078, 'name': 'Landfilling', 'identity_title': 'landfilling', 'description': 'Landfilling', 'co2': 0.0, 'co2_unit': 'kg', 'ch4': 0.015, 'ch4_unit': 'kg', 'n2o': 0.0, 'n2o_unit': 'kg', 'source': 'IPCC 2006 Guidelines', 'link': 'https://www.ipcc-nggip.iges.or.jp/public/2006gl/', 'type': 'Fertiliser / waste application', 'scope': 1}\n",
      "________\n",
      "index: 17\n",
      "data: {'created_time': 1721487829.5696912, 'name': 'Incineration', 'identity_title': 'incineration', 'description': 'Incineration', 'co2': 0.9, 'co2_unit': 'kg', 'ch4': 0.0, 'ch4_unit': 'kg', 'n2o': 0.0, 'n2o_unit': 'kg', 'source': 'IPCC 2006 Guidelines', 'link': 'https://www.ipcc-nggip.iges.or.jp/public/2006gl/', 'type': 'Biomass burning', 'scope': 1}\n",
      "________\n",
      "index: 18\n",
      "data: {'created_time': 1721487830.074111, 'name': 'Burning crop', 'identity_title': 'burning_crop', 'description': 'Burning crop', 'co2': 0.0, 'co2_unit': 'kg', 'ch4': 0.0027, 'ch4_unit': 'kg', 'n2o': 7e-05, 'n2o_unit': 'kg', 'source': 'IPCC 2006 Guidelines', 'link': 'https://www.ipcc-nggip.iges.or.jp/public/2006gl/', 'type': 'Biomass burning', 'scope': 1}\n",
      "________\n",
      "index: 19\n",
      "data: {'created_time': 1721487830.5766463, 'name': 'Composting', 'identity_title': 'composting', 'description': 'Composting', 'co2': 0.15, 'co2_unit': 'kg', 'ch4': 0.004, 'ch4_unit': 'kg', 'n2o': 0.0003, 'n2o_unit': 'kg', 'source': 'IPCC 2006 Guidelines', 'link': 'https://www.ipcc-nggip.iges.or.jp/public/2006gl/', 'type': 'Manure', 'scope': 1}\n",
      "________\n",
      "index: 20\n",
      "data: {'created_time': 1721487831.091712, 'name': 'Diesel', 'identity_title': 'diesel', 'description': 'Diesel', 'co2': 2.68, 'co2_unit': 'kg', 'ch4': 0.0, 'ch4_unit': 'kg', 'n2o': 0.0, 'n2o_unit': 'kg', 'source': 'EPA Greenhouse Gas Emissions', 'link': 'Greenhouse Gas (GHG) Emissions and Removals | US EPA', 'type': 'Farm machinery', 'scope': 1}\n",
      "________\n",
      "index: 21\n",
      "data: {'created_time': 1721487831.6062036, 'name': 'Gasoline', 'identity_title': 'gasoline', 'description': 'Gasoline', 'co2': 2.31, 'co2_unit': 'kg', 'ch4': 0.0, 'ch4_unit': 'kg', 'n2o': 0.0, 'n2o_unit': 'kg', 'source': 'EPA Greenhouse Gas Emissions', 'link': 'Greenhouse Gas (GHG) Emissions and Removals | US EPA', 'type': 'Farm machinery', 'scope': 1}\n",
      "________\n",
      "index: 22\n",
      "data: {'created_time': 1721487832.107702, 'name': 'Electricity', 'identity_title': 'electricity', 'description': 'Electricity', 'co2': 0.527, 'co2_unit': 'kg', 'ch4': 0.0, 'ch4_unit': 'kg', 'n2o': 0.0, 'n2o_unit': 'kg', 'source': 'The International Energy Agency (IEA)', 'link': 'IEA – International Energy Agency', 'type': 'Farm machinery', 'scope': 2}\n",
      "________\n",
      "Execution time: 11.882936000823975 seconds\n"
     ]
    }
   ],
   "source": [
    "# df = pd.read_excel('../data/EF_Table.xlsx')\n",
    "start = time.time()\n",
    "write_data_to_firestore(df)\n",
    "end = time.time()\n",
    "print(f'Execution time: {end - start} seconds')"
   ],
   "metadata": {
    "collapsed": false,
    "ExecuteTime": {
     "end_time": "2024-07-20T15:03:52.292408800Z",
     "start_time": "2024-07-20T15:03:40.379919100Z"
    }
   },
   "id": "dc31931cdcb81089",
   "execution_count": 23
  },
  {
   "cell_type": "code",
   "outputs": [],
   "source": [
    "df.to_excel(\"EF_Table_v2.xlsx\", index=False)"
   ],
   "metadata": {
    "collapsed": false,
    "ExecuteTime": {
     "end_time": "2024-07-20T15:04:08.081115500Z",
     "start_time": "2024-07-20T15:04:08.031116800Z"
    }
   },
   "id": "15709a671d5d53d5",
   "execution_count": 24
  },
  {
   "cell_type": "code",
   "outputs": [],
   "source": [
    "col_ref = db.collection(\"emission_factors\")"
   ],
   "metadata": {
    "collapsed": false
   },
   "id": "89fb95e64db0fa14",
   "execution_count": null
  },
  {
   "cell_type": "code",
   "outputs": [],
   "source": [
    "res = col_ref.stream()"
   ],
   "metadata": {
    "collapsed": false
   },
   "id": "80bc5a90921e5f40",
   "execution_count": null
  },
  {
   "cell_type": "code",
   "outputs": [],
   "source": [
    "docs = [{\"id\": doc.id, **doc.to_dict()} for doc in res]"
   ],
   "metadata": {
    "collapsed": false
   },
   "id": "9c5e71e8445e1f7d",
   "execution_count": null
  },
  {
   "cell_type": "code",
   "outputs": [],
   "source": [
    "docs"
   ],
   "metadata": {
    "collapsed": false
   },
   "id": "e31653b1da026fe7",
   "execution_count": null
  },
  {
   "cell_type": "code",
   "outputs": [],
   "source": [],
   "metadata": {
    "collapsed": false
   },
   "id": "57956b77290c5c32"
  }
 ],
 "metadata": {
  "kernelspec": {
   "display_name": "Python 3",
   "language": "python",
   "name": "python3"
  },
  "language_info": {
   "codemirror_mode": {
    "name": "ipython",
    "version": 2
   },
   "file_extension": ".py",
   "mimetype": "text/x-python",
   "name": "python",
   "nbconvert_exporter": "python",
   "pygments_lexer": "ipython2",
   "version": "2.7.6"
  }
 },
 "nbformat": 4,
 "nbformat_minor": 5
}
