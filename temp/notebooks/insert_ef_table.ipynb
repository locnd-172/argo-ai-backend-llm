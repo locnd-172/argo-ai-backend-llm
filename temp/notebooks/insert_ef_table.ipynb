{
 "cells": [
  {
   "cell_type": "code",
   "source": [
    "import time\n",
    "import pandas as pd\n",
    "from datetime import datetime\n",
    "import firebase_admin\n",
    "from firebase_admin import credentials, firestore"
   ],
   "metadata": {
    "collapsed": false
   },
   "id": "f6b9d5de2fb5e993",
   "outputs": [],
   "execution_count": null
  },
  {
   "cell_type": "code",
   "source": [
    "cred = credentials.Certificate('../../src/config/smart-agri-bbd45-firebase-adminsdk-jfpri-5e03cc48f1.json')\n",
    "\n",
    "app = firebase_admin.initialize_app(cred)\n",
    "db = firestore.client()"
   ],
   "metadata": {
    "collapsed": false
   },
   "id": "68fa004865cc5261",
   "outputs": [],
   "execution_count": null
  },
  {
   "cell_type": "code",
   "source": [
    "bulk_writer = db.bulk_writer()\n",
    "batch = db.batch()\n",
    "collection = db.collection('emission_factors')"
   ],
   "metadata": {
    "collapsed": false
   },
   "id": "fdd4a140a368189e",
   "outputs": [],
   "execution_count": null
  },
  {
   "cell_type": "code",
   "source": [
    "def create_data_item(row):\n",
    "    return {\n",
    "        \"created_time\": time.time(),\n",
    "        \"name\": row.get(\"name\", \"\"),\n",
    "        \"identity_title\": row.get(\"identity_title\", \"\"),\n",
    "        \"description\": row.get(\"description\", \"\"),\n",
    "        \"co2\": float(row.get(\"co2\", 0)),\n",
    "        \"co2_unit\": row.get(\"co2_unit\", \"kg/ha\"),\n",
    "        \"ch4\": float(row.get(\"ch4\", 0)),\n",
    "        \"ch4_unit\": row.get(\"ch4_unit\", \"kg/ha\"),\n",
    "        \"n2o\": float(row.get(\"n2o\", 0)),\n",
    "        \"n2o_unit\": row.get(\"n2o_unit\", \"kg/ha\"),\n",
    "        \"source\": row.get(\"source\", None),\n",
    "        \"link\": row.get(\"link\", None),\n",
    "        \"type\": row.get(\"type\", None),\n",
    "        \"scope\": int(row.get(\"scope\", 1)),\n",
    "    }"
   ],
   "metadata": {
    "collapsed": false
   },
   "id": "1daa1e4746a7e97",
   "outputs": [],
   "execution_count": null
  },
  {
   "cell_type": "code",
   "source": [
    "def write_data_to_firestore(df):\n",
    "    bulk_writer = db.bulk_writer()\n",
    "\n",
    "    for index, row in df.iterrows():\n",
    "        print(f\"index: {index}\")\n",
    "        time.sleep(0.5)\n",
    "        data_item = create_data_item(row)\n",
    "        doc_ref = db.collection(\"emission_factors\").document()\n",
    "        print(f\"data: {data_item}\")\n",
    "        print(\"________\")\n",
    "        bulk_writer.set(doc_ref, data_item)\n",
    "\n",
    "    bulk_writer.flush()"
   ],
   "metadata": {
    "collapsed": false
   },
   "id": "ae8ea9442b7a91df",
   "outputs": [],
   "execution_count": null
  },
  {
   "cell_type": "code",
   "source": [
    "df = pd.read_excel('../data/EF_Table.xlsx')"
   ],
   "metadata": {
    "collapsed": false
   },
   "id": "e3829b46824b5d6e",
   "outputs": [],
   "execution_count": null
  },
  {
   "cell_type": "code",
   "source": [
    "def process_name(name):\n",
    "    words = name.split(\" \")\n",
    "    words = [word.lower() for word in words]\n",
    "    title = \"_\".join(words)\n",
    "    return title"
   ],
   "metadata": {
    "collapsed": false
   },
   "id": "5ab1a2b00ab31aa4",
   "outputs": [],
   "execution_count": null
  },
  {
   "cell_type": "code",
   "source": [
    "df[\"identity_title\"] = df[\"name\"].apply(process_name)"
   ],
   "metadata": {
    "collapsed": false
   },
   "id": "9d591be04cd41bff",
   "outputs": [],
   "execution_count": null
  },
  {
   "cell_type": "code",
   "source": [
    "df"
   ],
   "metadata": {
    "collapsed": false
   },
   "id": "e6a11c3c25be2384",
   "outputs": [],
   "execution_count": null
  },
  {
   "cell_type": "code",
   "source": [
    "df.shape"
   ],
   "metadata": {
    "collapsed": false
   },
   "id": "b092b6b727d55bfa",
   "outputs": [],
   "execution_count": null
  },
  {
   "cell_type": "code",
   "source": [
    "# df = pd.read_excel('../data/EF_Table.xlsx')\n",
    "start = time.time()\n",
    "write_data_to_firestore(df)\n",
    "end = time.time()\n",
    "print(f'Execution time: {end - start} seconds')"
   ],
   "metadata": {
    "collapsed": false
   },
   "id": "dc31931cdcb81089",
   "outputs": [],
   "execution_count": null
  },
  {
   "cell_type": "code",
   "outputs": [],
   "source": [
    "df.to_excel(\"EF_Table_v2.xlsx\", index=False)"
   ],
   "metadata": {
    "collapsed": false
   },
   "id": "15709a671d5d53d5",
   "execution_count": null
  },
  {
   "cell_type": "code",
   "outputs": [],
   "source": [
    "col_ref = db.collection(\"emission_factors\")"
   ],
   "metadata": {
    "collapsed": false
   },
   "id": "89fb95e64db0fa14",
   "execution_count": null
  },
  {
   "cell_type": "code",
   "outputs": [],
   "source": [
    "res = col_ref.stream()"
   ],
   "metadata": {
    "collapsed": false
   },
   "id": "80bc5a90921e5f40",
   "execution_count": null
  },
  {
   "cell_type": "code",
   "outputs": [],
   "source": [
    "docs = [{\"id\": doc.id, **doc.to_dict()} for doc in res]"
   ],
   "metadata": {
    "collapsed": false
   },
   "id": "9c5e71e8445e1f7d",
   "execution_count": null
  },
  {
   "cell_type": "code",
   "outputs": [],
   "source": [
    "docs"
   ],
   "metadata": {
    "collapsed": false
   },
   "id": "e31653b1da026fe7",
   "execution_count": null
  },
  {
   "cell_type": "code",
   "outputs": [],
   "source": [],
   "metadata": {
    "collapsed": false
   },
   "id": "57956b77290c5c32",
   "execution_count": null
  }
 ],
 "metadata": {
  "kernelspec": {
   "display_name": "Python 3",
   "language": "python",
   "name": "python3"
  },
  "language_info": {
   "codemirror_mode": {
    "name": "ipython",
    "version": 2
   },
   "file_extension": ".py",
   "mimetype": "text/x-python",
   "name": "python",
   "nbconvert_exporter": "python",
   "pygments_lexer": "ipython2",
   "version": "2.7.6"
  }
 },
 "nbformat": 4,
 "nbformat_minor": 5
}
