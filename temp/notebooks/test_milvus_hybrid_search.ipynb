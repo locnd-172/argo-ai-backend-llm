{
 "cells": [
  {
   "cell_type": "code",
   "execution_count": null,
   "id": "initial_id",
   "metadata": {
    "collapsed": true
   },
   "outputs": [],
   "source": [
    "! pip install pymilvus[model] datasets"
   ]
  },
  {
   "cell_type": "code",
   "outputs": [],
   "source": [
    "ZILLIZDB_USERNAME = \"db_f551eced4483bcc\"\n",
    "ZILLIZDB_PASSWORD = \"Yn9%Ts4tgkDm/ta/\"\n",
    "ZILLIZDB_HOST = \"in05-2f51803fc57ed00.serverless.gcp-us-west1.cloud.zilliz.com\"\n",
    "ZILLIZDB_PORT = \"19531\"\n",
    "ZILLIZDB_TOKEN = \"f41eb4a7c305fd31720650e0ea5c037dae612fc47865cad5c5edd5429c14e1e96582b2ac87c0abcd26241fa4b3611c3054573682\"\n",
    "ZILLIZDB_COLLECTION_NAME_DOCUMENTS = \"argo_documents_hs\""
   ],
   "metadata": {
    "collapsed": false
   },
   "id": "10789296f695400b",
   "execution_count": null
  },
  {
   "cell_type": "code",
   "outputs": [],
   "source": [
    "import pandas as pd\n",
    "from datasets import load_dataset\n",
    "\n",
    "from pymilvus import (\n",
    "    FieldSchema,\n",
    "    CollectionSchema,\n",
    "    DataType,\n",
    "    Collection,\n",
    "    AnnSearchRequest,\n",
    "    RRFRanker,\n",
    "    connections,\n",
    ")\n",
    "\n",
    "from pymilvus.model.hybrid import BGEM3EmbeddingFunction"
   ],
   "metadata": {
    "collapsed": false
   },
   "id": "e3b3e280722269b9",
   "execution_count": null
  },
  {
   "cell_type": "code",
   "outputs": [],
   "source": [
    "dataset = load_dataset(\"tasksource/esci\", split=\"train\")\n",
    "\n",
    "dataset = dataset.select(range(5))\n",
    "dataset = dataset.filter(lambda x: x[\"product_locale\"] == \"us\")\n",
    "dataset"
   ],
   "metadata": {
    "collapsed": false
   },
   "id": "5075dad9cca20ffd",
   "execution_count": null
  },
  {
   "cell_type": "code",
   "outputs": [],
   "source": [
    "source_df = dataset.to_pandas()\n",
    "\n",
    "df = source_df.drop_duplicates(\n",
    "    subset=[\"product_text\", \"product_title\", \"product_bullet_point\", \"product_brand\"]\n",
    ")\n",
    "# Drop rows with missing values\n",
    "df = df.dropna(\n",
    "    subset=[\"product_text\", \"product_title\", \"product_bullet_point\", \"product_brand\"]\n",
    ")\n",
    "df.head()"
   ],
   "metadata": {
    "collapsed": false
   },
   "id": "bac3d66cff033564",
   "execution_count": null
  },
  {
   "cell_type": "code",
   "outputs": [],
   "source": [
    "df[\"merged_text\"] = df[\"product_title\"] + \"\\n\" + df[\"product_text\"] + \"\\n\" + df[\"product_bullet_point\"]\n",
    "docs = df[\"merged_text\"].to_list()"
   ],
   "metadata": {
    "collapsed": false
   },
   "id": "4de32c65ca12c2fe",
   "execution_count": null
  },
  {
   "cell_type": "code",
   "outputs": [],
   "source": [
    "ef = BGEM3EmbeddingFunction(use_fp16=False, device=\"cpu\")\n",
    "dense_dim = ef.dim[\"dense\"]\n",
    "docs_embeddings = ef(docs)\n",
    "query = \"Do you have an example of a Panasonic product?\"\n",
    "query_embeddings = ef([query])"
   ],
   "metadata": {
    "collapsed": false
   },
   "id": "f2b1f4e9c3a4a5be",
   "execution_count": null
  },
  {
   "cell_type": "code",
   "outputs": [],
   "source": [
    "from pymilvus import connections\n",
    "\n",
    "connections.connect(\n",
    "    uri=f'https://{ZILLIZDB_HOST}',\n",
    "    token=ZILLIZDB_TOKEN\n",
    ")"
   ],
   "metadata": {
    "collapsed": false
   },
   "id": "fec52c7a4d3ff97c",
   "execution_count": null
  },
  {
   "cell_type": "code",
   "outputs": [],
   "source": [
    "fields = [\n",
    "    # Use auto generated id as primary key\n",
    "    FieldSchema(\n",
    "        name=\"pk\", dtype=DataType.VARCHAR, is_primary=True, auto_id=True, max_length=100\n",
    "    ),\n",
    "    FieldSchema(name=\"text\", dtype=DataType.VARCHAR, max_length=8192),\n",
    "    FieldSchema(name=\"sparse_vector\", dtype=DataType.SPARSE_FLOAT_VECTOR),\n",
    "    FieldSchema(name=\"dense_vector\", dtype=DataType.FLOAT_VECTOR, dim=dense_dim),\n",
    "]\n",
    "schema = CollectionSchema(fields, \"\")\n",
    "col = Collection(\"sparse_dense_demo\", schema)"
   ],
   "metadata": {
    "collapsed": false
   },
   "id": "9154394da66c2eaf",
   "execution_count": null
  },
  {
   "cell_type": "code",
   "outputs": [],
   "source": [
    "sparse_index = {\"index_type\": \"SPARSE_INVERTED_INDEX\", \"metric_type\": \"IP\"}\n",
    "dense_index = {\"index_type\": \"FLAT\", \"metric_type\": \"COSINE\"}\n",
    "col.create_index(\"sparse_vector\", sparse_index)\n",
    "col.create_index(\"dense_vector\", dense_index)"
   ],
   "metadata": {
    "collapsed": false
   },
   "id": "913951fe2e671f55",
   "execution_count": null
  },
  {
   "cell_type": "code",
   "outputs": [],
   "source": [
    "entities = [\n",
    "    docs,\n",
    "    docs_embeddings[\"sparse\"],\n",
    "    docs_embeddings[\"dense\"],\n",
    "]\n",
    "col.insert(entities)"
   ],
   "metadata": {
    "collapsed": false
   },
   "id": "569a665bd8b204a1",
   "execution_count": null
  },
  {
   "cell_type": "code",
   "outputs": [],
   "source": [
    "col = Collection(\"argo_documents_hs\")"
   ],
   "metadata": {
    "collapsed": false
   },
   "id": "7092018a47ea7792",
   "execution_count": null
  },
  {
   "cell_type": "code",
   "outputs": [],
   "source": [
    "def query_hybrid_search(query: str):\n",
    "    query_embeddings = ef([query])\n",
    "\n",
    "    sparse_req = AnnSearchRequest(\n",
    "        query_embeddings[\"sparse\"], \"sparse_vector\", {\"metric_type\": \"IP\"}, limit=2\n",
    "    )\n",
    "    dense_req = AnnSearchRequest(\n",
    "        query_embeddings[\"dense\"], \"dense_vector\", {\"metric_type\": \"COSINE\"}, limit=2\n",
    "    )\n",
    "\n",
    "    res = col.hybrid_search(\n",
    "        [sparse_req, dense_req], rerank=RRFRanker(), limit=2, output_fields=[\"content\"]\n",
    "    )\n",
    "\n",
    "    return res"
   ],
   "metadata": {
    "collapsed": false
   },
   "id": "fb50e9aa097a70d5",
   "execution_count": null
  },
  {
   "cell_type": "code",
   "outputs": [],
   "source": [
    "sr = query_hybrid_search(\"Tín chỉ carbon là gì?\")[0]"
   ],
   "metadata": {
    "collapsed": false
   },
   "id": "42fc62af2c51153a",
   "execution_count": null
  },
  {
   "cell_type": "code",
   "outputs": [],
   "source": [
    "sr = sr[0]"
   ],
   "metadata": {
    "collapsed": false
   },
   "id": "2f489aabc89a5c00",
   "execution_count": null
  },
  {
   "cell_type": "code",
   "outputs": [],
   "source": [
    "sr"
   ],
   "metadata": {
    "collapsed": false
   },
   "id": "9e4d7baf2c14322a",
   "execution_count": null
  },
  {
   "cell_type": "code",
   "outputs": [],
   "source": [
    "docs = [item.get(\"entity\").get(\"id\") for item in sr]"
   ],
   "metadata": {
    "collapsed": false
   },
   "id": "c2f7f66b19325b33",
   "execution_count": null
  },
  {
   "cell_type": "code",
   "outputs": [],
   "source": [
    "sr.entity"
   ],
   "metadata": {
    "collapsed": false
   },
   "id": "b1b638d27ba48402",
   "execution_count": null
  }
 ],
 "metadata": {
  "kernelspec": {
   "display_name": "Python 3",
   "language": "python",
   "name": "python3"
  },
  "language_info": {
   "codemirror_mode": {
    "name": "ipython",
    "version": 2
   },
   "file_extension": ".py",
   "mimetype": "text/x-python",
   "name": "python",
   "nbconvert_exporter": "python",
   "pygments_lexer": "ipython2",
   "version": "2.7.6"
  }
 },
 "nbformat": 4,
 "nbformat_minor": 5
}
