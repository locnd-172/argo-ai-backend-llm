{
 "cells": [
  {
   "metadata": {},
   "cell_type": "code",
   "source": [
    "from mistralai.client import MistralClient\n",
    "from mistralai.models.chat_completion import ChatMessage\n",
    "\n",
    "model = \"mistral-large-latest\"\n",
    "\n",
    "api_key = 'WbwKVXrrMHUqV5BWUzUB5YBWjOGEUWWw'\n",
    "client = MistralClient(api_key=api_key)\n",
    "\n",
    "def chat_mistral(prompt: str):\n",
    "   messages = [\n",
    "       ChatMessage(role=\"user\", content=prompt)\n",
    "   ]\n",
    "\n",
    "   # No streaming\n",
    "   chat_response = client.chat(\n",
    "       model=model,\n",
    "       messages=messages,\n",
    "   )\n",
    "\n",
    "   return chat_response.choices[0].message.content"
   ],
   "id": "d1660fe73fa2b076",
   "outputs": [],
   "execution_count": null
  },
  {
   "metadata": {},
   "cell_type": "code",
   "source": [
    "import json\n",
    "\n",
    "def get_mistral_response(argobot_answer, question, context):\n",
    "    prompt = '''return a single number in json format. Do not return anything except json'''\n",
    "    prompt = f'''\n",
    "        # Introduction\n",
    "        You are a specialist RAG evaluation.\n",
    "        Your task is to evaluate another chatbot's answer.\n",
    "        \n",
    "        # Instruction\n",
    "        After receiving the another chatbot's answer, you must return 0 if the answer is not in the context, and 1 vice versa.\n",
    "        Keep in mind. Argobot answer and context is in Vietnamese, so you should translate it to English before evaluation.\n",
    "        You can also return 1 if:\n",
    "            - If the question is irrelevant to the context.\n",
    "            - If the chatbot answer is no because of the lack of knowledge, and the context actually does not contain the answer for the question.\n",
    "        Don't be too harsh. A question is relevant if it contains the some keywords in the context.\n",
    "        \n",
    "        Answer is: <argobot_answer>{argobot_answer} <argobot_answer>\n",
    "        Question is: <question>{question} <question>\n",
    "        Context is: <context>{context}<context>\n",
    "        \n",
    "        You must respond in the following structured JSON format, all fields are mandatory:\n",
    "        {{\n",
    "            \"score\": 0 or 1 based on the relevance of answer to the context\n",
    "        }}\n",
    "    '''\n",
    "    score_json = chat_mistral(prompt)\n",
    "    score = json.loads(score_json)['score']\n",
    "    return score\n",
    "# tmp = get_mistral_response(\n",
    "#     argobot_answer='A chicken is black',\n",
    "#     context='Some chickens are yellow, but the rest are red'\n",
    "# )\n",
    "# print(tmp)"
   ],
   "id": "9ba637953f5d0d81",
   "outputs": [],
   "execution_count": null
  },
  {
   "metadata": {},
   "cell_type": "code",
   "source": [
    "import requests\n",
    "\n",
    "def get_chatbot_answer(question):\n",
    "    url = 'http://localhost:8000/api/v1/chat/generateAnswer'\n",
    "    headers = {\n",
    "        'accept': 'application/json'\n",
    "    }\n",
    "    data = {\n",
    "        'session_id': '1',\n",
    "        'sender_message': question\n",
    "    }\n",
    "    \n",
    "    files = {\n",
    "        'file': None\n",
    "    }\n",
    "\n",
    "    response = requests.post(url, headers=headers, data=data, files=files)\n",
    "    \n",
    "    if response.status_code == 200:\n",
    "        # Parse the JSON response\n",
    "        data = response.json()\n",
    "        return data['response']\n",
    "    else:\n",
    "        print(f\"Failed to retrieve data: {response.status_code}\")"
   ],
   "id": "c882b94621bdfdfd",
   "outputs": [],
   "execution_count": null
  },
  {
   "metadata": {},
   "cell_type": "code",
   "source": [
    "import pandas as pd\n",
    "\n",
    "dataset = pd.read_excel('kb_data.xlsx')\n",
    "dataset.head()"
   ],
   "id": "bf627a406c493536",
   "outputs": [],
   "execution_count": null
  },
  {
   "metadata": {},
   "cell_type": "code",
   "source": [
    "#evaluate\n",
    "total_score = 0\n",
    "for i in range(len(dataset)):\n",
    "    question = dataset.iloc[i]['question']\n",
    "    context = dataset.iloc[i]['content']\n",
    "    \n",
    "    answer = get_chatbot_answer(question)\n",
    "    score = get_mistral_response(answer, question, context)\n",
    "    total_score += score\n",
    "    print(i, score, '\\n', question, '\\n', answer)\n",
    "print(total_score, '/', len(dataset))"
   ],
   "id": "62630ef1be6cb32",
   "outputs": [],
   "execution_count": null
  },
  {
   "metadata": {},
   "cell_type": "code",
   "outputs": [],
   "execution_count": null,
   "source": [],
   "id": "1a8762e335f839ef"
  }
 ],
 "metadata": {
  "kernelspec": {
   "display_name": "Python 3",
   "language": "python",
   "name": "python3"
  },
  "language_info": {
   "codemirror_mode": {
    "name": "ipython",
    "version": 2
   },
   "file_extension": ".py",
   "mimetype": "text/x-python",
   "name": "python",
   "nbconvert_exporter": "python",
   "pygments_lexer": "ipython2",
   "version": "2.7.6"
  }
 },
 "nbformat": 4,
 "nbformat_minor": 5
}
